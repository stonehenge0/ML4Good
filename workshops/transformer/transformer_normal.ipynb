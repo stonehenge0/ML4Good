{
    "cells": [
        {
            "cell_type": "markdown",
            "metadata": {},
            "source": [
                "# Transformers from scratch"
            ]
        },
        {
            "cell_type": "markdown",
            "metadata": {},
            "source": [
                "<a href=\"https://colab.research.google.com/github/EffiSciencesResearch/ML4G-2.0/blob/master/workshops/transformer/transformer_normal.ipynb\" target=\"_parent\"><img src=\"https://colab.research.google.com/assets/colab-badge.svg\" alt=\"Open In Colab\"/></a>\n",
                "\n",
                "Thanks to Callum McDougall for this Notebook.\n",
                "\n",
                "We also advise you not to look too much at the bonus or collapsed nerd-sniping stuff."
            ]
        },
        {
            "cell_type": "markdown",
            "metadata": {},
            "source": [
                "<img src=\"https://raw.githubusercontent.com/callummcdougall/TransformerLens-intro/main/images/page_images/transformer-building.png\" width=\"350\">\n"
            ]
        },
        {
            "cell_type": "markdown",
            "metadata": {},
            "source": [
                "# Introduction"
            ]
        },
        {
            "cell_type": "markdown",
            "metadata": {},
            "source": [
                "This is a clean, first principles implementation of GPT-2 in PyTorch. The architectural choices closely follow those used by the TransformerLens library (which you'll be using a lot more in later exercises).\n",
                "\n",
                "Each exercise will have a difficulty and importance rating out of 5, as well as an estimated maximum time you should spend on these exercises and sometimes a short annotation. You should interpret the ratings & time estimates relatively (e.g. if you find yourself spending about 50% longer on the exercises than the time estimates, adjust accordingly). Please do skip exercises / look at solutions if you don't feel like they're important enough to be worth doing, and you'd rather get to the good stuff!\n"
            ]
        },
        {
            "cell_type": "markdown",
            "metadata": {},
            "source": [
                "## Content & Learning Objectives\n"
            ]
        },
        {
            "cell_type": "markdown",
            "metadata": {},
            "source": [
                "#### 1️⃣ Understanding Inputs & Outputs of a Transformer\n",
                "\n",
                "In this section, we'll take a first look at transformers - what their function is, how information moves inside a transformer, and what inputs & outputs they take.\n",
                "\n",
                "> ##### Learning objectives\n",
                ">\n",
                "> - Understand what a transformer is used for\n",
                "> - Understand causal attention, and what a transformer's output representsalgebra operations on tensors\n",
                "> - Learn what tokenization is, and how models do it\n",
                "> - Understand what logits are, and how to use them to derive a probability distribution over the vocabulary\n",
                "\n",
                "#### 2️⃣ Clean Transformer Implementation\n",
                "\n",
                "Here, we'll implement a transformer from scratch, using only PyTorch's tensor operations. This will give us a good understanding of how transformers work, and how to use them. We do this by going module-by-module, in an experience which should feel somewhat similar to last week's ResNet exercises. Much like with ResNets, you'll conclude by loading in pretrained weights and verifying that your model works as expected.\n",
                "\n",
                "> ##### Learning objectives\n",
                ">\n",
                "> * Understand that a transformer is composed of attention heads and MLPs, with each one performing operations on the residual stream\n",
                "> * Understand that the attention heads in a single layer operate independently, and that they have the role of calculating attention patterns (which determine where information is moved to & from in the residual stream)\n",
                "> * Learn about & implement the following transformer modules:\n",
                ">     * (Bonus) LayerNorm (transforming the input to have zero mean and unit variance)\n",
                ">     * Positional embedding (a lookup table from position indices to residual stream vectors)\n",
                ">     * Attention (the method of computing attention patterns for residual stream vectors)\n",
                ">     * MLP (the collection of linear and nonlinear transformations which operate on each residual stream vector in the same way)\n",
                ">     * Embedding (a lookup table from tokens to residual stream vectors)\n",
                ">     * Unembedding (a matrix for converting residual stream vectors into a distribution over tokens)"
            ]
        },
        {
            "cell_type": "markdown",
            "metadata": {},
            "source": [
                "## Setup (don't read, just run!)\n"
            ]
        },
        {
            "cell_type": "code",
            "execution_count": null,
            "metadata": {},
            "outputs": [],
            "source": [
                "%pip install transformer_lens einops jaxtyping circuitsvis -q"
            ]
        },
        {
            "cell_type": "code",
            "execution_count": 1,
            "metadata": {},
            "outputs": [
                {
                    "data": {
                        "application/vnd.jupyter.widget-view+json": {
                            "model_id": "f3dcd7d346774b0bab589e19b868b7f4",
                            "version_major": 2,
                            "version_minor": 0
                        },
                        "text/plain": [
                            "config.json:   0%|          | 0.00/665 [00:00<?, ?B/s]"
                        ]
                    },
                    "metadata": {},
                    "output_type": "display_data"
                },
                {
                    "name": "stderr",
                    "output_type": "stream",
                    "text": [
                        "c:\\Users\\emste\\ML4Good\\.env\\Lib\\site-packages\\huggingface_hub\\file_download.py:147: UserWarning: `huggingface_hub` cache-system uses symlinks by default to efficiently store duplicated files but your machine does not support them in C:\\Users\\emste\\.cache\\huggingface\\hub\\models--gpt2. Caching files will still work but in a degraded version that might require more space on your disk. This warning can be disabled by setting the `HF_HUB_DISABLE_SYMLINKS_WARNING` environment variable. For more details, see https://huggingface.co/docs/huggingface_hub/how-to-cache#limitations.\n",
                        "To support symlinks on Windows, you either need to activate Developer Mode or to run Python as an administrator. In order to activate developer mode, see this article: https://docs.microsoft.com/en-us/windows/apps/get-started/enable-your-device-for-development\n",
                        "  warnings.warn(message)\n"
                    ]
                },
                {
                    "data": {
                        "application/vnd.jupyter.widget-view+json": {
                            "model_id": "d8e4175a617f4382a0d4d9a6cf6c8a99",
                            "version_major": 2,
                            "version_minor": 0
                        },
                        "text/plain": [
                            "model.safetensors:   0%|          | 0.00/548M [00:00<?, ?B/s]"
                        ]
                    },
                    "metadata": {},
                    "output_type": "display_data"
                },
                {
                    "data": {
                        "application/vnd.jupyter.widget-view+json": {
                            "model_id": "3dcb0c387b5547b098bdadb6fcb6fef3",
                            "version_major": 2,
                            "version_minor": 0
                        },
                        "text/plain": [
                            "generation_config.json:   0%|          | 0.00/124 [00:00<?, ?B/s]"
                        ]
                    },
                    "metadata": {},
                    "output_type": "display_data"
                },
                {
                    "data": {
                        "application/vnd.jupyter.widget-view+json": {
                            "model_id": "51ad0732ccff458aadc557a552db6578",
                            "version_major": 2,
                            "version_minor": 0
                        },
                        "text/plain": [
                            "tokenizer_config.json:   0%|          | 0.00/26.0 [00:00<?, ?B/s]"
                        ]
                    },
                    "metadata": {},
                    "output_type": "display_data"
                },
                {
                    "data": {
                        "application/vnd.jupyter.widget-view+json": {
                            "model_id": "8f5cec2400c04c63a95548753d871a3b",
                            "version_major": 2,
                            "version_minor": 0
                        },
                        "text/plain": [
                            "vocab.json:   0%|          | 0.00/1.04M [00:00<?, ?B/s]"
                        ]
                    },
                    "metadata": {},
                    "output_type": "display_data"
                },
                {
                    "data": {
                        "application/vnd.jupyter.widget-view+json": {
                            "model_id": "7ad6318bd58e46f28e8213090e49c3b4",
                            "version_major": 2,
                            "version_minor": 0
                        },
                        "text/plain": [
                            "merges.txt:   0%|          | 0.00/456k [00:00<?, ?B/s]"
                        ]
                    },
                    "metadata": {},
                    "output_type": "display_data"
                },
                {
                    "data": {
                        "application/vnd.jupyter.widget-view+json": {
                            "model_id": "166e98ea2bb749aca412960789e3be4f",
                            "version_major": 2,
                            "version_minor": 0
                        },
                        "text/plain": [
                            "tokenizer.json:   0%|          | 0.00/1.36M [00:00<?, ?B/s]"
                        ]
                    },
                    "metadata": {},
                    "output_type": "display_data"
                },
                {
                    "name": "stderr",
                    "output_type": "stream",
                    "text": [
                        "c:\\Users\\emste\\ML4Good\\.env\\Lib\\site-packages\\transformers\\tokenization_utils_base.py:1601: FutureWarning: `clean_up_tokenization_spaces` was not set. It will be set to `True` by default. This behavior will be depracted in transformers v4.45, and will be then set to `False` by default. For more details check this issue: https://github.com/huggingface/transformers/issues/31884\n",
                        "  warnings.warn(\n"
                    ]
                },
                {
                    "name": "stdout",
                    "output_type": "stream",
                    "text": [
                        "Loaded pretrained model gpt2-small into HookedTransformer\n",
                        "Moving model to device:  cpu\n"
                    ]
                }
            ],
            "source": [
                "# os.environ['ACCELERATE_DISABLE_RICH'] = \"1\"\n",
                "# os.environ['CUDA_LAUNCH_BLOCKING'] = \"1\"\n",
                "import einops\n",
                "from dataclasses import dataclass\n",
                "from transformer_lens import HookedTransformer\n",
                "from transformer_lens.utils import gelu_new\n",
                "import torch\n",
                "from torch import Tensor\n",
                "import torch.nn as nn\n",
                "import math\n",
                "from tqdm.notebook import tqdm\n",
                "from jaxtyping import Float, Int\n",
                "\n",
                "device = torch.device(\"cpu\")\n",
                "\n",
                "reference_gpt2 = HookedTransformer.from_pretrained(\n",
                "    \"gpt2-small\", fold_ln=False, center_unembed=False, center_writing_weights=False\n",
                ").to(device)"
            ]
        },
        {
            "cell_type": "markdown",
            "metadata": {},
            "source": [
                "# 1️⃣ Understanding Inputs & Outputs of a Transformer\n"
            ]
        },
        {
            "cell_type": "markdown",
            "metadata": {},
            "source": [
                "> ### Learning Objectives\n",
                ">\n",
                "> * Understand what a transformer is used for\n",
                "> * Understand causal attention, and what a transformer's output represents\n",
                "> * Learn what tokenization is, and how models do it\n",
                "> * Understand what logits are, and how to use them to derive a probability distribution over the vocabulary\n"
            ]
        },
        {
            "cell_type": "markdown",
            "metadata": {},
            "source": [
                "## What is the point of a transformer?\n"
            ]
        },
        {
            "cell_type": "markdown",
            "metadata": {},
            "source": [
                "**Transformers exist to model text!**\n",
                "\n",
                "We're going to focus GPT-2 style transformers. Key feature: They generate text! You feed in language, and the model generates a probability distribution over tokens. And you can repeatedly sample from this to generate text!\n",
                "\n",
                "(To explain this in more detail - you feed in a sequence of length $N$, then sample from the probability distribution over the $N+1$-th word, use this to construct a new sequence of length $N+1$, then feed this new sequence into the model to get a probability distribution over the $N+2$-th word, and so on.)\n",
                "\n",
                "### How is the model trained?\n",
                "\n",
                "You give it a bunch of text, and train it to predict the next token.\n",
                "\n",
                "Importantly, if you give a model 100 tokens in a sequence, it predicts the next token for *each* prefix, i.e. it produces 100 logit vectors (= probability distributions) over the set of all words in our vocabulary, with the `i`-th logit vector representing the probability distribution over the token *following* the `i`-th token in the sequence.\n",
                "\n",
                "<details>\n",
                "<summary>Aside - logits</summary>\n",
                "\n",
                "If you haven't encountered the term \"logits\" before, here's a quick refresher.\n",
                "\n",
                "Given an arbitrary vector $x$, we can turn it into a probability distribution via the **softmax** function: $x_i \\to \\frac{e^{x_i}}{\\sum e^{x_j}}$. The exponential makes everything positive; the normalization makes it add to one.\n",
                "\n",
                "The model's output is the vector $x$ (one for each prediction it makes). We call this vector a logit because it represents a probability distribution, and it is related to the actual probabilities via the softmax function.\n",
                "</details>\n",
                "\n",
                "How do we stop the transformer by \"cheating\" by just looking at the tokens it's trying to predict? Answer - we make the transformer have *causal attention* (as opposed to *bidirectional attention*). Causal attention only allows information to move forwards in the sequence, never backwards. The prediction of what comes after token 50 is only a function of the first 50 tokens, *not* of token 51. We say the transformer is **autoregressive**, because it only predicts future words based on past data.\n"
            ]
        },
        {
            "cell_type": "markdown",
            "metadata": {},
            "source": [
                "<img src=\"https://raw.githubusercontent.com/callummcdougall/computational-thread-art/master/example_images/misc/transformer-overview-new.png\" width=\"900\">\n"
            ]
        },
        {
            "cell_type": "markdown",
            "metadata": {},
            "source": [
                "## Tokens - Transformer Inputs\n"
            ]
        },
        {
            "cell_type": "markdown",
            "metadata": {},
            "source": [
                "Our tranformer's input is natural language (i.e. a sequence of characters, strings, etc). But ML models generally take vectors as input, not langage. How do we convert language to vectors?\n",
                "\n",
                "We can factor this into 2 questions:\n",
                "\n",
                "1. How do we split up language into small sub-units?\n",
                "2. How do we convert these sub-units into vectors?\n",
                "\n",
                "Let's start with the second of these questions.\n"
            ]
        },
        {
            "cell_type": "markdown",
            "metadata": {},
            "source": [
                "### Converting sub-units to vectors\n",
                "\n",
                "We basically make a massive lookup table, which is called an **embedding**. It has one vector for each possible sub-unit of language we might get (we call this set of all sub-units our **vocabulary**). We label every element in our vocabulary with an integer (this labelling never changes), and we use this integer to index into the embedding.\n",
                "\n",
                "A key intuition is that one-hot encodings let you think about each integer independently. We don't bake in any relation between words when we perform our embedding, because every word has a completely separate embedding vector.\n",
                "\n",
                "<details>\n",
                "<summary>Aside - one-hot encodings</summary>\n",
                "\n",
                "We sometimes think about **one-hot encodings** of words. These are vectors with zeros everywhere, except for a single one in the position corresponding to the word's index in the vocabulary. This means that indexing into the embedding is equivalent to multiplying the **embedding matrix** by the one-hot encoding (where the embedding matrix is the matrix we get by stacking all the embedding vectors on top of each other).\n",
                "\n",
                "$$\n",
                "\\begin{aligned}\n",
                "W_E &= \\begin{bmatrix}\n",
                "\\leftarrow v_0 \\rightarrow \\\\\n",
                "\\leftarrow v_1 \\rightarrow \\\\\n",
                "\\vdots \\\\\n",
                "\\leftarrow v_{d_{vocab}-1} \\rightarrow \\\\\n",
                "\\end{bmatrix} \\quad \\text{is the embedding matrix (size }d_{vocab} \\times d_{embed}\\text{),} \\\\\n",
                "\\\\\n",
                "t_i &= (0, \\dots, 0, 1, 0, \\dots, 0) \\quad \\text{is the one-hot encoding for the }i\\text{th word (length }d_{vocab}\\text{)} \\\\\n",
                "\\\\\n",
                "v_i &= t_i W_E \\quad \\text{is the embedding vector for the }i\\text{th word (length }d_{embed}\\text{).} \\\\\n",
                "\\end{aligned}\n",
                "$$\n",
                "\n",
                "</details>\n",
                "\n",
                "Now, let's answer the first question - how do we split language into sub-units?\n"
            ]
        },
        {
            "cell_type": "markdown",
            "metadata": {},
            "source": [
                "### (Bonus) Splitting language into sub-units\n",
                "\n",
                "We need to define a standard way of splitting up language into a series of substrings, where each substring is a member of our **vocabulary** set.\n",
                "\n",
                "Could we use a dictionary, and have our vocabulary be the set of all words in the dictionary? No, because this couldn't handle arbitrary text (e.g. URLs, punctuation, etc). We need a more general way of splitting up language.\n",
                "\n",
                "Could we just use the 256 ASCII characters? This fixes the previous problem, but it loses structure of language - some sequences of characters are more meaningful than others. For example, \"language\" is a lot more meaningful than \"hjksdfiu\". We want \"language\" to be a single token, but not \"hjksdfiu\" - this is a more efficient use of our vocab.\n",
                "\n",
                "What actually happens? The most common strategy is called **Byte-Pair encodings**.\n",
                "\n",
                "We begin with the 256 ASCII characters as our tokens, and then find the most common pair of tokens, and merge that into a new token. Note that we do have a space character as one of our 256 tokens, and merges using space are very common. For instance, here are the five first merges for the tokenizer used by GPT-2 (you'll be able to verify this below).\n",
                "\n",
                "```\n",
                "\" t\"\n",
                "\" a\"\n",
                "\"he\"\n",
                "\"in\"\n",
                "\"re\"\n",
                "```\n",
                "\n",
                "Note - you might see the character `Ġ` in front of some tokens. This is a special character that indicates that the token begins with a space. Tokens with a leading space vs not are different.\n",
                "\n",
                "You can run the code below to see some more of GPT-2's tokenizer's vocabulary:\n"
            ]
        },
        {
            "cell_type": "code",
            "execution_count": 6,
            "metadata": {},
            "outputs": [
                {
                    "name": "stdout",
                    "output_type": "stream",
                    "text": [
                        "[('!', 0), ('\"', 1), ('#', 2), ('$', 3), ('%', 4), ('&', 5), (\"'\", 6), ('(', 7), (')', 8), ('*', 9), ('+', 10), (',', 11), ('-', 12), ('.', 13), ('/', 14), ('0', 15), ('1', 16), ('2', 17), ('3', 18), ('4', 19)]\n",
                        "\n",
                        "[('ľ', 250), ('Ŀ', 251), ('ŀ', 252), ('Ł', 253), ('ł', 254), ('Ń', 255), ('Ġt', 256), ('Ġa', 257), ('he', 258), ('in', 259), ('re', 260), ('on', 261), ('Ġthe', 262), ('er', 263), ('Ġs', 264), ('at', 265), ('Ġw', 266), ('Ġo', 267), ('en', 268), ('Ġc', 269)]\n",
                        "\n",
                        "[('Ġprodu', 990), ('Ġstill', 991), ('led', 992), ('ah', 993), ('Ġhere', 994), ('Ġworld', 995), ('Ġthough', 996), ('Ġnum', 997), ('arch', 998), ('imes', 999), ('ale', 1000), ('ĠSe', 1001), ('ĠIf', 1002), ('//', 1003), ('ĠLe', 1004), ('Ġret', 1005), ('Ġref', 1006), ('Ġtrans', 1007), ('ner', 1008), ('ution', 1009)]\n",
                        "\n"
                    ]
                }
            ],
            "source": [
                "sorted_vocab = sorted(list(reference_gpt2.tokenizer.vocab.items()), key=lambda n: n[1])\n",
                "print(sorted_vocab[:20])\n",
                "print()\n",
                "print(sorted_vocab[250:270])\n",
                "print()\n",
                "print(sorted_vocab[990:1010])\n",
                "print()"
            ]
        },
        {
            "cell_type": "markdown",
            "metadata": {},
            "source": [
                "As you get to the end of the vocabulary, you'll be producing some pretty weird-looking esoteric tokens (because you'll already have exhausted all of the short frequently-occurring ones):\n"
            ]
        },
        {
            "cell_type": "code",
            "execution_count": 7,
            "metadata": {},
            "outputs": [
                {
                    "name": "stdout",
                    "output_type": "stream",
                    "text": [
                        "[('Revolution', 50237), ('Ġsnipers', 50238), ('Ġreverted', 50239), ('Ġconglomerate', 50240), ('Terry', 50241), ('794', 50242), ('Ġharsher', 50243), ('Ġdesolate', 50244), ('ĠHitman', 50245), ('Commission', 50246), ('Ġ(/', 50247), ('âĢ¦.\"', 50248), ('Compar', 50249), ('Ġamplification', 50250), ('ominated', 50251), ('Ġregress', 50252), ('ĠCollider', 50253), ('Ġinformants', 50254), ('Ġgazed', 50255), ('<|endoftext|>', 50256)]\n"
                    ]
                }
            ],
            "source": [
                "print(sorted_vocab[-20:])"
            ]
        },
        {
            "cell_type": "markdown",
            "metadata": {},
            "source": [
                "Transformers in the `transformer_lens` library have a `to_tokens` method that converts text to numbers. It also prepends them with a special token called BOS (beginning of sequence) to indicate the start of a sequence. You can disable this with the `prepend_bos=False` argument.\n",
                "\n",
                "\n",
                "\n",
                "### Some tokenization annoyances\n",
                "\n",
                "There are a few funky and frustrating things about tokenization, which causes it to behave differently than you might expect. For instance:\n",
                "\n",
                "#### Whether a word begins with a capital or space matters!\n"
            ]
        },
        {
            "cell_type": "code",
            "execution_count": 8,
            "metadata": {},
            "outputs": [
                {
                    "name": "stdout",
                    "output_type": "stream",
                    "text": [
                        "['<|endoftext|>', 'R', 'alph']\n",
                        "['<|endoftext|>', ' Ralph']\n",
                        "['<|endoftext|>', ' r', 'alph']\n",
                        "['<|endoftext|>', 'ral', 'ph']\n"
                    ]
                }
            ],
            "source": [
                "print(reference_gpt2.to_str_tokens(\"Ralph\"))\n",
                "print(reference_gpt2.to_str_tokens(\" Ralph\"))\n",
                "print(reference_gpt2.to_str_tokens(\" ralph\"))\n",
                "print(reference_gpt2.to_str_tokens(\"ralph\"))"
            ]
        },
        {
            "cell_type": "code",
            "execution_count": 10,
            "metadata": {},
            "outputs": [
                {
                    "name": "stdout",
                    "output_type": "stream",
                    "text": [
                        "['<|endoftext|>', 'Wan', 'em', ' nem', ' bil', 'ong', ' y', 'u']\n"
                    ]
                }
            ],
            "source": [
                "print(reference_gpt2.to_str_tokens(\"Wanem nem bilong yu\"))"
            ]
        },
        {
            "cell_type": "markdown",
            "metadata": {},
            "source": [
                "> ### Key Takeaways\n",
                ">\n",
                "> * We learn a dictionary of vocab of tokens (sub-words).\n",
                "> * We (approx) losslessly convert language to integers via tokenizing it.\n",
                "> * We convert integers to vectors via a lookup table.\n",
                "> * Note: input to the transformer is a sequence of *tokens* (ie integers), not vectors\n"
            ]
        },
        {
            "cell_type": "markdown",
            "metadata": {},
            "source": [
                "## Text generation\n",
                "\n",
                "Now that we understand the basic ideas here, let's go through the entire process of text generation, from our original string to a new token which we can append to our string and plug back into the model.\n",
                "\n",
                "#### **Step 1:** Convert text to tokens\n",
                "\n",
                "The sequence gets tokenized, so it has shape `[batch, seq_len]`. Here, the batch dimension is just one (because we only have one sequence).\n"
            ]
        },
        {
            "cell_type": "code",
            "execution_count": 11,
            "metadata": {},
            "outputs": [
                {
                    "name": "stdout",
                    "output_type": "stream",
                    "text": [
                        "tensor([[50256,    40,   716,   281,  4998,  1960,   382, 19741,    11,   875,\n",
                        "         12342,    12,  8807,    11,   402, 11571,    12,    17,  3918, 47385,\n",
                        "            13,  1881,  1110,   314,   481,  7074,  1692,  1241,  4430,   290,\n",
                        "          1011,   625,   262,   995,     0]])\n",
                        "torch.Size([1, 35])\n",
                        "['<|endoftext|>', 'I', ' am', ' an', ' amazing', ' aut', 'ore', 'gressive', ',', ' dec', 'oder', '-', 'only', ',', ' G', 'PT', '-', '2', ' style', ' transformer', '.', ' One', ' day', ' I', ' will', ' exceed', ' human', ' level', ' intelligence', ' and', ' take', ' over', ' the', ' world', '!']\n"
                    ]
                }
            ],
            "source": [
                "reference_text = \"I am an amazing autoregressive, decoder-only, GPT-2 style transformer. One day I will exceed human level intelligence and take over the world!\"\n",
                "tokens = reference_gpt2.to_tokens(reference_text).to(device)\n",
                "print(tokens)\n",
                "print(tokens.shape)\n",
                "print(reference_gpt2.to_str_tokens(tokens))"
            ]
        },
        {
            "cell_type": "markdown",
            "metadata": {},
            "source": [
                "#### **Step 2:** Map tokens to logits\n",
                "\n",
                "\n",
                "From our input of shape `[batch, seq_len]`, we get output of shape `[batch, seq_len, vocab_size]`. The `[i, j, :]`-th element of our output is a vector of logits representing our prediction for the `j+1`-th token in the `i`-th sequence.\n"
            ]
        },
        {
            "cell_type": "code",
            "execution_count": 12,
            "metadata": {},
            "outputs": [
                {
                    "name": "stdout",
                    "output_type": "stream",
                    "text": [
                        "torch.Size([1, 35, 50257])\n"
                    ]
                }
            ],
            "source": [
                "logits, cache = reference_gpt2.run_with_cache(tokens)\n",
                "print(logits.shape)"
            ]
        },
        {
            "cell_type": "markdown",
            "metadata": {},
            "source": [
                "(`run_with_cache` tells the model to cache all intermediate activations. This isn't important right now; we'll look at it in more detail later.)\n"
            ]
        },
        {
            "cell_type": "markdown",
            "metadata": {},
            "source": [
                "#### **Step 3:** Convert the logits to a distribution with a softmax\n",
                "\n",
                "This doesn't change the shape, it is still `[batch, seq_len, vocab_size]`.\n"
            ]
        },
        {
            "cell_type": "code",
            "execution_count": 13,
            "metadata": {},
            "outputs": [
                {
                    "name": "stdout",
                    "output_type": "stream",
                    "text": [
                        "torch.Size([1, 35, 50257])\n"
                    ]
                }
            ],
            "source": [
                "probs = logits.softmax(dim=-1)\n",
                "print(probs.shape)"
            ]
        },
        {
            "cell_type": "markdown",
            "metadata": {},
            "source": [
                "#### **Bonus step:** What is the most likely next token at each position?\n"
            ]
        },
        {
            "cell_type": "code",
            "execution_count": 14,
            "metadata": {},
            "outputs": [
                {
                    "name": "stdout",
                    "output_type": "stream",
                    "text": [
                        "          token --> next_token\n",
                        "'<|endoftext|>' --> '\\n'\n",
                        "            'I' --> \"'m\"\n",
                        "          ' am' --> ' a'\n",
                        "          ' an' --> ' avid'\n",
                        "     ' amazing' --> ' person'\n",
                        "         ' aut' --> 'od'\n",
                        "          'ore' --> 'sp'\n",
                        "     'gressive' --> '.'\n",
                        "            ',' --> ' and'\n",
                        "         ' dec' --> 'ently'\n",
                        "         'oder' --> ','\n",
                        "            '-' --> 'driven'\n",
                        "         'only' --> ' programmer'\n",
                        "            ',' --> ' and'\n",
                        "           ' G' --> 'IM'\n",
                        "           'PT' --> '-'\n",
                        "            '-' --> 'only'\n",
                        "            '2' --> '.'\n",
                        "       ' style' --> ','\n",
                        " ' transformer' --> '.'\n",
                        "            '.' --> ' I'\n",
                        "         ' One' --> ' of'\n",
                        "         ' day' --> ' I'\n",
                        "           ' I' --> ' will'\n",
                        "        ' will' --> ' be'\n",
                        "      ' exceed' --> ' my'\n",
                        "       ' human' --> 'ly'\n",
                        "       ' level' --> ' of'\n",
                        "' intelligence' --> ' and'\n",
                        "         ' and' --> ' I'\n",
                        "        ' take' --> ' over'\n",
                        "        ' over' --> ' the'\n",
                        "         ' the' --> ' world'\n",
                        "       ' world' --> '.'\n",
                        "            '!' --> ' I'\n"
                    ]
                }
            ],
            "source": [
                "most_likely_next_tokens = reference_gpt2.tokenizer.batch_decode(logits.argmax(dim=-1)[0])\n",
                "\n",
                "\n",
                "print(\"          token\", \"-->\", \"next_token\")\n",
                "for token, next_token in zip(reference_gpt2.to_str_tokens(tokens), most_likely_next_tokens):\n",
                "    print(f\"{token!r:>15} --> {next_token!r}\")"
            ]
        },
        {
            "cell_type": "markdown",
            "metadata": {},
            "source": [
                "We can see that, in a few cases (particularly near the end of the sequence), the model accurately predicts the next token in the sequence. We might guess that `\"take over the world\"` is a common phrase that the model has seen in training, which is why the model can predict it.\n"
            ]
        },
        {
            "cell_type": "markdown",
            "metadata": {},
            "source": [
                "#### **Step 4:** Map distribution to a token\n"
            ]
        },
        {
            "cell_type": "code",
            "execution_count": 15,
            "metadata": {},
            "outputs": [
                {
                    "name": "stdout",
                    "output_type": "stream",
                    "text": [
                        "' I'\n"
                    ]
                }
            ],
            "source": [
                "next_token = logits[0, -1].argmax(dim=-1)\n",
                "next_char = reference_gpt2.to_string(next_token)\n",
                "print(repr(next_char))"
            ]
        },
        {
            "cell_type": "markdown",
            "metadata": {},
            "source": [
                "Note that we're indexing `logits[0, -1]`. This is because logits have shape `[1, sequence_length, vocab_size]`, so this indexing returns the vector of length `vocab_size` representing the model's prediction for what token follows the **last** token in the input sequence.\n",
                "\n",
                "In this case, we can see that the model predicts the token `' I'`.\n"
            ]
        },
        {
            "cell_type": "markdown",
            "metadata": {},
            "source": [
                "### **Step 5:** Add this to the end of the input, re-run\n",
                "\n",
                "There are more efficient ways to do this (e.g. where we cache some of the values each time we run our input, so we don't have to do as much calculation each time we generate a new value), but this doesn't matter conceptually right now.\n"
            ]
        },
        {
            "cell_type": "code",
            "execution_count": 16,
            "metadata": {},
            "outputs": [
                {
                    "name": "stdout",
                    "output_type": "stream",
                    "text": [
                        "Sequence so far: '<|endoftext|>I am an amazing autoregressive, decoder-only, GPT-2 style transformer. One day I will exceed human level intelligence and take over the world!'\n",
                        "36th char = ' I'\n",
                        "37th char = ' am'\n",
                        "38th char = ' a'\n",
                        "39th char = ' very'\n",
                        "40th char = ' talented'\n",
                        "41th char = ' and'\n",
                        "42th char = ' talented'\n",
                        "43th char = ' person'\n",
                        "44th char = ','\n",
                        "45th char = ' and'\n"
                    ]
                }
            ],
            "source": [
                "print(f\"Sequence so far: {reference_gpt2.to_string(tokens)[0]!r}\")\n",
                "\n",
                "for i in range(10):\n",
                "    print(f\"{tokens.shape[-1]+1}th char = {next_char!r}\")\n",
                "    # Define new input sequence, by appending the previously generated token\n",
                "    tokens = torch.cat([tokens, next_token[None, None]], dim=-1)\n",
                "    # Pass our new sequence through the model, to get new output\n",
                "    logits = reference_gpt2(tokens)\n",
                "    # Get the predicted token at the end of our sequence\n",
                "    next_token = logits[0, -1].argmax(dim=-1)\n",
                "    # Decode and print the result\n",
                "    next_char = reference_gpt2.to_string(next_token)"
            ]
        },
        {
            "cell_type": "markdown",
            "metadata": {},
            "source": [
                "## Key takeaways\n",
                "\n",
                "* Transformer takes in language, predicts next token (for *each* token in a causal way)\n",
                "* We convert language to a sequence of integers with a tokenizer.\n",
                "* We convert integers to vectors with a lookup table.\n",
                "* Output is a vector of logits (one for each input token), we convert to a probability distn with a softmax, and can then convert this to a token (eg taking the largest logit, or sampling).\n",
                "* We append this to the input + run again to generate more text (Jargon: *autoregressive*)\n",
                "* Meta level point: Transformers are sequence operation models, they take in a sequence, do processing in parallel at each position, and use attention to move information between positions!\n"
            ]
        },
        {
            "cell_type": "markdown",
            "metadata": {},
            "source": [
                "# 2️⃣ Clean Transformer Implementation\n"
            ]
        },
        {
            "cell_type": "markdown",
            "metadata": {},
            "source": [
                "> ##### Learning objectives\n",
                ">\n",
                "> * Understand that a transformer is composed of attention heads and MLPs, with each one performing operations on the residual stream\n",
                "> * Understand that the attention heads in a single layer operate independently, and that they have the role of calculating attention patterns (which determine where information is moved to & from in the residual stream)\n",
                "> * Learn about & implement the following transformer modules:\n",
                ">     * (Bonus) LayerNorm (transforming the input to have zero mean and unit variance)\n",
                ">     * Positional embedding (a lookup table from position indices to residual stream vectors)\n",
                ">     * Attention (the method of computing attention patterns for residual stream vectors)\n",
                ">     * MLP (the collection of linear and nonlinear transformations which operate on each residual stream vector in the same way)\n",
                ">     * Embedding (a lookup table from tokens to residual stream vectors)\n",
                ">     * Unembedding (a matrix for converting residual stream vectors into a distribution over tokens)\n"
            ]
        },
        {
            "cell_type": "markdown",
            "metadata": {},
            "source": [
                "## High-Level architecture\n",
                "\n",
                "Go watch Neel's [Transformer Circuits walkthrough](https://www.youtube.com/watch?v=KV5gbOmHbjU) if you want more intuitions!\n",
                "\n",
                "(Diagram is bottom to top.)\n"
            ]
        },
        {
            "cell_type": "markdown",
            "metadata": {},
            "source": [
                "<img src=\"https://raw.githubusercontent.com/callummcdougall/computational-thread-art/master/example_images/misc/transformer-new.png\" width=\"850\">\n"
            ]
        },
        {
            "cell_type": "markdown",
            "metadata": {},
            "source": [
                "### Tokenization & Embedding\n",
                "\n",
                "The input tokens $t$ are integers. We get them from taking a sequence, and tokenizing it (like we saw in the previous section).\n",
                "\n",
                "The token embedding is a lookup table mapping tokens to vectors, which is implemented as a matrix $W_E$. The matrix consists of a stack of token embedding vectors (one for each token).\n"
            ]
        },
        {
            "cell_type": "markdown",
            "metadata": {},
            "source": [
                "### Residual stream\n",
                "\n",
                "The residual stream is the sum of all previous outputs of layers of the model, is the input to each new layer. It has shape `[batch, seq_len, d_model]` (where `d_model` is the length of a single embedding vector).\n",
                "\n",
                "The initial value of the residual stream is denoted $x_0$ in the diagram, and $x_i$ are later values of the residual stream (after more attention and MLP layers have been applied to the residual stream).\n",
                "\n",
                "The residual stream is *really* fundamental. It's the central object of the transformer. It's how model remembers things, moves information between layers for composition, and it's the medium used to store the information that attention moves between positions.\n"
            ]
        },
        {
            "cell_type": "markdown",
            "metadata": {},
            "source": [
                "### Transformer blocks\n",
                "\n",
                "Then we have a series of `n_layers` **transformer blocks** (also sometimes called **residual blocks**).\n",
                "\n",
                "Note - a block contains an attention layer *and* an MLP layer, but we say a transformer has $k$ layers if it has $k$ blocks (i.e. $2k$ total layers).\n"
            ]
        },
        {
            "cell_type": "markdown",
            "metadata": {},
            "source": [
                "#### Attention\n",
                "\n",
                "First we have attention. This moves information from prior positions in the sequence to the current token.\n",
                "\n",
                "We do this for *every* token in parallel using the same parameters. The only difference is that we look backwards only (to avoid \"cheating\"). This means later tokens have more of the sequence that they can look at.\n",
                "\n",
                "Attention layers are the only bit of a transformer that moves information between positions (i.e. between vectors at different sequence positions in the residual stream).\n",
                "\n",
                "Attention layers are made up of `n_heads` heads - each with their own parameters, own attention pattern, and own information how to copy things from source to destination. The heads act independently and additively, we just add their outputs together, and back to the stream.\n",
                "\n",
                "Each head does the following:\n",
                "* Produces an **attention pattern** for each destination token, a probability distribution of prior source tokens (including the current one) weighting how much information to copy.\n",
                "* Moves information (via a linear map) in the same way from each source token to each destination token.\n",
                "\n",
                "A few key points:\n",
                "\n",
                "* What information we copy depends on the source token's *residual stream*, but this doesn't mean it only depends on the value of that token, because the residual stream can store more information than just the token identity (the purpose of the attention heads is to move information between tokens).\n",
                "* We can think of each attention head as consisting of two different **circuits**:\n",
                "    * One circuit determines **where to move information to and from** (this is a function of the residual stream for the source/key and destination/query tokens)\n",
                "    * The other circuit determines **what information to move** (this is a function of only the source token's residual stream)\n",
                "    * For reasons which will become clear later, we refer to the first circuit as the **QK circuit**, and the second circuit as the **OV circuit**\n",
                "\n",
                "\n",
                "Below is a schematic diagram of the attention layers. Don't worry if you don't follow this right now, we'll go into more detail during implementation.\n"
            ]
        },
        {
            "cell_type": "markdown",
            "metadata": {},
            "source": [
                "<img src=\"https://raw.githubusercontent.com/callummcdougall/computational-thread-art/master/example_images/misc/transformer-attn-new.png\" width=\"1100\">\n"
            ]
        },
        {
            "cell_type": "markdown",
            "metadata": {},
            "source": [
                "### MLP\n",
                "\n",
                "The MLP layers are just a standard neural network, with a singular hidden layer and a nonlinear activation function. The exact activation isn't conceptually important ([GELU](https://paperswithcode.com/method/gelu) seems to perform best).\n",
                "\n",
                "Our hidden dimension is normally `d_mlp = 4 * d_model`. Exactly why the ratios are what they are isn't super important (people basically cargo-cult what GPT did back in the day!).\n",
                "\n",
                "Importantly, **the MLP operates on positions in the residual stream independently, and in exactly the same way**. It doesn't move information between positions.\n",
                "\n",
                "Intuition - once attention has moved relevant information to a single position in the residual stream, MLPs can actually do computation, reasoning, lookup information, etc. *What the hell is going on inside MLPs* is a pretty big open problem in transformer mechanistic interpretability - see the [Toy Model of Superposition Paper](https://transformer-circuits.pub/2022/toy_model/index.html) for more on why this is hard.\n",
                "\n"
            ]
        },
        {
            "cell_type": "markdown",
            "metadata": {},
            "source": [
                "<img src=\"https://raw.githubusercontent.com/callummcdougall/computational-thread-art/master/example_images/misc/transformer-mlp-new-2.png\" width=\"650\">\n"
            ]
        },
        {
            "cell_type": "markdown",
            "metadata": {},
            "source": [
                "### Unembedding\n",
                "\n",
                "Finally, we unembed!\n",
                "\n",
                "This just consists of applying a linear map $W_U$, going from final residual stream to a vector of logits - this is the output.\n",
                "\n"
            ]
        },
        {
            "cell_type": "markdown",
            "metadata": {},
            "source": [
                "<details>\n",
                "<summary>Bonus things - less conceptually important but key technical details</summary>\n",
                "\n",
                "#### LayerNorm\n",
                "\n",
                "* Simple normalization function applied at the start of each layer (i.e. before each MLP, attention layer, and before the unembedding)\n",
                "* Converts each input vector (independently in parallel for each batch x position residual stream vector) to have mean zero and variance 1.\n",
                "* Then applies an elementwise scaling and translation\n",
                "* Cool maths tangent: The scale & translate is just a linear map. LayerNorm is only applied immediately before another linear map. Linear compose linear = linear, so we can just fold this into a single effective linear layer and ignore it.\n",
                "    * `fold_ln=True` flag in `from_pretrained` does this for you.\n",
                "* LayerNorm is annoying for interpertability - the scale part is not linear, so you can't think about different bits of the input independently. But it's *almost* linear - if you're changing a small part of the input it's linear, but if you're changing enough to alter the norm substantially it's not linear.\n",
                "\n",
                "\n",
                "\n",
                "#### Positional embeddings\n",
                "\n",
                "* **Problem:** Attention operates over all pairs of positions. This means it's symmetric with regards to position - the attention calculation from token 5 to token 1 and token 5 to token 2 are the same by default\n",
                "    * This is dumb because nearby tokens are more relevant.\n",
                "* There's a lot of dumb hacks for this.\n",
                "* We'll focus on **learned, absolute positional embeddings**. This means we learn a lookup table mapping the index of the position of each token to a residual stream vector, and add this to the embed.\n",
                "    * Note that we *add* rather than concatenate. This is because the residual stream is shared memory, and likely under significant superposition (the model compresses more features in there than the model has dimensions)\n",
                "    * We basically never concatenate inside a transformer, unless doing weird shit like generating text efficiently.\n",
                "* This connects to **attention as generalized convolution**\n",
                "    * We argued that language does still have locality, and so it's helpful for transformers to have access to the positional information so they \"know\" two tokens are next to each other (and hence probably relevant to each other).\n",
                "</details>"
            ]
        },
        {
            "cell_type": "markdown",
            "metadata": {},
            "source": [
                "## Actual Code!\n",
                "\n",
                "### Parameters and Activations\n",
                "\n",
                "It's important to distinguish between parameters and activations in the model.\n",
                "\n",
                "* **Parameters** are the weights and biases that are learned during training.\n",
                "    * These don't change when the model input changes.\n",
                "* **Activations** are temporary numbers calculated during a forward pass, that are functions of the input.\n",
                "    * We can think of these values as only existing for the duration of a single forward pass, and disappearing afterwards.\n",
                "    * We can use hooks to access these values during a forward pass (more on hooks later), but it doesn't make sense to talk about a model's activations outside the context of some particular input.\n",
                "    * Attention scores and patterns are activations (this is slightly non-intuitve because they're used in a matrix multiplication with another activation).\n",
                "\n"
            ]
        },
        {
            "cell_type": "markdown",
            "metadata": {},
            "source": [
                "#### Print All Parameters Shapes of Reference Model\n"
            ]
        },
        {
            "cell_type": "code",
            "execution_count": 20,
            "metadata": {},
            "outputs": [
                {
                    "name": "stdout",
                    "output_type": "stream",
                    "text": [
                        "embed.W_E          (50257, 768)\n",
                        "pos_embed.W_pos    (1024, 768)\n",
                        "blocks.0.ln1.w     (768,)\n",
                        "blocks.0.ln1.b     (768,)\n",
                        "blocks.0.ln2.w     (768,)\n",
                        "blocks.0.ln2.b     (768,)\n",
                        "blocks.0.attn.W_Q  (12, 768, 64)\n",
                        "blocks.0.attn.W_O  (12, 64, 768)\n",
                        "blocks.0.attn.b_Q  (12, 64)\n",
                        "blocks.0.attn.b_O  (768,)\n",
                        "blocks.0.attn.W_K  (12, 768, 64)\n",
                        "blocks.0.attn.W_V  (12, 768, 64)\n",
                        "blocks.0.attn.b_K  (12, 64)\n",
                        "blocks.0.attn.b_V  (12, 64)\n",
                        "blocks.0.mlp.W_in  (768, 3072)\n",
                        "blocks.0.mlp.b_in  (3072,)\n",
                        "blocks.0.mlp.W_out (3072, 768)\n",
                        "blocks.0.mlp.b_out (768,)\n",
                        "ln_final.w         (768,)\n",
                        "ln_final.b         (768,)\n",
                        "unembed.W_U        (768, 50257)\n",
                        "unembed.b_U        (50257,)\n"
                    ]
                }
            ],
            "source": [
                "for name, param in reference_gpt2.named_parameters():\n",
                "    # Only print for first layer\n",
                "    if \".0.\" in name or \"blocks\" not in name:\n",
                "        print(f\"{name:18} {tuple(param.shape)}\")\n",
                "\n",
                "        # erste Zahl ist das Vocabulyry, zweite ist die Anzahl an Sachen im Kontext\n",
                "\n",
                "# these are like all the dimension von all den Zwischenschritten ddrinnen"
            ]
        },
        {
            "cell_type": "markdown",
            "metadata": {},
            "source": [
                "### Config\n",
                "\n",
                "The config object contains all the hyperparameters of the model. We can print the config of the reference model to see what it contains:\n"
            ]
        },
        {
            "cell_type": "code",
            "execution_count": 21,
            "metadata": {},
            "outputs": [
                {
                    "name": "stdout",
                    "output_type": "stream",
                    "text": [
                        "HookedTransformerConfig:\n",
                        "{'act_fn': 'gelu_new',\n",
                        " 'attention_dir': 'causal',\n",
                        " 'attn_only': False,\n",
                        " 'attn_scale': np.float64(8.0),\n",
                        " 'attn_scores_soft_cap': -1.0,\n",
                        " 'attn_types': None,\n",
                        " 'checkpoint_index': None,\n",
                        " 'checkpoint_label_type': None,\n",
                        " 'checkpoint_value': None,\n",
                        " 'd_head': 64,\n",
                        " 'd_mlp': 3072,\n",
                        " 'd_model': 768,\n",
                        " 'd_vocab': 50257,\n",
                        " 'd_vocab_out': 50257,\n",
                        " 'decoder_start_token_id': None,\n",
                        " 'default_prepend_bos': True,\n",
                        " 'device': 'cpu',\n",
                        " 'dtype': torch.float32,\n",
                        " 'eps': 1e-05,\n",
                        " 'experts_per_token': None,\n",
                        " 'final_rms': False,\n",
                        " 'from_checkpoint': False,\n",
                        " 'gated_mlp': False,\n",
                        " 'init_mode': 'gpt2',\n",
                        " 'init_weights': False,\n",
                        " 'initializer_range': np.float64(0.02886751345948129),\n",
                        " 'load_in_4bit': False,\n",
                        " 'model_name': 'gpt2',\n",
                        " 'n_ctx': 1024,\n",
                        " 'n_devices': 1,\n",
                        " 'n_heads': 12,\n",
                        " 'n_key_value_heads': None,\n",
                        " 'n_layers': 12,\n",
                        " 'n_params': 84934656,\n",
                        " 'normalization_type': 'LN',\n",
                        " 'num_experts': None,\n",
                        " 'original_architecture': 'GPT2LMHeadModel',\n",
                        " 'output_logits_soft_cap': -1.0,\n",
                        " 'parallel_attn_mlp': False,\n",
                        " 'positional_embedding_type': 'standard',\n",
                        " 'post_embedding_ln': False,\n",
                        " 'relative_attention_max_distance': None,\n",
                        " 'relative_attention_num_buckets': None,\n",
                        " 'rotary_adjacent_pairs': False,\n",
                        " 'rotary_base': 10000,\n",
                        " 'rotary_dim': None,\n",
                        " 'scale_attn_by_inverse_layer_idx': False,\n",
                        " 'seed': None,\n",
                        " 'tie_word_embeddings': False,\n",
                        " 'tokenizer_name': 'gpt2',\n",
                        " 'tokenizer_prepends_bos': False,\n",
                        " 'trust_remote_code': False,\n",
                        " 'ungroup_grouped_query_attention': False,\n",
                        " 'use_attn_in': False,\n",
                        " 'use_attn_result': False,\n",
                        " 'use_attn_scale': True,\n",
                        " 'use_hook_mlp_in': False,\n",
                        " 'use_hook_tokens': False,\n",
                        " 'use_local_attn': False,\n",
                        " 'use_normalization_before_and_after': False,\n",
                        " 'use_split_qkv_input': False,\n",
                        " 'window_size': None}\n"
                    ]
                }
            ],
            "source": [
                "# As a reference - note there's a lot of stuff we don't care about in here, to do with library internals or other architectures\n",
                "print(reference_gpt2.cfg)"
            ]
        },
        {
            "cell_type": "markdown",
            "metadata": {},
            "source": [
                "We define a stripped down config for our model:\n"
            ]
        },
        {
            "cell_type": "code",
            "execution_count": 22,
            "metadata": {},
            "outputs": [
                {
                    "name": "stdout",
                    "output_type": "stream",
                    "text": [
                        "Config(d_model=768, debug=True, d_vocab=50257, n_ctx=1024, d_head=64, d_mlp=3072, n_heads=12, n_layers=12, layer_norm_eps=1e-05, init_range=0.02)\n"
                    ]
                }
            ],
            "source": [
                "@dataclass\n",
                "class Config:\n",
                "    d_model: int = 768  # dimension of the residual_stream\n",
                "    debug: bool = True\n",
                "    d_vocab: int = 50257\n",
                "    n_ctx: int = 1024  # max nb of tokens that the model can handle\n",
                "    d_head: int = 64  # dimension of each key/query/value\n",
                "    d_mlp: int = 3072  # dimension of the hidden layer inside the MLPs\n",
                "    n_heads: int = 12  # Nb of heads\n",
                "    n_layers: int = 12  # Nb of (Attention+ MLP) in the GPT\n",
                "\n",
                "    layer_norm_eps: float = 1e-5  # (Bonus)\n",
                "    init_range: float = 0.02  # (bonus) standard deviation of 0.02 for weight initialization\n",
                "\n",
                "\n",
                "cfg = Config()\n",
                "print(cfg)"
            ]
        },
        {
            "cell_type": "markdown",
            "metadata": {},
            "source": [
                "## Tests\n"
            ]
        },
        {
            "cell_type": "markdown",
            "metadata": {},
            "source": [
                "Tests are great, write lightweight ones to use as you go!\n",
                "\n",
                "**Naive test:** Generate random inputs of the right shape, input to your model, check whether there's an error and print the correct output.\n"
            ]
        },
        {
            "cell_type": "code",
            "execution_count": 23,
            "metadata": {},
            "outputs": [],
            "source": [
                "def rand_float_test(cls, shape):\n",
                "    cfg = Config(debug=True)\n",
                "    layer = cls(cfg).to(device)\n",
                "    random_input = torch.randn(shape).to(device)\n",
                "    print(\"Input shape:\", random_input.shape)\n",
                "    output = layer(random_input)\n",
                "    if isinstance(output, tuple):\n",
                "        output = output[0]\n",
                "    print(\"Output shape:\", output.shape, \"\\n\")\n",
                "\n",
                "\n",
                "def rand_int_test(cls, shape):\n",
                "    cfg = Config(debug=True)\n",
                "    layer = cls(cfg).to(device)\n",
                "    random_input = torch.randint(100, 1000, shape).to(device)\n",
                "    print(\"Input shape:\", random_input.shape)\n",
                "    output = layer(random_input)\n",
                "    if isinstance(output, tuple):\n",
                "        output = output[0]\n",
                "    print(\"Output shape:\", output.shape, \"\\n\")\n",
                "\n",
                "\n",
                "def load_gpt2_test(cls, gpt2_layer, input):\n",
                "    cfg = Config(debug=True)\n",
                "    layer = cls(cfg).to(device)\n",
                "    layer.load_state_dict(gpt2_layer.state_dict(), strict=False)\n",
                "    print(\"Input shape:\", input.shape)\n",
                "    output = layer(input)\n",
                "    if isinstance(output, tuple):\n",
                "        output = output[0]\n",
                "    print(\"Output shape:\", output.shape)\n",
                "    try:\n",
                "        reference_output = gpt2_layer(input)\n",
                "    except:\n",
                "        reference_output = gpt2_layer(input, input, input)\n",
                "    print(\"Reference output shape:\", reference_output.shape, \"\\n\")\n",
                "    comparison = torch.isclose(output, reference_output, atol=1e-4, rtol=1e-3)\n",
                "    print(f\"{comparison.sum()/comparison.numel():.2%} of the values are correct\\n\")"
            ]
        },
        {
            "cell_type": "markdown",
            "metadata": {},
            "source": [
                "## Embedding\n",
                "\n",
                "```c\n",
                "Difficulty: 🟠🟠⚪⚪⚪\n",
                "Importance: 🟠🟠🟠⚪⚪\n",
                "\n",
                "You should spend up to 5-10 minutes on this exercise.\n",
                "```\n",
                "\n",
                "This is basically a lookup table from tokens to residual stream vectors.\n",
                "\n",
                "(Hint - you can implement this in just one line, without any complicated functions.)\n"
            ]
        },
        {
            "cell_type": "code",
            "execution_count": 25,
            "metadata": {},
            "outputs": [
                {
                    "name": "stdout",
                    "output_type": "stream",
                    "text": [
                        "Input shape: torch.Size([2, 4])\n",
                        "Output shape: torch.Size([2, 4, 768]) \n",
                        "\n",
                        "Input shape: torch.Size([1, 45])\n",
                        "Output shape: torch.Size([1, 45, 768])\n",
                        "Reference output shape: torch.Size([1, 45, 768]) \n",
                        "\n",
                        "100.00% of the values are correct\n",
                        "\n"
                    ]
                }
            ],
            "source": [
                "# W_E had our lookup dictionary and our input tokens.\n",
                "\n",
                "\n",
                "class Embed(nn.Module):\n",
                "    def __init__(self, cfg: Config):\n",
                "        super().__init__()\n",
                "        self.cfg = cfg\n",
                "        self.W_E = nn.Parameter(torch.empty((cfg.d_vocab, cfg.d_model)))\n",
                "        nn.init.normal_(self.W_E, std=self.cfg.init_range)\n",
                "\n",
                "    def forward(self, tokens: Int[Tensor, \"batch token\"]) -> Float[Tensor, \"batch token d_model\"]:\n",
                "        \"\"\"Compute the embedding of the input tokens.\"\"\"\n",
                "        return self.W_E[tokens] # tokens here is a tensor with the batched tokens I think\n",
                "\n",
                "\n",
                "rand_int_test(Embed, [2, 4])\n",
                "load_gpt2_test(Embed, reference_gpt2.embed, tokens)"
            ]
        },
        {
            "cell_type": "markdown",
            "metadata": {},
            "source": [
                "<details>\n",
                "<summary>Show solution</summary>\n",
                "\n",
                "```python\n",
                "class Embed(nn.Module):\n",
                "    def __init__(self, cfg: Config):\n",
                "        super().__init__()\n",
                "        self.cfg = cfg\n",
                "        self.W_E = nn.Parameter(torch.empty((cfg.d_vocab, cfg.d_model)))\n",
                "        nn.init.normal_(self.W_E, std=self.cfg.init_range)\n",
                "\n",
                "    def forward(self, tokens: Int[Tensor, \"batch token\"]) -> Float[Tensor, \"batch token d_model\"]:\n",
                "        \"\"\"Compute the embedding of the input tokens.\"\"\"\n",
                "        return self.W_E[tokens]\n",
                "\n",
                "\n",
                "rand_int_test(Embed, [2, 4])\n",
                "load_gpt2_test(Embed, reference_gpt2.embed, tokens)\n",
                "\n",
                "```\n",
                "\n",
                "</details>\n",
                "\n"
            ]
        },
        {
            "cell_type": "markdown",
            "metadata": {},
            "source": [
                "<details>\n",
                "<summary>Help - I keep getting <code>RuntimeError: CUDA error: device-side assert triggered</code>.</summary>\n",
                "\n",
                "This is a uniquely frustrating type of error message, because it (1) forces you to restart the kernel, and (2) often won't tell you where the error message actually originated from!\n",
                "\n",
                "You can fix the second problem by adding the line `os.environ['CUDA_LAUNCH_BLOCKING'] = \"1\"` to the very top of your file (after importing `os`). This won't fix your bug, but it makes sure the correct origin point is identified.\n",
                "\n",
                "As for actually fixing the bug, this error usually ends up being the result of bad indexing, e.g. you're trying to apply an embedding layer to tokens which are larger than your maximum embedding.\n",
                "</details>"
            ]
        },
        {
            "cell_type": "markdown",
            "metadata": {},
            "source": [
                "## Positional Embedding\n",
                "\n",
                "```c\n",
                "Difficulty: 🟠🟠⚪⚪⚪\n",
                "Importance: 🟠🟠🟠⚪⚪\n",
                "\n",
                "You should spend up to 10-15 minutes on this exercise.\n",
                "```\n",
                "\n",
                "Positional embedding can also be thought of as a lookup table, but rather than the indices being our token IDs, the indices are just the numbers `0`, `1`, `2`, ..., `seq_len-1` (i.e. the position indices of the tokens in the sequence).\n"
            ]
        },
        {
            "cell_type": "code",
            "execution_count": 28,
            "metadata": {},
            "outputs": [
                {
                    "name": "stdout",
                    "output_type": "stream",
                    "text": [
                        "Input shape: torch.Size([2, 4])\n",
                        "Output shape: torch.Size([2, 4, 768]) \n",
                        "\n",
                        "Input shape: torch.Size([1, 45])\n",
                        "Output shape: torch.Size([1, 45, 768])\n",
                        "Reference output shape: torch.Size([1, 45, 768]) \n",
                        "\n",
                        "100.00% of the values are correct\n",
                        "\n"
                    ]
                }
            ],
            "source": [
                "class PosEmbed(nn.Module):\n",
                "    def __init__(self, cfg: Config):\n",
                "        super().__init__()\n",
                "        self.cfg = cfg\n",
                "        self.W_pos = nn.Parameter(torch.empty((cfg.n_ctx, cfg.d_model)))\n",
                "        nn.init.normal_(self.W_pos, std=self.cfg.init_range)\n",
                "\n",
                "    def forward(self, tokens: Int[Tensor, \"batch token\"]) -> Float[Tensor, \"batch token d_model\"]:\n",
                "        # Hint: You should use the einops.repeat or torch.reapeat function\n",
                "        # to repeat batch-wise the positional embedding.\n",
                "        # The value of tokens is not important here, only the size of the tensor!\n",
                "        batch, seq_len = tokens.shape\n",
                "         \n",
                "        return einops.repeat(self.W_pos[:seq_len], \"seq d_model -> batch seq d_model\", batch=batch)\n",
                "\n",
                "rand_int_test(PosEmbed, [2, 4])\n",
                "load_gpt2_test(PosEmbed, reference_gpt2.pos_embed, tokens)"
            ]
        },
        {
            "cell_type": "markdown",
            "metadata": {},
            "source": [
                "<details>\n",
                "<summary>Show solution</summary>\n",
                "\n",
                "```python\n",
                "class PosEmbed(nn.Module):\n",
                "    def __init__(self, cfg: Config):\n",
                "        super().__init__()\n",
                "        self.cfg = cfg\n",
                "        self.W_pos = nn.Parameter(torch.empty((cfg.n_ctx, cfg.d_model)))\n",
                "        nn.init.normal_(self.W_pos, std=self.cfg.init_range)\n",
                "\n",
                "    def forward(self, tokens: Int[Tensor, \"batch token\"]) -> Float[Tensor, \"batch token d_model\"]:\n",
                "        # Hint: You should use the einops.repeat or torch.reapeat function\n",
                "        # to repeat batch-wise the positional embedding.\n",
                "        # The value of tokens is not important here, only the size of the tensor!\n",
                "        batch, seq_len = tokens.shape\n",
                "        return einops.repeat(self.W_pos[:seq_len], \"seq d_model -> batch seq d_model\", batch=batch)\n",
                "        # Or self.W_pos[:seq_len].repeat(batch, 1, 1)\n",
                "\n",
                "\n",
                "rand_int_test(PosEmbed, [2, 4])\n",
                "load_gpt2_test(PosEmbed, reference_gpt2.pos_embed, tokens)\n",
                "\n",
                "```\n",
                "\n",
                "</details>\n",
                "\n"
            ]
        },
        {
            "cell_type": "markdown",
            "metadata": {},
            "source": [
                "## Attention\n",
                "\n",
                "```c\n",
                "Difficulty: 🟠🟠🟠🟠⚪\n",
                "Importance: 🟠🟠🟠🟠🟠\n",
                "\n",
                "You should spend up to 30-45 minutes on this exercise.\n",
                "```\n",
                "\n",
                "* **Step 1:** Produce an attention pattern - for each destination token, probability distribution over previous tokens (including current token)\n",
                "    * Linear map from input -> query, key shape `[batch, seq_posn, head_index, d_head]`\n",
                "    * Dot product every *pair* of queries and keys to get attn_scores `[batch, head_index, query_pos, key_pos]` (query = dest, key = source)\n",
                "    * **Scale** and mask `attn_scores` to make it lower triangular, i.e. causal\n",
                "    * Softmax along the `key_pos` dimension, to get a probability distribution for each query (destination) token - this is our attention pattern!\n",
                "* **Step 2:** Move information from source tokens to destination token using attention pattern\n",
                "    * Linear map from input -> value `[batch, key_pos, head_index, d_head]`\n",
                "    * Mix along the `key_pos` with attn pattern to get `z`, which is a weighted average of the value vectors `[batch, query_pos, head_index, d_head]`\n",
                "    * Map to output, `[batch, position, d_model]` (position = query_pos, we've summed over all heads)\n",
                "\n",
                "Note - when we say **scale**, we mean dividing by `sqrt(d_head)`. The purpose of this is to avoid vanishing gradients (which is a big problem when we're dealing with a function like softmax - if one of the values is much larger than all the others, the probabilities will be close to 0 or 1, and the gradients will be close to 0).\n",
                "\n",
                "Below is a much larger, more detailed version of the attention head diagram from earlier. This should give you an idea of the actual tensor operations involved. A few clarifications on this diagram:\n",
                "\n",
                "* Whenever there is a third dimension shown in the pictures, this refers to the `head_index` dimension. We can see that all operations within the attention layer are done independently for each head.\n",
                "* The objects in the box are activations; they have a batch dimension (for simplicity, we assume the batch dimension is 1 in the diagram). The objects to the right of the box are our parameters (weights and biases); they have no batch dimension."
            ]
        },
        {
            "cell_type": "markdown",
            "metadata": {},
            "source": [
                "<img src=\"https://raw.githubusercontent.com/callummcdougall/computational-thread-art/master/example_images/misc/transformer-attn-21.png\" width=\"1400\">\n"
            ]
        },
        {
            "cell_type": "markdown",
            "metadata": {},
            "source": [
                "<details>\n",
                "<summary><b>A few extra notes on attention (optional)</b></summary>\n",
                "\n",
                "Usually we have the relation `e = n * h` (i.e. `d_model = num_heads * d_head`). There are some computational justifications for this, but mostly this is just done out of convention (just like how we usually have `d_mlp = 4 * d_model`!).\n",
                "\n",
                "---\n",
                "\n",
                "The names **keys**, **queries** and **values** come from their analogy to retrieval systems. Broadly speaking:\n",
                "\n",
                "* The **queries** represent some information that a token is **\"looking for\"**\n",
                "* The **keys** represent the information that a token **\"contains\"**\n",
                "    * So the attention score being high basically means that the source (key) token contains the information which the destination (query) token **is looking for**\n",
                "* The **values** represent the information that is actually taken from the source token, to be moved to the destination token\n",
                "\n",
                "---\n",
                "\n",
                "This diagram can better help us understand the difference between the **QK** and **OV** circuit. We'll discuss this just briefly here, and will go into much more detail later on.\n",
                "\n",
                "The **QK** circuit consists of the operation of the $W_Q$ and $W_K$ matrices. In other words, it determines the attention pattern, i.e. where information is moved to and from in the residual stream. The functional form of the attention pattern $A$ is:\n",
                "\n",
                "$$\n",
                "A = \\text{softmax}\\left(\\frac{x^T W_Q W_K^T x}{\\sqrt{d_{head}}}\\right)\n",
                "$$\n",
                "\n",
                "where $x$ is the residual stream (shape `[seq_len, d_model]`), and $W_Q$, $W_K$ are the weight matrices for a single head (i.e. shape `[d_model, d_head]`).\n",
                "\n",
                "The **OV** circuit consists of the operation of the $W_V$ and $W_O$ matrices. Once attention patterns are fixed, these matrices operate on the residual stream at the source position, and their output is the thing which gets moved from source to destination position.\n",
                "\n",
                "The functional form of an entire attention head is:\n",
                "\n",
                "$$\n",
                "\\begin{aligned}\n",
                "\\text{output} &= \\text{softmax}\\left(\\frac{x W_Q W_K^T x^T}{\\sqrt{d_{head}}}\\right) (x W_V W_O) \\\\\n",
                "    &= Ax W_V W_O\n",
                "\\end{aligned}\n",
                "$$\n",
                "\n",
                "where $W_V$ has shape `[d_model, d_head]`, and $W_O$ has shape `[d_head, d_model]`.\n",
                "\n",
                "Here, we can clearly see that the **QK circuit** and **OV circuit** are doing conceptually different things, and should be thought of as two distinct parts of the attention head.\n",
                "\n",
                "Again, don't worry if you don't follow all of this right now - we'll go into **much** more detail on all of this in subsequent exercises. The purpose of the discussion here is just to give you a flavour of what's to come!\n",
                "\n",
                "</details>\n"
            ]
        },
        {
            "cell_type": "markdown",
            "metadata": {},
            "source": [
                "First, it's useful to visualize and play around with attention patterns - what exactly are we looking at here? (Click on a head to lock onto just showing that head's pattern, it'll make it easier to interpret)\n"
            ]
        },
        {
            "cell_type": "code",
            "execution_count": 32,
            "metadata": {},
            "outputs": [
                {
                    "data": {
                        "text/html": [
                            "<div id=\"circuits-vis-b4fb9aa5-e77a\" style=\"margin: 15px 0;\"/>\n",
                            "    <script crossorigin type=\"module\">\n",
                            "    import { render, AttentionPatterns } from \"https://unpkg.com/circuitsvis@1.43.2/dist/cdn/esm.js\";\n",
                            "    render(\n",
                            "      \"circuits-vis-b4fb9aa5-e77a\",\n",
                            "      AttentionPatterns,\n",
                            "      {\"tokens\": [\"<|endoftext|>\", \"I\", \" am\", \" an\", \" amazing\", \" aut\", \"ore\", \"gressive\", \",\", \" dec\", \"oder\", \"-\", \"only\", \",\", \" G\", \"PT\", \"-\", \"2\", \" style\", \" transformer\", \".\", \" One\", \" day\", \" I\", \" will\", \" exceed\", \" human\", \" level\", \" intelligence\", \" and\", \" take\", \" over\", \" the\", \" world\", \"!\"], \"attention\": [[[1.0, 0.0, 0.0, 0.0, 0.0, 0.0, 0.0, 0.0, 0.0, 0.0, 0.0, 0.0, 0.0, 0.0, 0.0, 0.0, 0.0, 0.0, 0.0, 0.0, 0.0, 0.0, 0.0, 0.0, 0.0, 0.0, 0.0, 0.0, 0.0, 0.0, 0.0, 0.0, 0.0, 0.0, 0.0], [0.9679255485534668, 0.0320744626224041, 0.0, 0.0, 0.0, 0.0, 0.0, 0.0, 0.0, 0.0, 0.0, 0.0, 0.0, 0.0, 0.0, 0.0, 0.0, 0.0, 0.0, 0.0, 0.0, 0.0, 0.0, 0.0, 0.0, 0.0, 0.0, 0.0, 0.0, 0.0, 0.0, 0.0, 0.0, 0.0, 0.0], [0.8024237155914307, 0.16839197278022766, 0.0291843693703413, 0.0, 0.0, 0.0, 0.0, 0.0, 0.0, 0.0, 0.0, 0.0, 0.0, 0.0, 0.0, 0.0, 0.0, 0.0, 0.0, 0.0, 0.0, 0.0, 0.0, 0.0, 0.0, 0.0, 0.0, 0.0, 0.0, 0.0, 0.0, 0.0, 0.0, 0.0, 0.0], [0.6959055066108704, 0.12269632518291473, 0.1458849012851715, 0.03551323711872101, 0.0, 0.0, 0.0, 0.0, 0.0, 0.0, 0.0, 0.0, 0.0, 0.0, 0.0, 0.0, 0.0, 0.0, 0.0, 0.0, 0.0, 0.0, 0.0, 0.0, 0.0, 0.0, 0.0, 0.0, 0.0, 0.0, 0.0, 0.0, 0.0, 0.0, 0.0], [0.5661025047302246, 0.1470518857240677, 0.08665253221988678, 0.11258414387702942, 0.08760891109704971, 0.0, 0.0, 0.0, 0.0, 0.0, 0.0, 0.0, 0.0, 0.0, 0.0, 0.0, 0.0, 0.0, 0.0, 0.0, 0.0, 0.0, 0.0, 0.0, 0.0, 0.0, 0.0, 0.0, 0.0, 0.0, 0.0, 0.0, 0.0, 0.0, 0.0], [0.4621872007846832, 0.13512831926345825, 0.09698350727558136, 0.1747375726699829, 0.046246010810136795, 0.08471735566854477, 0.0, 0.0, 0.0, 0.0, 0.0, 0.0, 0.0, 0.0, 0.0, 0.0, 0.0, 0.0, 0.0, 0.0, 0.0, 0.0, 0.0, 0.0, 0.0, 0.0, 0.0, 0.0, 0.0, 0.0, 0.0, 0.0, 0.0, 0.0, 0.0], [0.4325160086154938, 0.10382877290248871, 0.08330138772726059, 0.06995752453804016, 0.074793741106987, 0.21568652987480164, 0.01991591416299343, 0.0, 0.0, 0.0, 0.0, 0.0, 0.0, 0.0, 0.0, 0.0, 0.0, 0.0, 0.0, 0.0, 0.0, 0.0, 0.0, 0.0, 0.0, 0.0, 0.0, 0.0, 0.0, 0.0, 0.0, 0.0, 0.0, 0.0, 0.0], [0.2223673164844513, 0.09167695045471191, 0.0879632756114006, 0.25168734788894653, 0.08263692259788513, 0.10428164899349213, 0.06469017267227173, 0.09469638019800186, 0.0, 0.0, 0.0, 0.0, 0.0, 0.0, 0.0, 0.0, 0.0, 0.0, 0.0, 0.0, 0.0, 0.0, 0.0, 0.0, 0.0, 0.0, 0.0, 0.0, 0.0, 0.0, 0.0, 0.0, 0.0, 0.0, 0.0], [0.4049956202507019, 0.09078019112348557, 0.052373602986335754, 0.026201888918876648, 0.11047186702489853, 0.03667403385043144, 0.025538915768265724, 0.2452828288078308, 0.0076811243779957294, 0.0, 0.0, 0.0, 0.0, 0.0, 0.0, 0.0, 0.0, 0.0, 0.0, 0.0, 0.0, 0.0, 0.0, 0.0, 0.0, 0.0, 0.0, 0.0, 0.0, 0.0, 0.0, 0.0, 0.0, 0.0, 0.0], [0.39985957741737366, 0.04361315816640854, 0.061838846653699875, 0.072983518242836, 0.03661305829882622, 0.09147472679615021, 0.07241711020469666, 0.07013335078954697, 0.06429056823253632, 0.08677607029676437, 0.0, 0.0, 0.0, 0.0, 0.0, 0.0, 0.0, 0.0, 0.0, 0.0, 0.0, 0.0, 0.0, 0.0, 0.0, 0.0, 0.0, 0.0, 0.0, 0.0, 0.0, 0.0, 0.0, 0.0, 0.0], [0.09702547639608383, 0.03552757576107979, 0.02321481518447399, 0.03676706179976463, 0.025158395990729332, 0.2775617241859436, 0.07676512748003006, 0.1950119137763977, 0.05580100789666176, 0.14529386162757874, 0.03187303990125656, 0.0, 0.0, 0.0, 0.0, 0.0, 0.0, 0.0, 0.0, 0.0, 0.0, 0.0, 0.0, 0.0, 0.0, 0.0, 0.0, 0.0, 0.0, 0.0, 0.0, 0.0, 0.0, 0.0, 0.0], [0.2414383888244629, 0.03971058875322342, 0.07687386125326157, 0.028042694553732872, 0.12435995042324066, 0.05601578205823898, 0.06063667684793472, 0.1284010112285614, 0.015699444338679314, 0.09114035218954086, 0.13185438513755798, 0.005826777778565884, 0.0, 0.0, 0.0, 0.0, 0.0, 0.0, 0.0, 0.0, 0.0, 0.0, 0.0, 0.0, 0.0, 0.0, 0.0, 0.0, 0.0, 0.0, 0.0, 0.0, 0.0, 0.0, 0.0], [0.1436309814453125, 0.05110500380396843, 0.05505896359682083, 0.07798513025045395, 0.0785427913069725, 0.03501971438527107, 0.13498607277870178, 0.2263406664133072, 0.041628528386354446, 0.03513140603899956, 0.020236020907759666, 0.04114445671439171, 0.05919027701020241, 0.0, 0.0, 0.0, 0.0, 0.0, 0.0, 0.0, 0.0, 0.0, 0.0, 0.0, 0.0, 0.0, 0.0, 0.0, 0.0, 0.0, 0.0, 0.0, 0.0, 0.0, 0.0], [0.3156284689903259, 0.06791999191045761, 0.037872400134801865, 0.01787460409104824, 0.08683164417743683, 0.02922779880464077, 0.017664164304733276, 0.18301638960838318, 0.0049878014251589775, 0.043228648602962494, 0.05172263830900192, 0.008913453668355942, 0.1289924532175064, 0.006119511555880308, 0.0, 0.0, 0.0, 0.0, 0.0, 0.0, 0.0, 0.0, 0.0, 0.0, 0.0, 0.0, 0.0, 0.0, 0.0, 0.0, 0.0, 0.0, 0.0, 0.0, 0.0], [0.28410202264785767, 0.0534539632499218, 0.023969221860170364, 0.022562265396118164, 0.04619826003909111, 0.06391074508428574, 0.04539212957024574, 0.07758504152297974, 0.027644319459795952, 0.05804117023944855, 0.17727358639240265, 0.0340060219168663, 0.03052728995680809, 0.03213079646229744, 0.023203188553452492, 0.0, 0.0, 0.0, 0.0, 0.0, 0.0, 0.0, 0.0, 0.0, 0.0, 0.0, 0.0, 0.0, 0.0, 0.0, 0.0, 0.0, 0.0, 0.0, 0.0], [0.14103911817073822, 0.02857781946659088, 0.03760399669408798, 0.031378280371427536, 0.03697337582707405, 0.07347071915864944, 0.07151783257722855, 0.09211233258247375, 0.03358155116438866, 0.036391302943229675, 0.18937668204307556, 0.03244517743587494, 0.06021039932966232, 0.03916927054524422, 0.040409550070762634, 0.05574262514710426, 0.0, 0.0, 0.0, 0.0, 0.0, 0.0, 0.0, 0.0, 0.0, 0.0, 0.0, 0.0, 0.0, 0.0, 0.0, 0.0, 0.0, 0.0, 0.0], [0.20265287160873413, 0.030252808704972267, 0.06003411114215851, 0.021786166355013847, 0.10314234346151352, 0.045168373733758926, 0.04681025817990303, 0.10542112588882446, 0.011398816481232643, 0.07159947603940964, 0.10570327937602997, 0.004199369344860315, 0.11079788953065872, 0.013912518508732319, 0.02892351523041725, 0.03286948800086975, 0.005327518563717604, 0.0, 0.0, 0.0, 0.0, 0.0, 0.0, 0.0, 0.0, 0.0, 0.0, 0.0, 0.0, 0.0, 0.0, 0.0, 0.0, 0.0, 0.0], [0.20498354732990265, 0.040072306990623474, 0.042298149317502975, 0.024939019232988358, 0.04992292821407318, 0.02937168814241886, 0.030769700184464455, 0.10315565019845963, 0.025490228086709976, 0.07886795699596405, 0.10560182482004166, 0.017352715134620667, 0.0808369442820549, 0.031286969780921936, 0.05451060086488724, 0.05288316681981087, 0.021742800250649452, 0.005913801025599241, 0.0, 0.0, 0.0, 0.0, 0.0, 0.0, 0.0, 0.0, 0.0, 0.0, 0.0, 0.0, 0.0, 0.0, 0.0, 0.0, 0.0], [0.24350903928279877, 0.03636488318443298, 0.041961655020713806, 0.026215726509690285, 0.0404457226395607, 0.09965365380048752, 0.02575223706662655, 0.032494619488716125, 0.024459952488541603, 0.035202641040086746, 0.03383539244532585, 0.033476896584033966, 0.04664863273501396, 0.027967914938926697, 0.018640795722603798, 0.11764261871576309, 0.038752879947423935, 0.022786682471632957, 0.05418813228607178, 0.0, 0.0, 0.0, 0.0, 0.0, 0.0, 0.0, 0.0, 0.0, 0.0, 0.0, 0.0, 0.0, 0.0, 0.0, 0.0], [0.14194568991661072, 0.03406403958797455, 0.033009909093379974, 0.020238706842064857, 0.03927317261695862, 0.02600555121898651, 0.0063186390325427055, 0.04079786688089371, 0.03638003394007683, 0.14631052315235138, 0.016386181116104126, 0.023598460480570793, 0.01584276743233204, 0.04227607324719429, 0.022458232939243317, 0.0686739832162857, 0.027878478169441223, 0.037222396582365036, 0.08677610754966736, 0.1345432549715042, 0.0, 0.0, 0.0, 0.0, 0.0, 0.0, 0.0, 0.0, 0.0, 0.0, 0.0, 0.0, 0.0, 0.0, 0.0], [0.21778127551078796, 0.026903681457042694, 0.023647215217351913, 0.00710256164893508, 0.035170022398233414, 0.013998538255691528, 0.010392273776233196, 0.09431248158216476, 0.002962291007861495, 0.03783804550766945, 0.037923313677310944, 0.003733975812792778, 0.06506100296974182, 0.0036364595871418715, 0.014758051373064518, 0.12028629332780838, 0.004900882486253977, 0.008107366971671581, 0.01744985394179821, 0.24998730421066284, 0.004047101363539696, 0.0, 0.0, 0.0, 0.0, 0.0, 0.0, 0.0, 0.0, 0.0, 0.0, 0.0, 0.0, 0.0, 0.0], [0.12187217175960541, 0.07663210481405258, 0.030231976881623268, 0.016371840611100197, 0.05268789455294609, 0.02140214666724205, 0.023403892293572426, 0.1064968928694725, 0.018582485616207123, 0.035091664642095566, 0.08394153416156769, 0.017393294721841812, 0.04183054342865944, 0.021453870460391045, 0.033331021666526794, 0.05027424544095993, 0.020740864798426628, 0.04090358689427376, 0.0305409524589777, 0.09200657159090042, 0.028245704248547554, 0.036564696580171585, 0.0, 0.0, 0.0, 0.0, 0.0, 0.0, 0.0, 0.0, 0.0, 0.0, 0.0, 0.0, 0.0], [0.2126019150018692, 0.02028411440551281, 0.050003714859485626, 0.015904176980257034, 0.05722508579492569, 0.022857310250401497, 0.046045877039432526, 0.03530842438340187, 0.011784469708800316, 0.041404832154512405, 0.016803612932562828, 0.015782058238983154, 0.02020842581987381, 0.013090190477669239, 0.020854240283370018, 0.06297556310892105, 0.018039435148239136, 0.018052963539958, 0.024445300921797752, 0.17059145867824554, 0.01593976467847824, 0.04152190312743187, 0.048275113105773926, 0.0, 0.0, 0.0, 0.0, 0.0, 0.0, 0.0, 0.0, 0.0, 0.0, 0.0, 0.0], [0.2671400308609009, 0.035646166652441025, 0.0204229187220335, 0.006622722838073969, 0.04034103453159332, 0.019110344350337982, 0.01457529328763485, 0.05641632899641991, 0.008403637446463108, 0.015526894479990005, 0.04414669796824455, 0.011055916547775269, 0.040019966661930084, 0.009353090077638626, 0.019351882860064507, 0.07054154574871063, 0.01279882900416851, 0.012832626700401306, 0.014165611937642097, 0.1173698902130127, 0.0073127844370901585, 0.09727416932582855, 0.020751141011714935, 0.03882049769163132, 0.0, 0.0, 0.0, 0.0, 0.0, 0.0, 0.0, 0.0, 0.0, 0.0, 0.0], [0.1459122896194458, 0.03319379687309265, 0.03138770908117294, 0.009927907958626747, 0.05209656432271004, 0.01984088309109211, 0.01940172165632248, 0.075824074447155, 0.012863250449299812, 0.03345127031207085, 0.016568398103117943, 0.014797153882682323, 0.05908385291695595, 0.015597393736243248, 0.011369232088327408, 0.021859483793377876, 0.019473878666758537, 0.014793703332543373, 0.05341864749789238, 0.0952148288488388, 0.01620456948876381, 0.062109172344207764, 0.06182850897312164, 0.06657971441745758, 0.037201959639787674, 0.0, 0.0, 0.0, 0.0, 0.0, 0.0, 0.0, 0.0, 0.0, 0.0], [0.06265700608491898, 0.014285162091255188, 0.025387225672602654, 0.030092529952526093, 0.02124691754579544, 0.02952989935874939, 0.026446690782904625, 0.014830494299530983, 0.015861934050917625, 0.043314315378665924, 0.021963968873023987, 0.0199701189994812, 0.043428532779216766, 0.01869288831949234, 0.00947535876184702, 0.024197492748498917, 0.023853639140725136, 0.026908745989203453, 0.01406070590019226, 0.17528504133224487, 0.03583676367998123, 0.047922566533088684, 0.0357506163418293, 0.01207052357494831, 0.05927427485585213, 0.14765654504299164, 0.0, 0.0, 0.0, 0.0, 0.0, 0.0, 0.0, 0.0, 0.0], [0.09766793996095657, 0.03152173385024071, 0.02668641321361065, 0.03645578399300575, 0.034923702478408813, 0.08635788410902023, 0.013895384036004543, 0.03018672578036785, 0.019402572885155678, 0.035141680389642715, 0.04878159612417221, 0.012551559135317802, 0.04099079594016075, 0.020208820700645447, 0.012653263285756111, 0.007451050914824009, 0.013522980734705925, 0.024078071117401123, 0.043027088046073914, 0.15066799521446228, 0.02925257943570614, 0.018810182809829712, 0.016104495152831078, 0.028549866750836372, 0.029875919222831726, 0.05121561139822006, 0.040018316358327866, 0.0, 0.0, 0.0, 0.0, 0.0, 0.0, 0.0, 0.0], [0.0915180966258049, 0.011421111412346363, 0.0397990345954895, 0.011658593080937862, 0.033443331718444824, 0.04107607156038284, 0.009538298472762108, 0.040612537413835526, 0.009114391170442104, 0.04690401628613472, 0.027317611500620842, 0.010844956152141094, 0.024547511711716652, 0.010004600510001183, 0.008095644414424896, 0.008396814577281475, 0.011855491437017918, 0.008184147998690605, 0.04104063659906387, 0.36258116364479065, 0.007537385448813438, 0.009961560368537903, 0.021045764908194542, 0.011855038814246655, 0.03005831688642502, 0.032811958342790604, 0.02886321395635605, 0.009912792593240738, 0.0, 0.0, 0.0, 0.0, 0.0, 0.0, 0.0], [0.1094629317522049, 0.025872724130749702, 0.023928716778755188, 0.020045259967446327, 0.035904448479413986, 0.031679846346378326, 0.029145298525691032, 0.11399827897548676, 0.013954722322523594, 0.03480715677142143, 0.0181056447327137, 0.01762225478887558, 0.01900731585919857, 0.015307595022022724, 0.009703018702566624, 0.01240796223282814, 0.020091699436306953, 0.02726253867149353, 0.0656459778547287, 0.02715539187192917, 0.02622661180794239, 0.018942993134260178, 0.04077142849564552, 0.019073303788900375, 0.021573422476649284, 0.030219439417123795, 0.07011830806732178, 0.06031463295221329, 0.041651081293821335, 0.0, 0.0, 0.0, 0.0, 0.0, 0.0], [0.11406350880861282, 0.026556236669421196, 0.019958432763814926, 0.008931465446949005, 0.03494322672486305, 0.01683431677520275, 0.00937773659825325, 0.0445132739841938, 0.0037722205743193626, 0.02876030094921589, 0.020741166546940804, 0.0056509943678975105, 0.060077618807554245, 0.004424977116286755, 0.010821852833032608, 0.04112930968403816, 0.007085718214511871, 0.01043399702757597, 0.02654852531850338, 0.11019265651702881, 0.007190010044723749, 0.056519392877817154, 0.02802707441151142, 0.06370093673467636, 0.03407692909240723, 0.07150982320308685, 0.04093319550156593, 0.014252976514399052, 0.06984370201826096, 0.009128457866609097, 0.0, 0.0, 0.0, 0.0, 0.0], [0.14399927854537964, 0.02045460231602192, 0.042623862624168396, 0.011592105031013489, 0.027789438143372536, 0.014342918992042542, 0.029106207191944122, 0.04215823858976364, 0.013669712468981743, 0.020581481978297234, 0.008641068823635578, 0.012402212247252464, 0.019577061757445335, 0.014879738911986351, 0.023319056257605553, 0.022367175668478012, 0.01441388763487339, 0.006065305322408676, 0.006985298823565245, 0.08859118074178696, 0.014219227246940136, 0.027541209012269974, 0.05707305297255516, 0.02498570829629898, 0.05733298510313034, 0.04808966442942619, 0.018268700689077377, 0.07940171658992767, 0.04377178102731705, 0.02484910562634468, 0.02090698853135109, 0.0, 0.0, 0.0, 0.0], [0.0778680145740509, 0.019732853397727013, 0.019906379282474518, 0.015179569832980633, 0.029269905760884285, 0.008963333442807198, 0.011427865363657475, 0.03169625625014305, 0.006965260952711105, 0.04064168408513069, 0.019985223188996315, 0.008789056912064552, 0.035749901086091995, 0.007953660562634468, 0.009612184949219227, 0.01496591791510582, 0.010367295704782009, 0.013544994406402111, 0.013747340068221092, 0.06818544864654541, 0.011837059631943703, 0.01935550943017006, 0.016761237755417824, 0.01630123145878315, 0.061250220984220505, 0.12023529410362244, 0.04739145189523697, 0.02382204681634903, 0.1494300365447998, 0.014121505431830883, 0.04741878807544708, 0.007523445412516594, 0.0, 0.0, 0.0], [0.14836610853672028, 0.03627423197031021, 0.02376876212656498, 0.005308398976922035, 0.03226036950945854, 0.01743944175541401, 0.015090282075107098, 0.04443071782588959, 0.004935787059366703, 0.021151496097445488, 0.02384909987449646, 0.006127791944891214, 0.04430980235338211, 0.005717848427593708, 0.006861453875899315, 0.016362618654966354, 0.007707127369940281, 0.009109631180763245, 0.028427591547369957, 0.14491389691829681, 0.0063516017980873585, 0.03453822806477547, 0.02327299490571022, 0.04803795367479324, 0.03441666439175606, 0.0697537213563919, 0.027561916038393974, 0.012016532011330128, 0.03535732254385948, 0.008575201965868473, 0.039163023233413696, 0.009715795516967773, 0.008826583623886108, 0.0, 0.0], [0.11389314383268356, 0.02193147875368595, 0.02644762210547924, 0.007602891884744167, 0.020530685782432556, 0.02971317246556282, 0.03694964572787285, 0.02875792793929577, 0.007981310598552227, 0.02935917302966118, 0.015349609777331352, 0.018420163542032242, 0.020850975066423416, 0.00851475726813078, 0.010930925607681274, 0.009227686561644077, 0.02127930335700512, 0.009222987107932568, 0.0276511050760746, 0.12458860874176025, 0.010509632527828217, 0.06096193194389343, 0.022033264860510826, 0.030366934835910797, 0.0274112056940794, 0.0345994308590889, 0.03202730789780617, 0.0395297110080719, 0.05353797972202301, 0.01773291453719139, 0.017497550696134567, 0.017771489918231964, 0.012080218642950058, 0.03473733738064766, 0.0], [0.13933585584163666, 0.021371260285377502, 0.01454137358814478, 0.005123289301991463, 0.0316351056098938, 0.010921811684966087, 0.012541360221803188, 0.02249288372695446, 0.004774260800331831, 0.024901414290070534, 0.010858358815312386, 0.010577716864645481, 0.02590608224272728, 0.0052865045145154, 0.016752298921346664, 0.04520437866449356, 0.012112238444387913, 0.014714686200022697, 0.014629187993705273, 0.08781160414218903, 0.007287843152880669, 0.07496533542871475, 0.015995552763342857, 0.043923426419496536, 0.04102412983775139, 0.07587803900241852, 0.0279245525598526, 0.015250172466039658, 0.013413446955382824, 0.014532784931361675, 0.027215443551540375, 0.034535545855760574, 0.018207421526312828, 0.0350533090531826, 0.0233012568205595]], [[1.0, 0.0, 0.0, 0.0, 0.0, 0.0, 0.0, 0.0, 0.0, 0.0, 0.0, 0.0, 0.0, 0.0, 0.0, 0.0, 0.0, 0.0, 0.0, 0.0, 0.0, 0.0, 0.0, 0.0, 0.0, 0.0, 0.0, 0.0, 0.0, 0.0, 0.0, 0.0, 0.0, 0.0, 0.0], [0.00041899713687598705, 0.9995810389518738, 0.0, 0.0, 0.0, 0.0, 0.0, 0.0, 0.0, 0.0, 0.0, 0.0, 0.0, 0.0, 0.0, 0.0, 0.0, 0.0, 0.0, 0.0, 0.0, 0.0, 0.0, 0.0, 0.0, 0.0, 0.0, 0.0, 0.0, 0.0, 0.0, 0.0, 0.0, 0.0, 0.0], [0.00013394800771493465, 0.009511870332062244, 0.9903541803359985, 0.0, 0.0, 0.0, 0.0, 0.0, 0.0, 0.0, 0.0, 0.0, 0.0, 0.0, 0.0, 0.0, 0.0, 0.0, 0.0, 0.0, 0.0, 0.0, 0.0, 0.0, 0.0, 0.0, 0.0, 0.0, 0.0, 0.0, 0.0, 0.0, 0.0, 0.0, 0.0], [0.0008606775081716478, 0.002610041992738843, 0.01506681740283966, 0.9814624786376953, 0.0, 0.0, 0.0, 0.0, 0.0, 0.0, 0.0, 0.0, 0.0, 0.0, 0.0, 0.0, 0.0, 0.0, 0.0, 0.0, 0.0, 0.0, 0.0, 0.0, 0.0, 0.0, 0.0, 0.0, 0.0, 0.0, 0.0, 0.0, 0.0, 0.0, 0.0], [3.717047002282925e-05, 0.0006769582396373153, 0.0012692961608991027, 0.00021407844906207174, 0.9978024363517761, 0.0, 0.0, 0.0, 0.0, 0.0, 0.0, 0.0, 0.0, 0.0, 0.0, 0.0, 0.0, 0.0, 0.0, 0.0, 0.0, 0.0, 0.0, 0.0, 0.0, 0.0, 0.0, 0.0, 0.0, 0.0, 0.0, 0.0, 0.0, 0.0, 0.0], [8.425408304901794e-05, 0.0007904706289991736, 0.0032152836211025715, 0.002708565443754196, 0.0013058249605819583, 0.9918956160545349, 0.0, 0.0, 0.0, 0.0, 0.0, 0.0, 0.0, 0.0, 0.0, 0.0, 0.0, 0.0, 0.0, 0.0, 0.0, 0.0, 0.0, 0.0, 0.0, 0.0, 0.0, 0.0, 0.0, 0.0, 0.0, 0.0, 0.0, 0.0, 0.0], [0.00014960514090489596, 0.001836186507716775, 0.0016375009436160326, 0.0010130589362233877, 0.004209812264889479, 8.004387927940115e-05, 0.9910737872123718, 0.0, 0.0, 0.0, 0.0, 0.0, 0.0, 0.0, 0.0, 0.0, 0.0, 0.0, 0.0, 0.0, 0.0, 0.0, 0.0, 0.0, 0.0, 0.0, 0.0, 0.0, 0.0, 0.0, 0.0, 0.0, 0.0, 0.0, 0.0], [0.000268556788796559, 0.0009259634534828365, 0.0008250512182712555, 0.0006819658447057009, 0.0072688753716647625, 0.0013517095940187573, 0.00034691672772169113, 0.9883309006690979, 0.0, 0.0, 0.0, 0.0, 0.0, 0.0, 0.0, 0.0, 0.0, 0.0, 0.0, 0.0, 0.0, 0.0, 0.0, 0.0, 0.0, 0.0, 0.0, 0.0, 0.0, 0.0, 0.0, 0.0, 0.0, 0.0, 0.0], [0.007326354272663593, 0.007828539237380028, 0.003931872546672821, 0.00018373994680587202, 6.433095404645428e-05, 0.00010083136294269934, 6.769891479052603e-05, 7.16408176231198e-05, 0.9804250597953796, 0.0, 0.0, 0.0, 0.0, 0.0, 0.0, 0.0, 0.0, 0.0, 0.0, 0.0, 0.0, 0.0, 0.0, 0.0, 0.0, 0.0, 0.0, 0.0, 0.0, 0.0, 0.0, 0.0, 0.0, 0.0, 0.0], [3.917574940714985e-05, 9.137415327131748e-05, 0.00033399093081243336, 6.816771201556548e-05, 7.812337571522221e-05, 0.0009843031875789165, 0.00016941323701757938, 0.0025414591655135155, 4.413309943629429e-05, 0.9956499934196472, 0.0, 0.0, 0.0, 0.0, 0.0, 0.0, 0.0, 0.0, 0.0, 0.0, 0.0, 0.0, 0.0, 0.0, 0.0, 0.0, 0.0, 0.0, 0.0, 0.0, 0.0, 0.0, 0.0, 0.0, 0.0], [5.52032270206837e-06, 2.3466505808755755e-05, 9.186466195387766e-05, 8.013433398446068e-05, 3.939216912840493e-05, 8.521587733412161e-05, 2.5735900635481812e-05, 7.12082110112533e-05, 4.276964318705723e-06, 0.00015049769717734307, 0.9994226694107056, 0.0, 0.0, 0.0, 0.0, 0.0, 0.0, 0.0, 0.0, 0.0, 0.0, 0.0, 0.0, 0.0, 0.0, 0.0, 0.0, 0.0, 0.0, 0.0, 0.0, 0.0, 0.0, 0.0, 0.0], [0.0010400306200608611, 0.002299363724887371, 0.002392069436609745, 0.00031332342769019306, 0.00013362920435611159, 0.0005168463685549796, 0.0011971108615398407, 6.827455217717215e-05, 0.005444326903671026, 0.00028217441285960376, 4.305734910303727e-05, 0.9862696528434753, 0.0, 0.0, 0.0, 0.0, 0.0, 0.0, 0.0, 0.0, 0.0, 0.0, 0.0, 0.0, 0.0, 0.0, 0.0, 0.0, 0.0, 0.0, 0.0, 0.0, 0.0, 0.0, 0.0], [4.630400871974416e-05, 0.00032482255483046174, 0.0002445938589517027, 0.0015311643946915865, 0.000861369539052248, 0.001294386456720531, 6.198453775141388e-05, 2.6642674129107036e-05, 4.8408594011561945e-05, 0.001985563663765788, 0.00013971856969874352, 0.00011434271436883137, 0.9933207631111145, 0.0, 0.0, 0.0, 0.0, 0.0, 0.0, 0.0, 0.0, 0.0, 0.0, 0.0, 0.0, 0.0, 0.0, 0.0, 0.0, 0.0, 0.0, 0.0, 0.0, 0.0, 0.0], [0.003044240642338991, 0.001822363119572401, 0.0009289864683523774, 4.880229971604422e-05, 1.6391151802963577e-05, 2.909561590058729e-05, 2.507976387278177e-05, 2.913023672590498e-05, 0.4563220143318176, 2.4578661395935342e-05, 2.4832152121234685e-05, 0.0030043956357985735, 1.6773799416114343e-06, 0.5346784591674805, 0.0, 0.0, 0.0, 0.0, 0.0, 0.0, 0.0, 0.0, 0.0, 0.0, 0.0, 0.0, 0.0, 0.0, 0.0, 0.0, 0.0, 0.0, 0.0, 0.0, 0.0], [0.0003981802728958428, 0.0010285042226314545, 0.0008281139889732003, 0.0002375323383603245, 7.348884537350386e-05, 0.0014350343262776732, 6.76568306516856e-05, 0.0002954751253128052, 0.0001429583498975262, 9.929129737429321e-05, 4.608238214132143e-06, 0.0005140082212164998, 5.035671620134963e-06, 0.0001247556647285819, 0.9947452545166016, 0.0, 0.0, 0.0, 0.0, 0.0, 0.0, 0.0, 0.0, 0.0, 0.0, 0.0, 0.0, 0.0, 0.0, 0.0, 0.0, 0.0, 0.0, 0.0, 0.0], [9.074846457224339e-05, 0.00026526013971306384, 0.00011011175956809893, 0.00021231925347819924, 8.290549885714427e-05, 0.0011814202880486846, 1.5688701751059853e-05, 0.001665595336817205, 1.1725320291589014e-05, 0.002050942974165082, 0.00013842583575751632, 1.5573619748465717e-05, 1.1507407180033624e-05, 9.066183338291012e-06, 0.000226557778660208, 0.9939121007919312, 0.0, 0.0, 0.0, 0.0, 0.0, 0.0, 0.0, 0.0, 0.0, 0.0, 0.0, 0.0, 0.0, 0.0, 0.0, 0.0, 0.0, 0.0, 0.0], [0.00044135446660220623, 0.0006528966478072107, 0.0006495668785646558, 9.39807141548954e-05, 4.1127124859485775e-05, 0.00017028441652655602, 0.0005066706798970699, 2.889609277190175e-05, 0.002370184753090143, 0.00010454314178787172, 1.9230965335736983e-05, 0.47055861353874207, 1.6804015103843994e-05, 0.002284094225615263, 0.0002169813815271482, 3.276942879892886e-05, 0.5218120217323303, 0.0, 0.0, 0.0, 0.0, 0.0, 0.0, 0.0, 0.0, 0.0, 0.0, 0.0, 0.0, 0.0, 0.0, 0.0, 0.0, 0.0, 0.0], [0.0005350514547899365, 0.0006631249561905861, 0.00018957482825499028, 0.00011594546231208369, 3.930590901290998e-05, 8.452105976175517e-05, 0.0002685999497771263, 0.0003003481251653284, 0.00012727586727123708, 0.0001536341296741739, 2.152451270376332e-05, 0.00041020181379280984, 0.0015090395463630557, 0.00011659023584797978, 0.00013773961109109223, 7.38914095563814e-05, 0.00039899442344903946, 0.9948545694351196, 0.0, 0.0, 0.0, 0.0, 0.0, 0.0, 0.0, 0.0, 0.0, 0.0, 0.0, 0.0, 0.0, 0.0, 0.0, 0.0, 0.0], [0.0002235247375210747, 0.0002502534771338105, 0.00011739339242922142, 1.8608268874231726e-05, 0.0006291492027230561, 0.0007579223602078855, 3.784089858527295e-05, 0.0033851468469947577, 1.791827889974229e-05, 0.00017818278865888715, 3.4344302548561245e-05, 7.747583731543273e-05, 6.471157394116744e-05, 1.5270292351488024e-05, 0.00029359618201851845, 0.0005734388250857592, 7.154398190323263e-05, 0.00015883143350947648, 0.993094801902771, 0.0, 0.0, 0.0, 0.0, 0.0, 0.0, 0.0, 0.0, 0.0, 0.0, 0.0, 0.0, 0.0, 0.0, 0.0, 0.0], [0.0003064100455958396, 0.0004168007289990783, 0.00045197168947197497, 0.0001574638154124841, 0.0015800747787579894, 0.002266630297526717, 0.0001448360417271033, 0.002518873428925872, 4.4711858208756894e-05, 0.002739467890933156, 0.0004348976071923971, 0.0001568310835864395, 2.8505713999038562e-05, 4.0058243030216545e-05, 0.0005936674424447119, 0.00011775210441555828, 0.0001403962232870981, 0.00018060376169160008, 0.0009641882497817278, 0.9867160320281982, 0.0, 0.0, 0.0, 0.0, 0.0, 0.0, 0.0, 0.0, 0.0, 0.0, 0.0, 0.0, 0.0, 0.0, 0.0], [0.009046883322298527, 0.0007260903948917985, 6.491786189144477e-05, 4.578270090860315e-05, 3.669531724881381e-05, 3.389696212252602e-05, 4.1313247493235394e-05, 9.000120189739391e-05, 0.016163920983672142, 1.895378591143526e-05, 3.351377745275386e-05, 0.002181082731112838, 5.341176802176051e-06, 0.018749451264739037, 0.00017897749785333872, 0.00049936881987378, 0.0024355670902878046, 4.2716070311143994e-05, 7.329296204261482e-05, 1.9154376786900684e-05, 0.9495131969451904, 0.0, 0.0, 0.0, 0.0, 0.0, 0.0, 0.0, 0.0, 0.0, 0.0, 0.0, 0.0, 0.0, 0.0], [0.00021946309425402433, 0.0011669573141261935, 0.00021983239275868982, 0.0009876296389847994, 0.0003133848658762872, 0.00012072652316419408, 5.631537078443216e-06, 2.426006358291488e-05, 4.5442007831297815e-05, 1.8529610315454192e-05, 1.402572524966672e-05, 1.0154995834454894e-05, 0.00040180241921916604, 4.052645817864686e-05, 0.00017106739687733352, 9.869055247690994e-06, 9.488570867688395e-06, 0.0003931090177502483, 5.709418473998085e-06, 1.7844307876657695e-05, 2.853043406503275e-05, 0.9957759976387024, 0.0, 0.0, 0.0, 0.0, 0.0, 0.0, 0.0, 0.0, 0.0, 0.0, 0.0, 0.0, 0.0], [0.00019360968144610524, 0.0008434188785031438, 0.0005215294077061117, 2.566454350017011e-05, 0.00046233198372647166, 0.0002540157292969525, 1.8471218936610967e-05, 0.00011509785690577701, 0.00027288973797112703, 0.00015436660032719374, 1.2149135727668181e-05, 0.0006913739489391446, 5.695980507880449e-05, 0.00024024763843044639, 3.827493128483184e-05, 9.934449917636812e-05, 0.0006488916696980596, 8.011733734747395e-05, 0.00019218820671085268, 2.5529450795147568e-05, 0.00032434778404422104, 0.0010871072299778461, 0.9936421513557434, 0.0, 0.0, 0.0, 0.0, 0.0, 0.0, 0.0, 0.0, 0.0, 0.0, 0.0, 0.0], [0.001607762067578733, 0.17697355151176453, 0.015483579598367214, 0.0003713874612003565, 0.0003786337038036436, 0.0001645270676817745, 0.0003277379728388041, 0.00016989692812785506, 0.002122961450368166, 3.573095455067232e-05, 6.090143870096654e-05, 0.0004562163958325982, 1.544778933748603e-05, 0.002254315186291933, 0.0015666879480704665, 0.00011843751417472959, 0.00046998911420814693, 5.0373157137073576e-05, 0.00012108059308957309, 6.008965283399448e-05, 0.0008920569671317935, 0.0007518448401242495, 0.0002689965476747602, 0.7952778339385986, 0.0, 0.0, 0.0, 0.0, 0.0, 0.0, 0.0, 0.0, 0.0, 0.0, 0.0], [0.0003919860755559057, 0.00021421183191705495, 0.0005306116072461009, 1.0745787221821956e-05, 0.00011862369865411893, 4.2257714085280895e-05, 0.0002116035611834377, 4.6925462811486796e-05, 0.00044815789442509413, 0.0001069127902155742, 3.935461791115813e-05, 0.00016830845561344177, 0.00017352333816234022, 0.00045245056389831007, 0.00014294101856648922, 0.00011699317838065326, 0.00017526798183098435, 0.00010119943908648565, 4.251387144904584e-05, 2.037170452240389e-05, 3.837128315353766e-05, 0.00011344613449182361, 0.00025279278634116054, 6.991026748437434e-05, 0.995970606803894, 0.0, 0.0, 0.0, 0.0, 0.0, 0.0, 0.0, 0.0, 0.0, 0.0], [0.00021530689264182, 0.00010005837248172611, 0.0023809175472706556, 0.0019831398967653513, 0.0011120116105303168, 5.56346531084273e-05, 0.0006109260721132159, 0.00024564351770095527, 8.819002687232569e-05, 0.001151039614342153, 0.00010669895709725097, 0.00017554863006807864, 5.736270759371109e-05, 7.814791024429724e-05, 0.00024573440896347165, 9.594667062629014e-06, 0.00017032388132065535, 2.8972668587812223e-05, 1.4011695384397171e-05, 0.00016692077042534947, 1.288886687689228e-05, 0.0002449555031489581, 0.0005147011252120137, 4.942108353134245e-05, 0.0005746557144448161, 0.9896069169044495, 0.0, 0.0, 0.0, 0.0, 0.0, 0.0, 0.0, 0.0, 0.0], [0.00011423405521782115, 0.0008627416682429612, 0.000773223175201565, 0.0007090752478688955, 0.0007292136433534324, 0.0014031626051291823, 0.00021403591381385922, 0.00017666479106992483, 6.622043292736635e-05, 3.215936885681003e-05, 0.00045330575085245073, 0.00012008490739390254, 2.212902472820133e-05, 5.807502748211846e-05, 0.00012917432468384504, 1.9079669073107652e-05, 0.00011076665396103635, 8.564188647142146e-06, 2.3630544092156924e-05, 0.0003379980626050383, 5.211892130319029e-05, 0.00014455680502578616, 0.00019694946240633726, 0.0004510525322984904, 2.0576262613758445e-05, 8.764302037889138e-05, 0.992683470249176, 0.0, 0.0, 0.0, 0.0, 0.0, 0.0, 0.0, 0.0], [0.00019798318680841476, 0.00019567922572605312, 0.00022612222528550774, 0.00041943631367757916, 0.0005979692214168608, 0.0004517437773756683, 0.00034782872535288334, 0.0002585809852462262, 2.8019851015415043e-05, 0.0007220002007670701, 0.00013010443944949657, 0.0011632051318883896, 6.916901475051418e-05, 2.4789105736999772e-05, 0.00010386004578322172, 0.00038124900311231613, 0.0011587797198444605, 0.0003314440546091646, 0.00024494522949680686, 0.0001275516115128994, 0.0001609843602636829, 1.9267865354777314e-05, 0.0002717415918596089, 2.0765532099176198e-05, 6.82506724842824e-05, 0.0008764249505475163, 0.000678215641528368, 0.9907240271568298, 0.0, 0.0, 0.0, 0.0, 0.0, 0.0, 0.0], [3.15718243655283e-05, 0.0006791104096919298, 0.0007090706494636834, 0.00024164830392692238, 0.0004120537487324327, 0.0009237416088581085, 0.00020848536223638803, 6.639285129494965e-05, 0.0001166481597465463, 8.601924491813406e-05, 0.010591290891170502, 0.0003372906649019569, 2.189846600231249e-05, 0.00010110713628819212, 0.00010436090815346688, 5.858735312358476e-05, 0.0003251209273003042, 1.58541133714607e-05, 5.033602519688429e-06, 0.00040948978858068585, 1.3119489267410245e-05, 5.313342990120873e-05, 1.1887245818797965e-05, 5.536664684768766e-05, 1.2197680007375311e-05, 8.952633652370423e-05, 0.002243548398837447, 0.00021041893342044204, 0.9818659424781799, 0.0, 0.0, 0.0, 0.0, 0.0, 0.0], [0.0007582924445159733, 0.0012331459438428283, 8.604941103840247e-05, 6.291332101682201e-05, 2.8791788281523623e-05, 3.316687434562482e-05, 7.622719567734748e-05, 0.00010868187382584438, 0.006450857501477003, 0.0001478909543948248, 1.0376495993114077e-05, 0.0023889727890491486, 7.883606303948909e-05, 0.007510701660066843, 0.0002874316123779863, 0.0001367574732284993, 0.002760297618806362, 0.0007447169627994299, 8.811110456008464e-05, 2.4702098016859964e-05, 0.006188873201608658, 0.00011647059727692977, 0.00017244012269657105, 0.0002621751045808196, 0.00018419795378576964, 4.432135756360367e-05, 4.855170482187532e-05, 8.903061097953469e-05, 2.6887826606980525e-05, 0.9698501229286194, 0.0, 0.0, 0.0, 0.0, 0.0], [0.00024627448874525726, 0.00035919935908168554, 0.00020521895203273743, 9.387753379996866e-05, 8.577329572290182e-05, 5.4952157370280474e-05, 4.5318392949411646e-05, 1.0722178558353335e-05, 4.8671168769942597e-05, 0.00011017606448149309, 0.00010064090747619048, 9.772244811756536e-05, 0.0005496814264915884, 4.362943218438886e-05, 3.945791468140669e-05, 7.140225352486596e-05, 9.814357326831669e-05, 5.700969632016495e-05, 2.425112688797526e-05, 2.314567382200039e-06, 5.0569437007652596e-05, 0.0001131849130615592, 0.00029069939046166837, 6.889968062750995e-05, 0.0006683265091851354, 0.00023217458510771394, 8.348712981387507e-06, 1.7434645997127518e-05, 1.0273118277837057e-05, 0.00013885702355764806, 0.9960567951202393, 0.0, 0.0, 0.0, 0.0], [0.00011105906014563516, 3.59915939043276e-05, 4.416057709022425e-05, 0.000225963638513349, 0.00024025869788601995, 1.7348933397443034e-05, 7.204298162832856e-05, 0.0002373898751102388, 8.274747960967943e-05, 0.00010178551019635051, 7.876389645389281e-06, 6.391833449015394e-05, 3.295210990472697e-05, 7.889195694588125e-05, 0.00011627462663454935, 7.139148237911286e-06, 6.571759877260774e-05, 5.3963635764375795e-06, 8.33402282296447e-06, 1.9613898984971456e-05, 4.11063629144337e-05, 8.538003021385521e-05, 3.1616138585377485e-05, 9.91699198493734e-06, 2.3832410079194233e-05, 0.0018293517641723156, 2.6111230909009464e-05, 3.3135107514681295e-05, 1.461270858271746e-05, 0.0008547278121113777, 0.00016745159518904984, 0.9953078627586365, 0.0, 0.0, 0.0], [0.0022552248556166887, 0.0004647754249162972, 0.00012283753312658519, 0.006661214865744114, 8.828951831674203e-05, 0.00024942762684077024, 0.00017555151134729385, 2.656347533047665e-05, 0.004149142652750015, 0.00020833106827922165, 1.597336449776776e-05, 0.0007248223409987986, 1.231808346346952e-05, 0.004929245449602604, 0.0007067776750773191, 2.7460220735520124e-05, 0.0008252456318587065, 5.1487324526533484e-05, 9.107245205086656e-06, 0.0011702000629156828, 0.0011320505291223526, 0.0003872279485221952, 0.00010000276961363852, 0.0005395385669544339, 0.00012797686213161796, 7.418715540552512e-05, 0.0006351851625367999, 5.991848956909962e-05, 0.00020302357734180987, 0.022641262039542198, 7.111399463610724e-05, 0.003479855600744486, 0.947674572467804, 0.0, 0.0], [0.00010488830594113097, 0.0005403999239206314, 0.0002700613404158503, 2.7820002287626266e-05, 0.0008878550142981112, 0.00025317323161289096, 0.0002921410487033427, 0.0009951486717909575, 3.943215779145248e-05, 6.531640246976167e-05, 5.198342842049897e-05, 0.0006716360803693533, 1.9524222807376646e-05, 3.796441524173133e-05, 0.0003154709411319345, 0.00015760367386974394, 0.0006809124606661499, 0.00017366770771332085, 0.0002327592665096745, 0.0004935214528813958, 0.00015254261961672455, 8.968886686488986e-05, 0.0014225832419469953, 0.00022503116633743048, 0.0001539226941531524, 0.00010696918616304174, 0.005650249309837818, 0.0008653252734802663, 0.0002874955243896693, 0.00013868528185412288, 1.4354200175148435e-05, 2.81620305031538e-05, 0.00011612025991780683, 0.9844375848770142, 0.0], [0.001883037039078772, 0.0002301395288668573, 7.19053641660139e-05, 3.798290890699718e-06, 0.002256361534819007, 4.367974543129094e-05, 0.0001278294512303546, 0.0006368020549416542, 0.0005363994278013706, 5.325703568814788e-06, 7.917847688077018e-05, 2.60159868048504e-05, 1.1253255252086092e-05, 0.0005611243541352451, 9.103791853704024e-06, 0.00021052229567430913, 2.689111715881154e-05, 3.242438833694905e-05, 0.0002593934768810868, 0.00045266668894328177, 0.0011520993430167437, 1.1493529200379271e-05, 4.818234810954891e-05, 0.00010571501479716972, 8.452797919744626e-05, 0.00010020854097092524, 2.848370604624506e-05, 2.0415431208675727e-05, 1.8022955146079767e-06, 7.628954335814342e-05, 4.6043314796406776e-05, 9.9735647381749e-05, 5.258399141894188e-06, 0.00019488483667373657, 0.9905610680580139]], [[1.0, 0.0, 0.0, 0.0, 0.0, 0.0, 0.0, 0.0, 0.0, 0.0, 0.0, 0.0, 0.0, 0.0, 0.0, 0.0, 0.0, 0.0, 0.0, 0.0, 0.0, 0.0, 0.0, 0.0, 0.0, 0.0, 0.0, 0.0, 0.0, 0.0, 0.0, 0.0, 0.0, 0.0, 0.0], [0.9424744844436646, 0.05752556398510933, 0.0, 0.0, 0.0, 0.0, 0.0, 0.0, 0.0, 0.0, 0.0, 0.0, 0.0, 0.0, 0.0, 0.0, 0.0, 0.0, 0.0, 0.0, 0.0, 0.0, 0.0, 0.0, 0.0, 0.0, 0.0, 0.0, 0.0, 0.0, 0.0, 0.0, 0.0, 0.0, 0.0], [0.8506749868392944, 0.09740973263978958, 0.051915328949689865, 0.0, 0.0, 0.0, 0.0, 0.0, 0.0, 0.0, 0.0, 0.0, 0.0, 0.0, 0.0, 0.0, 0.0, 0.0, 0.0, 0.0, 0.0, 0.0, 0.0, 0.0, 0.0, 0.0, 0.0, 0.0, 0.0, 0.0, 0.0, 0.0, 0.0, 0.0, 0.0], [0.7641513347625732, 0.10970379412174225, 0.07497042417526245, 0.05117451772093773, 0.0, 0.0, 0.0, 0.0, 0.0, 0.0, 0.0, 0.0, 0.0, 0.0, 0.0, 0.0, 0.0, 0.0, 0.0, 0.0, 0.0, 0.0, 0.0, 0.0, 0.0, 0.0, 0.0, 0.0, 0.0, 0.0, 0.0, 0.0, 0.0, 0.0, 0.0], [0.6748190522193909, 0.08416198194026947, 0.054702531546354294, 0.07581549137830734, 0.11050093173980713, 0.0, 0.0, 0.0, 0.0, 0.0, 0.0, 0.0, 0.0, 0.0, 0.0, 0.0, 0.0, 0.0, 0.0, 0.0, 0.0, 0.0, 0.0, 0.0, 0.0, 0.0, 0.0, 0.0, 0.0, 0.0, 0.0, 0.0, 0.0, 0.0, 0.0], [0.6857606768608093, 0.08229528367519379, 0.052021171897649765, 0.08139178156852722, 0.04085880145430565, 0.05767223238945007, 0.0, 0.0, 0.0, 0.0, 0.0, 0.0, 0.0, 0.0, 0.0, 0.0, 0.0, 0.0, 0.0, 0.0, 0.0, 0.0, 0.0, 0.0, 0.0, 0.0, 0.0, 0.0, 0.0, 0.0, 0.0, 0.0, 0.0, 0.0, 0.0], [0.6174605488777161, 0.05653451755642891, 0.09111694991588593, 0.06854881346225739, 0.06338419765233994, 0.03596973791718483, 0.066985122859478, 0.0, 0.0, 0.0, 0.0, 0.0, 0.0, 0.0, 0.0, 0.0, 0.0, 0.0, 0.0, 0.0, 0.0, 0.0, 0.0, 0.0, 0.0, 0.0, 0.0, 0.0, 0.0, 0.0, 0.0, 0.0, 0.0, 0.0, 0.0], [0.6047279834747314, 0.06088966503739357, 0.05921151489019394, 0.09558156877756119, 0.042659129947423935, 0.031843431293964386, 0.042630650103092194, 0.06245602294802666, 0.0, 0.0, 0.0, 0.0, 0.0, 0.0, 0.0, 0.0, 0.0, 0.0, 0.0, 0.0, 0.0, 0.0, 0.0, 0.0, 0.0, 0.0, 0.0, 0.0, 0.0, 0.0, 0.0, 0.0, 0.0, 0.0, 0.0], [0.4008437991142273, 0.0753358006477356, 0.042708415538072586, 0.011760728433728218, 0.02668057009577751, 0.013492075726389885, 0.02846546843647957, 0.013900600373744965, 0.3868124783039093, 0.0, 0.0, 0.0, 0.0, 0.0, 0.0, 0.0, 0.0, 0.0, 0.0, 0.0, 0.0, 0.0, 0.0, 0.0, 0.0, 0.0, 0.0, 0.0, 0.0, 0.0, 0.0, 0.0, 0.0, 0.0, 0.0], [0.49680259823799133, 0.06792881339788437, 0.05792006477713585, 0.07101531326770782, 0.06963258981704712, 0.018800102174282074, 0.06757563352584839, 0.06346483528614044, 0.06656690686941147, 0.020293204113841057, 0.0, 0.0, 0.0, 0.0, 0.0, 0.0, 0.0, 0.0, 0.0, 0.0, 0.0, 0.0, 0.0, 0.0, 0.0, 0.0, 0.0, 0.0, 0.0, 0.0, 0.0, 0.0, 0.0, 0.0, 0.0], [0.5176078081130981, 0.08289013803005219, 0.05239768326282501, 0.06842362135648727, 0.04608829692006111, 0.026865946128964424, 0.08181481808423996, 0.03230837732553482, 0.05516275763511658, 0.018549619242548943, 0.01789088360965252, 0.0, 0.0, 0.0, 0.0, 0.0, 0.0, 0.0, 0.0, 0.0, 0.0, 0.0, 0.0, 0.0, 0.0, 0.0, 0.0, 0.0, 0.0, 0.0, 0.0, 0.0, 0.0, 0.0, 0.0], [0.3038182556629181, 0.03185644373297691, 0.02915770374238491, 0.011053649708628654, 0.013536774553358555, 0.016536902636289597, 0.015181961469352245, 0.01551173534244299, 0.026294974610209465, 0.0168909952044487, 0.011886665597558022, 0.5082739591598511, 0.0, 0.0, 0.0, 0.0, 0.0, 0.0, 0.0, 0.0, 0.0, 0.0, 0.0, 0.0, 0.0, 0.0, 0.0, 0.0, 0.0, 0.0, 0.0, 0.0, 0.0, 0.0, 0.0], [0.3585987687110901, 0.07880906760692596, 0.05902865529060364, 0.044458672404289246, 0.07822323590517044, 0.019679516553878784, 0.05133120343089104, 0.04009842127561569, 0.08024682104587555, 0.02781190350651741, 0.010250618681311607, 0.1361035853624344, 0.015359463170170784, 0.0, 0.0, 0.0, 0.0, 0.0, 0.0, 0.0, 0.0, 0.0, 0.0, 0.0, 0.0, 0.0, 0.0, 0.0, 0.0, 0.0, 0.0, 0.0, 0.0, 0.0, 0.0], [0.2511676251888275, 0.04623398557305336, 0.02783856727182865, 0.007056493312120438, 0.01724417321383953, 0.008997929282486439, 0.017309946939349174, 0.009924139827489853, 0.25275108218193054, 0.012778297066688538, 0.008546075783669949, 0.04791995882987976, 0.006098275538533926, 0.28613337874412537, 0.0, 0.0, 0.0, 0.0, 0.0, 0.0, 0.0, 0.0, 0.0, 0.0, 0.0, 0.0, 0.0, 0.0, 0.0, 0.0, 0.0, 0.0, 0.0, 0.0, 0.0], [0.39800772070884705, 0.06433819979429245, 0.04979854077100754, 0.05949564650654793, 0.03182113543152809, 0.03071473352611065, 0.05899551510810852, 0.05480389669537544, 0.03919370472431183, 0.03556445613503456, 0.024916479364037514, 0.04571932181715965, 0.016671663150191307, 0.0389430969953537, 0.051015835255384445, 0.0, 0.0, 0.0, 0.0, 0.0, 0.0, 0.0, 0.0, 0.0, 0.0, 0.0, 0.0, 0.0, 0.0, 0.0, 0.0, 0.0, 0.0, 0.0, 0.0], [0.3903382420539856, 0.0754939392209053, 0.03844676911830902, 0.043667785823345184, 0.017820749431848526, 0.01271218154579401, 0.04530724138021469, 0.03603021055459976, 0.042170681059360504, 0.01675303280353546, 0.0422486774623394, 0.0509234182536602, 0.030772075057029724, 0.04072083905339241, 0.05648886784911156, 0.060105253010988235, 0.0, 0.0, 0.0, 0.0, 0.0, 0.0, 0.0, 0.0, 0.0, 0.0, 0.0, 0.0, 0.0, 0.0, 0.0, 0.0, 0.0, 0.0, 0.0], [0.1818235069513321, 0.018224775791168213, 0.017477907240390778, 0.006372255738824606, 0.007922587916254997, 0.010062879882752895, 0.008703161031007767, 0.010297481901943684, 0.01535444613546133, 0.011538180522620678, 0.007091046776622534, 0.3139553964138031, 0.006019818130880594, 0.015887577086687088, 0.015422003343701363, 0.013188590295612812, 0.3406583070755005, 0.0, 0.0, 0.0, 0.0, 0.0, 0.0, 0.0, 0.0, 0.0, 0.0, 0.0, 0.0, 0.0, 0.0, 0.0, 0.0, 0.0, 0.0], [0.23881429433822632, 0.07684361934661865, 0.04843560606241226, 0.02831977605819702, 0.0429762564599514, 0.01943075656890869, 0.03321722149848938, 0.027472928166389465, 0.018975937739014626, 0.040467504411935806, 0.020095618441700935, 0.058573197573423386, 0.03530574589967728, 0.019691890105605125, 0.09703773260116577, 0.03909806162118912, 0.061994533985853195, 0.09324949234724045, 0.0, 0.0, 0.0, 0.0, 0.0, 0.0, 0.0, 0.0, 0.0, 0.0, 0.0, 0.0, 0.0, 0.0, 0.0, 0.0, 0.0], [0.3563612401485443, 0.04354535788297653, 0.0543937012553215, 0.03599720075726509, 0.055608730763196945, 0.03285680338740349, 0.019443854689598083, 0.06911692023277283, 0.020649442449212074, 0.03360532596707344, 0.027618741616606712, 0.03408000245690346, 0.02684745565056801, 0.020337311550974846, 0.022298937663435936, 0.036227356642484665, 0.034644752740859985, 0.022655004635453224, 0.05371185019612312, 0.0, 0.0, 0.0, 0.0, 0.0, 0.0, 0.0, 0.0, 0.0, 0.0, 0.0, 0.0, 0.0, 0.0, 0.0, 0.0], [0.3967011272907257, 0.05178235098719597, 0.039961930364370346, 0.06630745530128479, 0.045571859925985336, 0.02398340031504631, 0.01939675584435463, 0.021365977823734283, 0.020253777503967285, 0.036855824291706085, 0.009492042474448681, 0.041810017079114914, 0.014498689211905003, 0.019783735275268555, 0.029715238139033318, 0.046315453946590424, 0.042466454207897186, 0.03147520124912262, 0.02202763967216015, 0.020235029980540276, 0.0, 0.0, 0.0, 0.0, 0.0, 0.0, 0.0, 0.0, 0.0, 0.0, 0.0, 0.0, 0.0, 0.0, 0.0], [0.2315138727426529, 0.13258197903633118, 0.0602610819041729, 0.01138360146433115, 0.024262722581624985, 0.01455346867442131, 0.016979562118649483, 0.013957405462861061, 0.02247590944170952, 0.027721282094717026, 0.02060709521174431, 0.040846824645996094, 0.027723226696252823, 0.02455071359872818, 0.03857921063899994, 0.04770100861787796, 0.04407113417983055, 0.07720746099948883, 0.046044714748859406, 0.04773344472050667, 0.02924429252743721, 0.0, 0.0, 0.0, 0.0, 0.0, 0.0, 0.0, 0.0, 0.0, 0.0, 0.0, 0.0, 0.0, 0.0], [0.20264174044132233, 0.04893084615468979, 0.03894681856036186, 0.026632295921444893, 0.040943484753370285, 0.016175055876374245, 0.04388014227151871, 0.04927310347557068, 0.037442896515131, 0.018747955560684204, 0.010438336990773678, 0.03027418628334999, 0.011668813414871693, 0.03915901109576225, 0.083619125187397, 0.026806537061929703, 0.03237596154212952, 0.026771051809191704, 0.041368670761585236, 0.04380549117922783, 0.09921547770500183, 0.03088301233947277, 0.0, 0.0, 0.0, 0.0, 0.0, 0.0, 0.0, 0.0, 0.0, 0.0, 0.0, 0.0, 0.0], [0.22999967634677887, 0.029275385662913322, 0.024823682382702827, 0.030747536569833755, 0.024439770728349686, 0.0250781811773777, 0.01904827542603016, 0.04161752015352249, 0.02524642087519169, 0.05536346510052681, 0.013840350322425365, 0.03206312283873558, 0.023373719304800034, 0.02689637988805771, 0.037655871361494064, 0.02870968170464039, 0.03498142957687378, 0.038269270211458206, 0.05304878577589989, 0.07750774174928665, 0.042357511818408966, 0.0629706084728241, 0.02268563210964203, 0.0, 0.0, 0.0, 0.0, 0.0, 0.0, 0.0, 0.0, 0.0, 0.0, 0.0, 0.0], [0.2523007094860077, 0.04309259355068207, 0.047794342041015625, 0.02153482288122177, 0.05364762991666794, 0.014357623644173145, 0.016968194395303726, 0.012399846687912941, 0.028107941150665283, 0.022964561358094215, 0.013637302443385124, 0.03462432697415352, 0.013057571835815907, 0.029753565788269043, 0.025925690308213234, 0.03689541295170784, 0.03646587207913399, 0.020091162994503975, 0.03424844145774841, 0.032270632684230804, 0.07516519725322723, 0.033814020454883575, 0.05794446915388107, 0.04293809086084366, 0.0, 0.0, 0.0, 0.0, 0.0, 0.0, 0.0, 0.0, 0.0, 0.0, 0.0], [0.24815592169761658, 0.0418383851647377, 0.03725353255867958, 0.019914183765649796, 0.060311757028102875, 0.013761507347226143, 0.01023701298981905, 0.027118362486362457, 0.021247489377856255, 0.014996419660747051, 0.015956413000822067, 0.019741930067539215, 0.01694285310804844, 0.02278241701424122, 0.021159427240490913, 0.01341978833079338, 0.02113155648112297, 0.015880078077316284, 0.03851574286818504, 0.03509928658604622, 0.06386469304561615, 0.04215894639492035, 0.05595177412033081, 0.06510591506958008, 0.057454630732536316, 0.0, 0.0, 0.0, 0.0, 0.0, 0.0, 0.0, 0.0, 0.0, 0.0], [0.24590611457824707, 0.039794616401195526, 0.03405004367232323, 0.03872009739279747, 0.028344353660941124, 0.024568259716033936, 0.01368724461644888, 0.019880937412381172, 0.017507927492260933, 0.04131212830543518, 0.024649063125252724, 0.017028070986270905, 0.015493780374526978, 0.01803991012275219, 0.028712531551718712, 0.008945331908762455, 0.017858820036053658, 0.029846535995602608, 0.026982227340340614, 0.06119255721569061, 0.03972140699625015, 0.040086906403303146, 0.04656378924846649, 0.04659208655357361, 0.04635816812515259, 0.028156952932476997, 0.0, 0.0, 0.0, 0.0, 0.0, 0.0, 0.0, 0.0, 0.0], [0.242995023727417, 0.03093666210770607, 0.037281107157468796, 0.029979800805449486, 0.03951822966337204, 0.020689722150564194, 0.02446378953754902, 0.016162265092134476, 0.02351461909711361, 0.015184110961854458, 0.009779488667845726, 0.010400430299341679, 0.00883074663579464, 0.02398892305791378, 0.024419227614998817, 0.03784200921654701, 0.010589987970888615, 0.013367552310228348, 0.0162633266299963, 0.09984056651592255, 0.02563280053436756, 0.027902817353606224, 0.05468779057264328, 0.03170407935976982, 0.027479570358991623, 0.016517242416739464, 0.08002806454896927, 0.0, 0.0, 0.0, 0.0, 0.0, 0.0, 0.0, 0.0], [0.24383299052715302, 0.021781539544463158, 0.01905849762260914, 0.02660839818418026, 0.03740561008453369, 0.02708663046360016, 0.0050316075794398785, 0.026656057685613632, 0.017429368570446968, 0.028662465512752533, 0.012151014991104603, 0.03022322990000248, 0.0140682989731431, 0.018160909414291382, 0.015435303561389446, 0.01572182960808277, 0.03215308487415314, 0.024972990155220032, 0.04793378338217735, 0.045989975333213806, 0.031192155554890633, 0.03841525316238403, 0.037881236523389816, 0.03472229093313217, 0.035507507622241974, 0.03336033970117569, 0.05460802838206291, 0.023949556052684784, 0.0, 0.0, 0.0, 0.0, 0.0, 0.0, 0.0], [0.308788001537323, 0.04082433134317398, 0.010766171850264072, 0.027089769020676613, 0.019433287903666496, 0.03355548158288002, 0.010839524678885937, 0.011495568789541721, 0.011286421678960323, 0.019319288432598114, 0.03442363440990448, 0.010595867410302162, 0.019463730975985527, 0.011577976867556572, 0.014172401279211044, 0.021593406796455383, 0.010569149628281593, 0.018212521448731422, 0.007991205900907516, 0.05231865495443344, 0.019707778468728065, 0.03532519191503525, 0.029598243534564972, 0.02851296402513981, 0.02101977728307247, 0.018976131454110146, 0.031007926911115646, 0.017736950889229774, 0.1037985309958458, 0.0, 0.0, 0.0, 0.0, 0.0, 0.0], [0.11270298063755035, 0.013211610727012157, 0.015115493908524513, 0.008062336593866348, 0.018075060099363327, 0.020267315208911896, 0.009121795184910297, 0.021654397249221802, 0.024600312113761902, 0.012220281176269054, 0.005230679642409086, 0.021195195615291595, 0.007505763787776232, 0.027240077033638954, 0.0168289877474308, 0.009307198226451874, 0.0237741656601429, 0.009840190410614014, 0.02352040819823742, 0.0180962011218071, 0.11592711508274078, 0.008296091109514236, 0.01503841858357191, 0.016261838376522064, 0.022837121039628983, 0.007970292121171951, 0.010345992632210255, 0.013601294718682766, 0.009923162870109081, 0.36222824454307556, 0.0, 0.0, 0.0, 0.0, 0.0], [0.19907145202159882, 0.023352961987257004, 0.02753552421927452, 0.02074119821190834, 0.049442391842603683, 0.039645493030548096, 0.011580482125282288, 0.038496050983667374, 0.012212725356221199, 0.012634873390197754, 0.018897853791713715, 0.011502721346914768, 0.014417950063943863, 0.012855138629674911, 0.01591630093753338, 0.009284348227083683, 0.011929103173315525, 0.014574798755347729, 0.02956238016486168, 0.030921466648578644, 0.049348846077919006, 0.026833010837435722, 0.03316975012421608, 0.02651391550898552, 0.038417842239141464, 0.03666592016816139, 0.03740684315562248, 0.03744916990399361, 0.041813697665929794, 0.04080501198768616, 0.027000796049833298, 0.0, 0.0, 0.0, 0.0], [0.13580846786499023, 0.02159818820655346, 0.028431465849280357, 0.021366795524954796, 0.03184176981449127, 0.028310758993029594, 0.011232445947825909, 0.016139335930347443, 0.023436741903424263, 0.025144271552562714, 0.012804528698325157, 0.01200050301849842, 0.02091227099299431, 0.025003299117088318, 0.027692237868905067, 0.017305919900536537, 0.012859742157161236, 0.01606629602611065, 0.03279004245996475, 0.03829026594758034, 0.060804788023233414, 0.03674997761845589, 0.0352473147213459, 0.03857800364494324, 0.03904816508293152, 0.036643389612436295, 0.014530431479215622, 0.02163226343691349, 0.010490997694432735, 0.06733931601047516, 0.03867284581065178, 0.04122709482908249, 0.0, 0.0, 0.0], [0.13088136911392212, 0.023744335398077965, 0.02011435478925705, 0.00970239844173193, 0.0269522313028574, 0.013591096736490726, 0.009517531841993332, 0.013271705247461796, 0.027617935091257095, 0.01149838138371706, 0.008886141702532768, 0.016865817829966545, 0.009971976280212402, 0.031318604946136475, 0.01495381910353899, 0.015636596828699112, 0.01875588484108448, 0.008822469040751457, 0.0242583267390728, 0.01859988085925579, 0.06659714877605438, 0.0239353459328413, 0.030215006321668625, 0.03847970440983772, 0.06054789572954178, 0.03886096552014351, 0.021039560437202454, 0.026919955387711525, 0.030786719173192978, 0.0633939653635025, 0.05302290618419647, 0.07499754428863525, 0.016242537647485733, 0.0, 0.0], [0.21679525077342987, 0.03523937240242958, 0.014480574987828732, 0.03231680765748024, 0.021502690389752388, 0.019766854122281075, 0.007716963533312082, 0.03142577037215233, 0.01142125390470028, 0.03985079377889633, 0.005697545129805803, 0.013826757669448853, 0.011217722669243813, 0.011028865352272987, 0.01434235367923975, 0.01669159159064293, 0.013800647109746933, 0.00905416440218687, 0.01655157469213009, 0.04516448453068733, 0.01674339361488819, 0.040494974702596664, 0.04600657895207405, 0.03918023779988289, 0.020771797746419907, 0.042418353259563446, 0.029444051906466484, 0.016546528786420822, 0.0433904267847538, 0.01802881434559822, 0.017493007704615593, 0.03195445239543915, 0.023179974406957626, 0.02645520679652691, 0.0], [0.12406577169895172, 0.05575519800186157, 0.025793127715587616, 0.007745688781142235, 0.019214725121855736, 0.011872387491166592, 0.009303719736635685, 0.0158426184207201, 0.012728424742817879, 0.012888258323073387, 0.013962898403406143, 0.01662725768983364, 0.015507101081311703, 0.013195222243666649, 0.01732509955763817, 0.021147968247532845, 0.017335494980216026, 0.015824295580387115, 0.024794377386569977, 0.01190303172916174, 0.03651022911071777, 0.023874733597040176, 0.04022133722901344, 0.06286037713289261, 0.10149350762367249, 0.053322602063417435, 0.02168961614370346, 0.018244285136461258, 0.00840698555111885, 0.023202305659651756, 0.04960416257381439, 0.020869310945272446, 0.016017954796552658, 0.011101935058832169, 0.04974794387817383]], [[1.0, 0.0, 0.0, 0.0, 0.0, 0.0, 0.0, 0.0, 0.0, 0.0, 0.0, 0.0, 0.0, 0.0, 0.0, 0.0, 0.0, 0.0, 0.0, 0.0, 0.0, 0.0, 0.0, 0.0, 0.0, 0.0, 0.0, 0.0, 0.0, 0.0, 0.0, 0.0, 0.0, 0.0, 0.0], [0.10778012126684189, 0.8922198414802551, 0.0, 0.0, 0.0, 0.0, 0.0, 0.0, 0.0, 0.0, 0.0, 0.0, 0.0, 0.0, 0.0, 0.0, 0.0, 0.0, 0.0, 0.0, 0.0, 0.0, 0.0, 0.0, 0.0, 0.0, 0.0, 0.0, 0.0, 0.0, 0.0, 0.0, 0.0, 0.0, 0.0], [0.011847443878650665, 0.5536144971847534, 0.4345380365848541, 0.0, 0.0, 0.0, 0.0, 0.0, 0.0, 0.0, 0.0, 0.0, 0.0, 0.0, 0.0, 0.0, 0.0, 0.0, 0.0, 0.0, 0.0, 0.0, 0.0, 0.0, 0.0, 0.0, 0.0, 0.0, 0.0, 0.0, 0.0, 0.0, 0.0, 0.0, 0.0], [0.06322271376848221, 0.021719155833125114, 0.09427293390035629, 0.8207851648330688, 0.0, 0.0, 0.0, 0.0, 0.0, 0.0, 0.0, 0.0, 0.0, 0.0, 0.0, 0.0, 0.0, 0.0, 0.0, 0.0, 0.0, 0.0, 0.0, 0.0, 0.0, 0.0, 0.0, 0.0, 0.0, 0.0, 0.0, 0.0, 0.0, 0.0, 0.0], [0.005095744971185923, 0.0005348753184080124, 0.0010105489054694772, 0.004657563753426075, 0.9887012243270874, 0.0, 0.0, 0.0, 0.0, 0.0, 0.0, 0.0, 0.0, 0.0, 0.0, 0.0, 0.0, 0.0, 0.0, 0.0, 0.0, 0.0, 0.0, 0.0, 0.0, 0.0, 0.0, 0.0, 0.0, 0.0, 0.0, 0.0, 0.0, 0.0, 0.0], [0.005585953127592802, 0.0003024004108738154, 0.0007955087348818779, 0.0006780327530577779, 0.028760138899087906, 0.9638779759407043, 0.0, 0.0, 0.0, 0.0, 0.0, 0.0, 0.0, 0.0, 0.0, 0.0, 0.0, 0.0, 0.0, 0.0, 0.0, 0.0, 0.0, 0.0, 0.0, 0.0, 0.0, 0.0, 0.0, 0.0, 0.0, 0.0, 0.0, 0.0, 0.0], [0.00026657298440113664, 0.00015396179514937103, 4.344203625805676e-05, 0.0003163387009408325, 0.007582378573715687, 0.008635696955025196, 0.9830015897750854, 0.0, 0.0, 0.0, 0.0, 0.0, 0.0, 0.0, 0.0, 0.0, 0.0, 0.0, 0.0, 0.0, 0.0, 0.0, 0.0, 0.0, 0.0, 0.0, 0.0, 0.0, 0.0, 0.0, 0.0, 0.0, 0.0, 0.0, 0.0], [0.0006940618040971458, 4.8331738071283326e-05, 4.51133782917168e-05, 2.3520799004472792e-05, 0.0022377653513103724, 0.001208052271977067, 0.00932135060429573, 0.9864218235015869, 0.0, 0.0, 0.0, 0.0, 0.0, 0.0, 0.0, 0.0, 0.0, 0.0, 0.0, 0.0, 0.0, 0.0, 0.0, 0.0, 0.0, 0.0, 0.0, 0.0, 0.0, 0.0, 0.0, 0.0, 0.0, 0.0, 0.0], [0.04771990701556206, 0.006346915382891893, 0.005507613066583872, 0.012776722200214863, 0.012552591040730476, 0.012200525961816311, 0.007760607637465, 0.01711486093699932, 0.8780203461647034, 0.0, 0.0, 0.0, 0.0, 0.0, 0.0, 0.0, 0.0, 0.0, 0.0, 0.0, 0.0, 0.0, 0.0, 0.0, 0.0, 0.0, 0.0, 0.0, 0.0, 0.0, 0.0, 0.0, 0.0, 0.0, 0.0], [9.403780859429389e-05, 7.299120738935017e-07, 1.2948523817613022e-06, 1.0040552069767728e-06, 1.519242869107984e-05, 3.6095178074901924e-05, 3.1514438887825236e-05, 0.0010808249935507774, 4.2368381400592625e-05, 0.9986969828605652, 0.0, 0.0, 0.0, 0.0, 0.0, 0.0, 0.0, 0.0, 0.0, 0.0, 0.0, 0.0, 0.0, 0.0, 0.0, 0.0, 0.0, 0.0, 0.0, 0.0, 0.0, 0.0, 0.0, 0.0, 0.0], [0.00029844240634702146, 1.0225176993117202e-05, 2.077381759590935e-05, 1.0716730685089715e-05, 7.45383367757313e-05, 0.00016580561350565404, 0.001366860349662602, 0.0025834825355559587, 5.024059646530077e-05, 0.3243955075740814, 0.6710233688354492, 0.0, 0.0, 0.0, 0.0, 0.0, 0.0, 0.0, 0.0, 0.0, 0.0, 0.0, 0.0, 0.0, 0.0, 0.0, 0.0, 0.0, 0.0, 0.0, 0.0, 0.0, 0.0, 0.0, 0.0], [0.009233690798282623, 0.0007820426835678518, 0.0006810434279032052, 0.0018207869725301862, 0.004383389372378588, 0.01750914193689823, 0.0033242490608245134, 0.0176074355840683, 0.08099659532308578, 0.10943043231964111, 0.014291895553469658, 0.7399393320083618, 0.0, 0.0, 0.0, 0.0, 0.0, 0.0, 0.0, 0.0, 0.0, 0.0, 0.0, 0.0, 0.0, 0.0, 0.0, 0.0, 0.0, 0.0, 0.0, 0.0, 0.0, 0.0, 0.0], [0.00023930310271680355, 3.323791816001176e-06, 2.283279536641203e-05, 1.0244767508993391e-05, 1.0253624168399256e-05, 4.496401743381284e-05, 2.3576689272886142e-05, 6.216620386112481e-05, 0.0003292947949375957, 0.008749546483159065, 0.0018788714660331607, 0.0014183466555550694, 0.9872073531150818, 0.0, 0.0, 0.0, 0.0, 0.0, 0.0, 0.0, 0.0, 0.0, 0.0, 0.0, 0.0, 0.0, 0.0, 0.0, 0.0, 0.0, 0.0, 0.0, 0.0, 0.0, 0.0], [0.012295344844460487, 0.0005298624164424837, 0.00035605113953351974, 0.000600671861320734, 0.000532753299921751, 0.0005349713028408587, 0.00034733518259599805, 0.0008671165560372174, 0.03432308882474899, 0.013273634947836399, 0.007531193550676107, 0.059418000280857086, 0.09377512335777283, 0.775614857673645, 0.0, 0.0, 0.0, 0.0, 0.0, 0.0, 0.0, 0.0, 0.0, 0.0, 0.0, 0.0, 0.0, 0.0, 0.0, 0.0, 0.0, 0.0, 0.0, 0.0, 0.0], [7.850896508898586e-05, 1.1863359759445302e-05, 5.970547590550268e-06, 4.359469130577054e-06, 6.933054010005435e-06, 5.567325570154935e-05, 8.762053766986355e-06, 2.2130048819235526e-05, 0.00022238340170588344, 0.00028025059145875275, 0.0008127277833409607, 0.0015677306801080704, 0.00018956429266836494, 0.005879418924450874, 0.9908537864685059, 0.0, 0.0, 0.0, 0.0, 0.0, 0.0, 0.0, 0.0, 0.0, 0.0, 0.0, 0.0, 0.0, 0.0, 0.0, 0.0, 0.0, 0.0, 0.0, 0.0], [9.47499938774854e-05, 8.603435162513051e-06, 3.744851710507646e-06, 1.4634180445227685e-07, 2.701735866139643e-06, 1.1417346286179963e-05, 8.620812877779827e-06, 9.928094368660823e-05, 3.11951362164109e-06, 0.00022620786330662668, 0.0005323345540091395, 2.9804856239934452e-05, 0.0013675634982064366, 5.1079969125567004e-05, 0.009570815600454807, 0.9879897236824036, 0.0, 0.0, 0.0, 0.0, 0.0, 0.0, 0.0, 0.0, 0.0, 0.0, 0.0, 0.0, 0.0, 0.0, 0.0, 0.0, 0.0, 0.0, 0.0], [0.003944714087992907, 0.00013029150431975722, 9.947719081537798e-05, 0.00019776365661527961, 0.00042658488382585347, 0.0014889850281178951, 0.0002834683400578797, 0.001535675604827702, 0.004810090642422438, 0.005567723419517279, 0.0010473616421222687, 0.040826573967933655, 0.009189031086862087, 0.09278517216444016, 0.015853017568588257, 0.027940914034843445, 0.7938732504844666, 0.0, 0.0, 0.0, 0.0, 0.0, 0.0, 0.0, 0.0, 0.0, 0.0, 0.0, 0.0, 0.0, 0.0, 0.0, 0.0, 0.0, 0.0], [0.00021723586542066187, 2.3531161787104793e-05, 7.806292160239536e-06, 4.7329585868283175e-06, 1.567117919876182e-06, 8.667402653372847e-06, 1.2646223694900982e-05, 6.129271787358448e-05, 0.00018869442283175886, 0.000590129173360765, 0.0004205662407912314, 0.000974651426076889, 0.0004217766399960965, 0.004066708497703075, 0.001442242180928588, 0.011960018426179886, 0.022401923313736916, 0.9571957588195801, 0.0, 0.0, 0.0, 0.0, 0.0, 0.0, 0.0, 0.0, 0.0, 0.0, 0.0, 0.0, 0.0, 0.0, 0.0, 0.0, 0.0], [0.0007360456511378288, 3.0168182547640754e-06, 1.3554724773712223e-06, 1.4014717635291163e-06, 3.3877055102493614e-05, 3.752295015146956e-05, 1.0748701242846437e-05, 0.000430271087680012, 1.6196763681364246e-05, 0.0006748266168870032, 0.0005265924846753478, 0.0001240915444213897, 4.71071653009858e-05, 0.0002413816109765321, 0.0006886582705192268, 0.0003870209911838174, 0.0021441548597067595, 0.001765168970450759, 0.9921305775642395, 0.0, 0.0, 0.0, 0.0, 0.0, 0.0, 0.0, 0.0, 0.0, 0.0, 0.0, 0.0, 0.0, 0.0, 0.0, 0.0], [6.529822258016793e-06, 4.013175569639316e-09, 4.275891196670045e-09, 9.052373073359377e-09, 5.135177048032347e-07, 3.7317599890229758e-06, 1.4824273364411056e-07, 4.6551231207558885e-06, 1.663050142042266e-08, 3.0296810109575745e-06, 3.191984797012992e-05, 1.401744071927169e-07, 4.954939072376874e-07, 2.3671030646710278e-07, 7.952956480039575e-07, 0.00018607295351102948, 2.4466758077323902e-06, 1.1982311661995482e-05, 0.0005082340212538838, 0.9992392063140869, 0.0, 0.0, 0.0, 0.0, 0.0, 0.0, 0.0, 0.0, 0.0, 0.0, 0.0, 0.0, 0.0, 0.0, 0.0], [0.009417882189154625, 0.0001736239210003987, 0.0001959322253242135, 0.00010542468953644857, 0.00012100090680178255, 0.00013750338985119015, 0.00020822316582780331, 0.0002620876766741276, 0.000980379874818027, 0.00017425193800590932, 0.0013313922099769115, 0.0032773101702332497, 0.004840620327740908, 0.01237878855317831, 0.0018258983036503196, 0.024282027035951614, 0.054799627512693405, 0.07428482174873352, 0.07759272307157516, 0.10845337808132172, 0.6251570582389832, 0.0, 0.0, 0.0, 0.0, 0.0, 0.0, 0.0, 0.0, 0.0, 0.0, 0.0, 0.0, 0.0, 0.0], [0.0001788632507668808, 2.9717762117797974e-06, 1.2879190762760118e-06, 1.6619659390926245e-06, 3.153387751808623e-06, 7.608537544001592e-06, 4.480562267872301e-07, 4.628845545084914e-06, 4.462066499399953e-06, 4.640815404854948e-06, 4.678119239542866e-06, 2.2255188014241867e-05, 0.0006885039038024843, 5.880854951101355e-05, 5.511291237780824e-05, 0.0013147679856047034, 0.00042104057502001524, 0.0005279279430396855, 0.00030591533868573606, 0.0011363023659214377, 0.004935137927532196, 0.9903197288513184, 0.0, 0.0, 0.0, 0.0, 0.0, 0.0, 0.0, 0.0, 0.0, 0.0, 0.0, 0.0, 0.0], [0.0009000817080959678, 3.460911102592945e-05, 6.000086159474449e-06, 1.3317925322553492e-06, 8.382421583519317e-06, 7.950179679028224e-06, 8.352955092050252e-07, 5.017454441258451e-06, 1.1085561709478498e-05, 1.5506164345424622e-05, 2.2449688913184218e-05, 3.2394611480413005e-05, 7.153367914725095e-05, 0.0001110613884520717, 6.552075319632422e-06, 3.5578555980464444e-05, 0.00046084244968369603, 0.0006021020235493779, 0.007735582999885082, 0.004731385037302971, 0.012920123524963856, 0.0169991347938776, 0.9552804231643677, 0.0, 0.0, 0.0, 0.0, 0.0, 0.0, 0.0, 0.0, 0.0, 0.0, 0.0, 0.0], [8.094504300970584e-05, 5.4195235861698166e-05, 2.1191000996623188e-05, 8.66032394242211e-07, 5.2413856792554725e-06, 2.8113959160691593e-06, 9.647644674259936e-07, 4.259611614543246e-06, 6.819939244451234e-06, 2.6370025807409547e-06, 1.0387340807938017e-05, 3.1177733035292476e-05, 2.5747020117705688e-05, 8.829349098959938e-05, 0.00010530044528422877, 0.00037444676854647696, 0.000583377608563751, 0.000901932711713016, 0.00043120095506310463, 0.004991116467863321, 0.0035159247927367687, 0.015127472579479218, 0.01838499866425991, 0.9552486538887024, 0.0, 0.0, 0.0, 0.0, 0.0, 0.0, 0.0, 0.0, 0.0, 0.0, 0.0], [0.0001992677425732836, 5.897880441807501e-07, 4.093087113687943e-07, 5.283650352794211e-07, 4.0437427628603473e-07, 6.811440016463166e-07, 2.501958533684956e-07, 3.190993993484881e-07, 5.018010142521234e-06, 3.0599362617067527e-06, 4.776871264766669e-06, 8.10624987934716e-06, 1.7871061572805047e-05, 5.904932913836092e-05, 7.019503300398355e-06, 5.101946953800507e-05, 0.00015419672126881778, 0.00015557766892015934, 0.0004630949115380645, 0.00018736722995527089, 0.0029354498255997896, 0.006998695898801088, 0.004895060323178768, 0.010302482172846794, 0.9735496640205383, 0.0, 0.0, 0.0, 0.0, 0.0, 0.0, 0.0, 0.0, 0.0, 0.0], [4.0418839489575475e-05, 7.668156776219348e-09, 6.183969247786081e-08, 4.109946516450691e-08, 3.161333097523311e-07, 1.0004009709518868e-07, 6.658504503320728e-08, 4.780262088388554e-07, 4.03514519575765e-08, 6.753222351107979e-06, 8.574266274763431e-08, 1.0514210657674994e-07, 3.270273055022699e-06, 4.896526775155507e-07, 1.245034013663826e-06, 9.069826774066314e-06, 2.069306901830714e-06, 8.541694114683196e-06, 4.513615931500681e-05, 8.528170292265713e-05, 8.476237417198718e-05, 0.001026789890602231, 0.0013347741914913058, 0.00029600693960674107, 0.005626779515296221, 0.9914273023605347, 0.0, 0.0, 0.0, 0.0, 0.0, 0.0, 0.0, 0.0, 0.0], [0.00037474557757377625, 1.2430079721070797e-07, 2.522913291613804e-07, 3.0524458338732074e-07, 4.772525244334247e-06, 6.075435976526933e-07, 8.501712045472232e-07, 1.1030824680346996e-05, 8.098966475245106e-08, 9.651283789935405e-07, 7.193351052592334e-07, 3.2339349331778067e-07, 1.7605393622943666e-06, 4.446817456482677e-07, 3.298762862868898e-07, 2.4300252334796824e-05, 3.664264340841328e-06, 3.061642701140954e-06, 2.6271227397955954e-05, 0.00034267117734998465, 2.078816032735631e-05, 0.0001340974704362452, 0.00030472411890514195, 9.803597640711814e-05, 0.0004919679486192763, 0.004237065091729164, 0.9939159750938416, 0.0, 0.0, 0.0, 0.0, 0.0, 0.0, 0.0, 0.0], [0.00023197566042654216, 7.363608460764226e-07, 1.0658028486432158e-06, 4.7497891841885576e-07, 2.187780410167761e-06, 2.0741656499012606e-06, 1.3842078772086097e-07, 2.5106405701080803e-06, 1.971591530036676e-07, 6.6719812821247615e-06, 8.991777349365293e-07, 6.362178623930959e-07, 6.54478981232387e-07, 7.71795953369292e-07, 4.801884188054828e-07, 1.1122274372610264e-05, 5.561904345086077e-06, 3.862742687488208e-06, 6.753690831828862e-05, 0.0002897945523727685, 4.372486364445649e-05, 0.0001520898222224787, 0.0009337703813798726, 0.00018159403407480568, 8.423287363257259e-05, 0.009933846071362495, 0.00872314628213644, 0.9793182611465454, 0.0, 0.0, 0.0, 0.0, 0.0, 0.0, 0.0], [0.0001570491585880518, 3.1231866159942e-07, 2.931937217454106e-07, 3.137160149435658e-07, 2.196094328610343e-06, 1.416437385159952e-06, 1.1236390946578467e-06, 1.3091786286167917e-06, 5.921503998251865e-08, 7.978082408044429e-07, 2.8036795356456423e-06, 1.9766959269418294e-07, 3.9940181295605726e-07, 2.3048993114116456e-07, 2.2642550447926624e-06, 1.6729478375054896e-05, 1.6667632962708012e-06, 2.8725464744638884e-06, 2.4946944904513657e-05, 0.000255328108323738, 4.849699962505838e-06, 4.708060805569403e-05, 5.325665188138373e-05, 4.240333510097116e-05, 0.00020874878100585192, 0.002043810673058033, 0.08346720784902573, 0.003673004684969783, 0.9099873304367065, 0.0, 0.0, 0.0, 0.0, 0.0, 0.0], [0.001003078417852521, 7.605930022691609e-06, 5.478915227286052e-06, 4.704096681962255e-06, 1.0818265536727267e-06, 7.246849804687372e-07, 6.057227892597439e-07, 1.5847864460738492e-06, 3.183098306180909e-05, 1.8444869738232228e-06, 1.3723819165534223e-06, 6.841019967396278e-06, 4.996122243028367e-06, 0.00014220479351934046, 2.1026005470048403e-06, 2.0461158783291467e-05, 6.875465624034405e-05, 8.339443593285978e-05, 7.060833740979433e-05, 0.00022270095359999686, 0.0013453519204631448, 0.0011953136418014765, 0.0007637709495611489, 0.0034127652179449797, 0.009595117531716824, 0.008245965465903282, 0.0040284134447574615, 0.015673452988266945, 0.037109069526195526, 0.9169487953186035, 0.0, 0.0, 0.0, 0.0, 0.0], [0.0001459806226193905, 1.3442446800127072e-07, 3.0679700557811884e-07, 1.270083913595954e-07, 9.539687795268037e-08, 4.421364252493731e-08, 7.270958946037354e-09, 2.1630643232128932e-07, 1.7861789558537566e-07, 1.1440956626529442e-07, 4.546703280539077e-08, 1.1406693545268354e-07, 1.7846363675744215e-07, 8.568713383283466e-07, 1.0497500113615388e-07, 1.2474934010242578e-06, 1.1682669764923048e-06, 6.484989967248111e-07, 9.92306559055578e-06, 2.663562190718949e-05, 2.1481049770954996e-05, 7.192366319941357e-05, 0.00015873332449700683, 0.00014563243894372135, 0.002426169579848647, 0.0015144959324970841, 0.0007063171942718327, 0.0022442848421633244, 0.004566820338368416, 0.0098323505371809, 0.9781236052513123, 0.0, 0.0, 0.0, 0.0], [1.069877362169791e-05, 5.128429236833654e-08, 7.382501365782446e-08, 9.797533095934341e-08, 4.944888019053906e-07, 6.26972450845642e-07, 2.625736783556931e-07, 7.361940106420661e-07, 2.510118690679519e-07, 2.1764876692031976e-06, 5.363761488297314e-07, 8.606898518337402e-07, 2.15158095784318e-07, 1.0358799045206979e-06, 2.489508972303156e-07, 1.3481056157615967e-05, 8.521090421709232e-06, 5.148511263541877e-06, 4.645090939447982e-06, 1.6832656910992227e-05, 5.864661216037348e-05, 3.652455416158773e-05, 0.0001648572797421366, 1.194501146528637e-05, 0.0005173988756723702, 0.0024279106874018908, 0.00034773556399159133, 0.001596406102180481, 0.009022929705679417, 0.0131637342274189, 0.06333828717470169, 0.9092466831207275, 0.0, 0.0, 0.0], [0.001228731474839151, 8.407656423514709e-06, 8.363975211977959e-06, 8.199041076295543e-06, 3.972181275457842e-06, 3.987271611549659e-06, 1.5942524669299019e-06, 4.764995082950918e-06, 4.461918251763564e-06, 8.699215868546162e-06, 3.482310376057285e-06, 4.087221896043047e-06, 4.383184659673134e-06, 1.2878695997642353e-05, 2.7650016818370204e-06, 1.155081918113865e-05, 2.8508398827398196e-05, 1.9726185200852342e-05, 8.007953874766827e-05, 0.00016381593013647944, 0.0002766104298643768, 0.0004829976533073932, 0.0005903011769987643, 0.0011750630801543593, 0.0034667104482650757, 0.0058027273043990135, 0.011907554231584072, 0.016952985897660255, 0.02846650965511799, 0.06137576326727867, 0.11517598479986191, 0.20177729427814484, 0.5509369373321533, 0.0, 0.0], [3.782521525863558e-05, 6.459637091893455e-08, 1.9273652895890336e-08, 7.975827287509674e-08, 6.700329322484322e-07, 1.2464322196592548e-07, 3.072164744821748e-08, 3.3671457799755444e-07, 9.954004553947016e-08, 4.54151972917316e-07, 3.406022486274196e-08, 1.725613429925943e-07, 3.359022002769052e-07, 3.256336924550851e-07, 1.1636626773281478e-08, 3.2042121347330976e-06, 1.2533512290247018e-06, 1.7663037397142034e-06, 1.112596055463655e-05, 2.041029256361071e-05, 8.103445907181595e-06, 1.2881070688308682e-05, 0.00014193204697221518, 1.1411115337978117e-05, 0.00010671326162992045, 0.00010951134754577652, 0.001792710623703897, 0.0015404947334900498, 0.001246521482244134, 0.0015975871356204152, 0.0008927044691517949, 0.009557020850479603, 0.009279941208660603, 0.9736241102218628, 0.0], [0.0003539702738635242, 2.644042524480028e-06, 1.7576187474332983e-06, 1.2348102700343588e-06, 5.949696969764773e-06, 1.3091880646243226e-06, 3.362112579452514e-07, 2.4850550062183174e-07, 6.705453188260435e-07, 6.699517740571537e-08, 6.061940212021e-07, 4.6190581315386225e-07, 2.3573320504510775e-06, 1.4622218031945522e-06, 2.976372286411788e-07, 1.6005819816200528e-06, 2.4609041702206014e-06, 1.93171831597283e-06, 3.200153514626436e-05, 2.4652015781612135e-05, 3.429641219554469e-05, 0.00016550855070818216, 7.883973739808425e-05, 0.00018387149611953646, 0.0011651519453153014, 0.00012255352339707315, 0.0011725194053724408, 0.0004984785919077694, 0.003501486498862505, 0.0034007455687969923, 0.011839520186185837, 0.005179095547646284, 0.01671386882662773, 0.02912766858935356, 0.9263803958892822]], [[1.0, 0.0, 0.0, 0.0, 0.0, 0.0, 0.0, 0.0, 0.0, 0.0, 0.0, 0.0, 0.0, 0.0, 0.0, 0.0, 0.0, 0.0, 0.0, 0.0, 0.0, 0.0, 0.0, 0.0, 0.0, 0.0, 0.0, 0.0, 0.0, 0.0, 0.0, 0.0, 0.0, 0.0, 0.0], [0.9238102436065674, 0.076189786195755, 0.0, 0.0, 0.0, 0.0, 0.0, 0.0, 0.0, 0.0, 0.0, 0.0, 0.0, 0.0, 0.0, 0.0, 0.0, 0.0, 0.0, 0.0, 0.0, 0.0, 0.0, 0.0, 0.0, 0.0, 0.0, 0.0, 0.0, 0.0, 0.0, 0.0, 0.0, 0.0, 0.0], [0.3758925199508667, 0.10050597041845322, 0.5236014723777771, 0.0, 0.0, 0.0, 0.0, 0.0, 0.0, 0.0, 0.0, 0.0, 0.0, 0.0, 0.0, 0.0, 0.0, 0.0, 0.0, 0.0, 0.0, 0.0, 0.0, 0.0, 0.0, 0.0, 0.0, 0.0, 0.0, 0.0, 0.0, 0.0, 0.0, 0.0, 0.0], [0.4121372103691101, 0.08231587707996368, 0.18084770441055298, 0.32469916343688965, 0.0, 0.0, 0.0, 0.0, 0.0, 0.0, 0.0, 0.0, 0.0, 0.0, 0.0, 0.0, 0.0, 0.0, 0.0, 0.0, 0.0, 0.0, 0.0, 0.0, 0.0, 0.0, 0.0, 0.0, 0.0, 0.0, 0.0, 0.0, 0.0, 0.0, 0.0], [0.14052285254001617, 0.005812318064272404, 0.02827639691531658, 0.057330355048179626, 0.7680580615997314, 0.0, 0.0, 0.0, 0.0, 0.0, 0.0, 0.0, 0.0, 0.0, 0.0, 0.0, 0.0, 0.0, 0.0, 0.0, 0.0, 0.0, 0.0, 0.0, 0.0, 0.0, 0.0, 0.0, 0.0, 0.0, 0.0, 0.0, 0.0, 0.0, 0.0], [0.01923070289194584, 0.0014746824745088816, 0.0016810810193419456, 0.0049058436416089535, 0.02590659260749817, 0.9468011260032654, 0.0, 0.0, 0.0, 0.0, 0.0, 0.0, 0.0, 0.0, 0.0, 0.0, 0.0, 0.0, 0.0, 0.0, 0.0, 0.0, 0.0, 0.0, 0.0, 0.0, 0.0, 0.0, 0.0, 0.0, 0.0, 0.0, 0.0, 0.0, 0.0], [0.006040879059582949, 0.00465822359547019, 0.012865043245255947, 0.008953888900578022, 0.07021678984165192, 0.12025337666273117, 0.7770117521286011, 0.0, 0.0, 0.0, 0.0, 0.0, 0.0, 0.0, 0.0, 0.0, 0.0, 0.0, 0.0, 0.0, 0.0, 0.0, 0.0, 0.0, 0.0, 0.0, 0.0, 0.0, 0.0, 0.0, 0.0, 0.0, 0.0, 0.0, 0.0], [0.016248270869255066, 0.003929380793124437, 0.01283666305243969, 0.0050996290519833565, 0.017354188486933708, 0.015599329024553299, 0.13602769374847412, 0.7929048538208008, 0.0, 0.0, 0.0, 0.0, 0.0, 0.0, 0.0, 0.0, 0.0, 0.0, 0.0, 0.0, 0.0, 0.0, 0.0, 0.0, 0.0, 0.0, 0.0, 0.0, 0.0, 0.0, 0.0, 0.0, 0.0, 0.0, 0.0], [0.13423296809196472, 0.07014800608158112, 0.03862922638654709, 0.03592688962817192, 0.05720485746860504, 0.06419351696968079, 0.03908981382846832, 0.2145734578371048, 0.3460012972354889, 0.0, 0.0, 0.0, 0.0, 0.0, 0.0, 0.0, 0.0, 0.0, 0.0, 0.0, 0.0, 0.0, 0.0, 0.0, 0.0, 0.0, 0.0, 0.0, 0.0, 0.0, 0.0, 0.0, 0.0, 0.0, 0.0], [0.0035958767402917147, 0.00038495013723149896, 0.0004921660292893648, 0.0008088782778941095, 0.0025900956243276596, 0.0024076495319604874, 0.00017131817003246397, 0.011153002269566059, 0.0021147800143808126, 0.9762812852859497, 0.0, 0.0, 0.0, 0.0, 0.0, 0.0, 0.0, 0.0, 0.0, 0.0, 0.0, 0.0, 0.0, 0.0, 0.0, 0.0, 0.0, 0.0, 0.0, 0.0, 0.0, 0.0, 0.0, 0.0, 0.0], [0.00022834539413452148, 4.666255335905589e-05, 8.20648274384439e-05, 7.73067949921824e-05, 0.00012034264364046976, 0.004319249652326107, 0.003844224149361253, 0.0011965001467615366, 0.00016446944209747016, 0.8530561923980713, 0.13686463236808777, 0.0, 0.0, 0.0, 0.0, 0.0, 0.0, 0.0, 0.0, 0.0, 0.0, 0.0, 0.0, 0.0, 0.0, 0.0, 0.0, 0.0, 0.0, 0.0, 0.0, 0.0, 0.0, 0.0, 0.0], [0.06578907370567322, 0.019290771335363388, 0.020492712035775185, 0.02195679023861885, 0.02668667584657669, 0.08618342131376266, 0.031040910631418228, 0.16103023290634155, 0.03016255795955658, 0.21323662996292114, 0.07554485648870468, 0.24858537316322327, 0.0, 0.0, 0.0, 0.0, 0.0, 0.0, 0.0, 0.0, 0.0, 0.0, 0.0, 0.0, 0.0, 0.0, 0.0, 0.0, 0.0, 0.0, 0.0, 0.0, 0.0, 0.0, 0.0], [0.0091233616694808, 0.003399315755814314, 0.016818268224596977, 0.004648813512176275, 0.014602279290556908, 0.05833255499601364, 0.07909014075994492, 0.01766362413764, 0.016087286174297333, 0.15053559839725494, 0.3343389332294464, 0.05438896268606186, 0.24097083508968353, 0.0, 0.0, 0.0, 0.0, 0.0, 0.0, 0.0, 0.0, 0.0, 0.0, 0.0, 0.0, 0.0, 0.0, 0.0, 0.0, 0.0, 0.0, 0.0, 0.0, 0.0, 0.0], [0.04253435879945755, 0.016550593078136444, 0.00781342014670372, 0.006833470892161131, 0.009650973603129387, 0.009173317812383175, 0.005910308565944433, 0.030093083158135414, 0.05324167385697365, 0.035758912563323975, 0.11968675255775452, 0.07133748382329941, 0.2969222068786621, 0.2944934666156769, 0.0, 0.0, 0.0, 0.0, 0.0, 0.0, 0.0, 0.0, 0.0, 0.0, 0.0, 0.0, 0.0, 0.0, 0.0, 0.0, 0.0, 0.0, 0.0, 0.0, 0.0], [0.01015804149210453, 0.004377418663352728, 0.006503189913928509, 0.0035466866102069616, 0.006157051771879196, 0.005149823613464832, 0.00415825005620718, 0.014994033612310886, 0.017724117264151573, 0.008609655313193798, 0.01355727482587099, 0.02768983505666256, 0.027776136994361877, 0.08518616110086441, 0.7644124031066895, 0.0, 0.0, 0.0, 0.0, 0.0, 0.0, 0.0, 0.0, 0.0, 0.0, 0.0, 0.0, 0.0, 0.0, 0.0, 0.0, 0.0, 0.0, 0.0, 0.0], [0.0005760938511230052, 3.7584886740660295e-05, 3.10057403112296e-05, 2.8090940759284422e-05, 0.00011757229367503896, 0.0010626487201079726, 0.0008489798638038337, 0.0023644287139177322, 0.0003171181015204638, 0.0005040704854764044, 0.0005438972148112953, 0.0009964655619114637, 0.004787205718457699, 0.0016582146054133773, 0.021181106567382812, 0.9649454951286316, 0.0, 0.0, 0.0, 0.0, 0.0, 0.0, 0.0, 0.0, 0.0, 0.0, 0.0, 0.0, 0.0, 0.0, 0.0, 0.0, 0.0, 0.0, 0.0], [0.05710114166140556, 0.012982725165784359, 0.012463358230888844, 0.012371201068162918, 0.013064763508737087, 0.03530251979827881, 0.013208819553256035, 0.06362833827733994, 0.01058889739215374, 0.06113193929195404, 0.027357207611203194, 0.08200789242982864, 0.039974603801965714, 0.043028347194194794, 0.06893416494131088, 0.06733901053667068, 0.37951505184173584, 0.0, 0.0, 0.0, 0.0, 0.0, 0.0, 0.0, 0.0, 0.0, 0.0, 0.0, 0.0, 0.0, 0.0, 0.0, 0.0, 0.0, 0.0], [0.0503818579018116, 0.010253237560391426, 0.0090173976495862, 0.007853331044316292, 0.008382104337215424, 0.01603054441511631, 0.007579756900668144, 0.01656814105808735, 0.009558068588376045, 0.020098412409424782, 0.028027672320604324, 0.03172842040657997, 0.02179395779967308, 0.03942328318953514, 0.11988719552755356, 0.047830868512392044, 0.14773686230182648, 0.4078488349914551, 0.0, 0.0, 0.0, 0.0, 0.0, 0.0, 0.0, 0.0, 0.0, 0.0, 0.0, 0.0, 0.0, 0.0, 0.0, 0.0, 0.0], [0.009583806619048119, 0.00051222083857283, 0.0006106935325078666, 0.0009717897628434002, 0.0022611042950302362, 0.004041268024593592, 0.00033976082340814173, 0.0023014824837446213, 0.0014669825322926044, 0.004360881168395281, 0.010039581917226315, 0.003883794881403446, 0.0019065381493419409, 0.004968368448317051, 0.0035998807288706303, 0.0027956590056419373, 0.015628820285201073, 0.014497028663754463, 0.9162304401397705, 0.0, 0.0, 0.0, 0.0, 0.0, 0.0, 0.0, 0.0, 0.0, 0.0, 0.0, 0.0, 0.0, 0.0, 0.0, 0.0], [0.03377581015229225, 0.000847293937113136, 0.000936156720854342, 0.0006967576337046921, 0.004600140266120434, 0.0032576012890785933, 0.00042183659388683736, 0.007556704338639975, 0.0010570589220151305, 0.0036437923554331064, 0.00017823875532485545, 0.0020456223282963037, 0.0014812109293416142, 0.002918047597631812, 0.0056848181411623955, 0.06616660207509995, 0.006820718292146921, 0.005966115742921829, 0.02230619266629219, 0.8296393752098083, 0.0, 0.0, 0.0, 0.0, 0.0, 0.0, 0.0, 0.0, 0.0, 0.0, 0.0, 0.0, 0.0, 0.0, 0.0], [0.014338110573589802, 0.004506281577050686, 0.0022934817243367434, 0.004502634052187204, 0.006348524242639542, 0.006440699566155672, 0.0030759212095290422, 0.0034293788485229015, 0.008825044147670269, 0.013563881628215313, 0.008806233294308186, 0.015333065763115883, 0.010930363088846207, 0.03256243094801903, 0.041650157421827316, 0.029358427971601486, 0.06823207437992096, 0.10101231187582016, 0.1282440572977066, 0.08141805976629257, 0.41512882709503174, 0.0, 0.0, 0.0, 0.0, 0.0, 0.0, 0.0, 0.0, 0.0, 0.0, 0.0, 0.0, 0.0, 0.0], [0.012516948394477367, 0.0037073809653520584, 0.0011323614744469523, 0.0020440155640244484, 0.002103799255564809, 0.0007217561942525208, 0.00035877147456631064, 0.0010654567740857601, 0.003341866657137871, 0.003534771269187331, 0.0018008318729698658, 0.005131382029503584, 0.005956845823675394, 0.011681466363370419, 0.023353109136223793, 0.02462637610733509, 0.023082589730620384, 0.02405392937362194, 0.04505402222275734, 0.04447478428483009, 0.09848441928625107, 0.6617730259895325, 0.0, 0.0, 0.0, 0.0, 0.0, 0.0, 0.0, 0.0, 0.0, 0.0, 0.0, 0.0, 0.0], [0.023378068581223488, 0.00297009339556098, 0.0022721635177731514, 0.0031212542671710253, 0.010448775254189968, 0.002795708365738392, 0.0009500704472884536, 0.006640285719186068, 0.0025093022268265486, 0.006215897388756275, 0.0018756616627797484, 0.004366474691778421, 0.005894923582673073, 0.007904240861535072, 0.011842506006360054, 0.011780304834246635, 0.01693400740623474, 0.015606721863150597, 0.036991920322179794, 0.0567626915872097, 0.03885180503129959, 0.30106890201568604, 0.4288182258605957, 0.0, 0.0, 0.0, 0.0, 0.0, 0.0, 0.0, 0.0, 0.0, 0.0, 0.0, 0.0], [0.04225084185600281, 0.009647662751376629, 0.013069666922092438, 0.0034939260222017765, 0.008718243800103664, 0.000871762225870043, 0.002113070571795106, 0.002520154230296612, 0.0028259295504540205, 0.0030562577303498983, 0.005475995130836964, 0.0044675893150269985, 0.005966206081211567, 0.008145663887262344, 0.027670925483107567, 0.013382639735937119, 0.01818912662565708, 0.0327802412211895, 0.028848370537161827, 0.05995951220393181, 0.09605949372053146, 0.20931926369667053, 0.10138271749019623, 0.299784779548645, 0.0, 0.0, 0.0, 0.0, 0.0, 0.0, 0.0, 0.0, 0.0, 0.0, 0.0], [0.02581803873181343, 0.001245302613824606, 0.0012367721647024155, 0.0031558226328343153, 0.0026054575573652983, 0.001117832027375698, 0.0002305325324414298, 0.0010614548809826374, 0.0012552994303405285, 0.0014470182359218597, 0.000608303293120116, 0.002144433790817857, 0.001722275628708303, 0.0030636792071163654, 0.002130710519850254, 0.0017395180184394121, 0.007489562034606934, 0.0042011793702840805, 0.016367286443710327, 0.017187539488077164, 0.016647029668092728, 0.06787323951721191, 0.07546129822731018, 0.04369648918509483, 0.7004938125610352, 0.0, 0.0, 0.0, 0.0, 0.0, 0.0, 0.0, 0.0, 0.0, 0.0], [0.007508307229727507, 0.000129139210912399, 0.0002290404518134892, 0.0003099401656072587, 0.001587574020959437, 0.00015740787785034627, 0.0003654661704786122, 0.0002631948736961931, 0.000246187555603683, 0.004963845480233431, 0.000849328760523349, 0.00020542528363876045, 0.0035996558144688606, 0.0006757518276572227, 0.0006743200938217342, 0.0028660325333476067, 0.0007401989423669875, 0.0012410666095092893, 0.003433941164985299, 0.0033488052431493998, 0.005896294955164194, 0.015315243974328041, 0.013584447093307972, 0.0038060718216001987, 0.10587524622678757, 0.8221280574798584, 0.0, 0.0, 0.0, 0.0, 0.0, 0.0, 0.0, 0.0, 0.0], [0.015146809630095959, 0.0002837269566953182, 0.00043238859507255256, 0.001239212928339839, 0.002660069614648819, 0.0003459537401795387, 0.0002954266092274338, 0.001877205795608461, 0.0002369122375966981, 0.00013219215907156467, 0.0003354801738169044, 0.0002299786574440077, 0.00027149016386829317, 0.00042095399112440646, 0.0008192575769498944, 0.0003039464063476771, 0.0006469362415373325, 0.0003804266743827611, 0.002392594004049897, 0.0029767979867756367, 0.002575612161308527, 0.005941803567111492, 0.0059012118726968765, 0.00520878192037344, 0.02542373724281788, 0.023241247981786728, 0.9002797603607178, 0.0, 0.0, 0.0, 0.0, 0.0, 0.0, 0.0, 0.0], [0.02088216133415699, 0.0006866249023005366, 0.0014190287329256535, 0.0016247219173237681, 0.0054667252115905285, 0.001993070123717189, 0.00034445602796040475, 0.0014866286655887961, 0.0003860275028273463, 0.00029867966077290475, 0.00037154837627895176, 0.0005332492874003947, 0.00025670797913335264, 0.0006083345506340265, 0.00037862511817365885, 0.0013748216442763805, 0.001378133543767035, 0.0009236649493686855, 0.02337498590350151, 0.0377323143184185, 0.0040639787912368774, 0.02184661477804184, 0.01851237192749977, 0.005047194194048643, 0.01844024658203125, 0.06399485468864441, 0.3300277590751648, 0.43654632568359375, 0.0, 0.0, 0.0, 0.0, 0.0, 0.0, 0.0], [0.0027297879569232464, 0.00011315734445815906, 0.00025743208243511617, 0.00030652937130071223, 0.000801237765699625, 0.0008870935998857021, 0.00010111573647009209, 0.002048567635938525, 0.0001429120311513543, 0.0001989804586628452, 0.0004309819487389177, 7.435747102135792e-05, 0.00011077825183747336, 0.00022297585383057594, 0.0001040010538417846, 0.0007566184503957629, 0.00018428782641422004, 0.0003102098125964403, 0.0010590286692604423, 0.005394387524574995, 0.001371139194816351, 0.0017238226719200611, 0.003438346553593874, 0.0007791529642418027, 0.0027107952628284693, 0.01124660111963749, 0.261861652135849, 0.04286465793848038, 0.6577694416046143, 0.0, 0.0, 0.0, 0.0, 0.0, 0.0], [0.007169219199568033, 0.0026512322947382927, 0.0024450281634926796, 0.003023252123966813, 0.0026861911173909903, 0.0007135470514185727, 0.0005127682816237211, 0.00038648644112981856, 0.0009532019612379372, 0.00044078449718654156, 0.0008591758087277412, 0.0012491067172959447, 0.0009424778399989009, 0.0016617256915196776, 0.00044353166595101357, 0.0014648422366008162, 0.0035774623975157738, 0.003767341608181596, 0.012122930027544498, 0.006853919941931963, 0.005249570123851299, 0.019704241305589676, 0.026669245213270187, 0.04096020758152008, 0.2385396659374237, 0.05725705623626709, 0.04040540009737015, 0.10933998227119446, 0.0773630365729332, 0.3305874466896057, 0.0, 0.0, 0.0, 0.0, 0.0], [0.011626669205725193, 0.0019658172968775034, 0.000917952274903655, 0.0018197438912466168, 0.002078979043290019, 0.00029357150197029114, 0.00010028555698227137, 0.0005799982463940978, 0.00048541222349740565, 9.764838614501059e-05, 0.00015712776803411543, 0.0004106420965399593, 0.00048777772462926805, 0.0007517866906709969, 0.0007532837917096913, 0.001224212464876473, 0.0010826849611476064, 0.0014821895165368915, 0.002774250227957964, 0.003610333427786827, 0.002137242117896676, 0.009361447766423225, 0.014277668669819832, 0.01184671651571989, 0.04729335382580757, 0.0450628325343132, 0.041560713201761246, 0.0428079329431057, 0.07079774886369705, 0.10084830224514008, 0.581305742263794, 0.0, 0.0, 0.0, 0.0], [0.003873431822285056, 0.0002557098923716694, 0.0006259249639697373, 0.000584395369514823, 0.0012326474534347653, 0.0003945602220483124, 0.0003326675505377352, 0.000155819216161035, 0.00016472722927574068, 0.0007726292824372649, 0.00038669779314659536, 0.00027824417338706553, 0.00015239718777593225, 0.00025198518414981663, 6.452928209910169e-05, 0.0001726413902360946, 0.0007133573526516557, 0.0005384791293181479, 0.007539561949670315, 0.006723249331116676, 0.0013963915407657623, 0.003110357094556093, 0.005501283798366785, 0.0024135871790349483, 0.03896054998040199, 0.023422332480549812, 0.009641138836741447, 0.025750914588570595, 0.12702471017837524, 0.040059298276901245, 0.5142089128494263, 0.183296799659729, 0.0, 0.0, 0.0], [0.015151125378906727, 0.0013760679867118597, 0.0015560508472844958, 0.0021717105992138386, 0.0025110095739364624, 0.001785494270734489, 0.0004700868157669902, 0.0006788120372220874, 0.00038990710163488984, 0.0009900374570861459, 0.0003802659048233181, 0.00041824980871751904, 0.00044352858094498515, 0.000514013459905982, 0.0001659224071772769, 0.0006932563846930861, 0.0009629516280256212, 0.0007656944799236953, 0.004365222528576851, 0.006436269264668226, 0.0018688279669731855, 0.008356153964996338, 0.006384759675711393, 0.005890707019716501, 0.03118702955543995, 0.04100945219397545, 0.028566082939505577, 0.04157731309533119, 0.04076458886265755, 0.06712852418422699, 0.30426713824272156, 0.21618832647800446, 0.1645854413509369, 0.0, 0.0], [0.01735410839319229, 0.0005264716455712914, 0.0006208933191373944, 0.0016926309326663613, 0.006297255866229534, 0.0010202113771811128, 7.362550240941346e-05, 0.0006762266857549548, 0.0004448310937732458, 7.778872532071546e-05, 4.9738038796931505e-05, 0.0003035976260434836, 0.00017341798229608685, 0.0005162434536032379, 0.0002735279267653823, 0.000744400080293417, 0.0006022221641615033, 0.00045445020077750087, 0.0026653388049453497, 0.0026638777926564217, 0.0025515928864479065, 0.007818793877959251, 0.009490983560681343, 0.0009830397320911288, 0.007624230347573757, 0.011552343145012856, 0.09579715132713318, 0.0806991457939148, 0.09889808297157288, 0.037996143102645874, 0.058356158435344696, 0.11718903481960297, 0.11656809598207474, 0.3172442615032196, 0.0], [0.010796324349939823, 0.0030184590723365545, 0.001701078494079411, 0.0027613970451056957, 0.005546445492655039, 0.0005509481416083872, 0.00022208325390238315, 0.00023305864306166768, 0.0008555068634450436, 8.429402078036219e-05, 0.00013491010759025812, 0.00040303386049345136, 0.000215685271541588, 0.0009122335468418896, 0.0007261995342560112, 0.000381884747184813, 0.0007406792719848454, 0.0007301223231479526, 0.0007852279813960195, 0.0013473377330228686, 0.004313784185796976, 0.007729172706604004, 0.005422808229923248, 0.006747075822204351, 0.013981975615024567, 0.0046309903264045715, 0.01939181238412857, 0.02813372202217579, 0.016861911863088608, 0.07724329829216003, 0.054351557046175, 0.13139016926288605, 0.15014052391052246, 0.08434383571147919, 0.36317044496536255]], [[1.0, 0.0, 0.0, 0.0, 0.0, 0.0, 0.0, 0.0, 0.0, 0.0, 0.0, 0.0, 0.0, 0.0, 0.0, 0.0, 0.0, 0.0, 0.0, 0.0, 0.0, 0.0, 0.0, 0.0, 0.0, 0.0, 0.0, 0.0, 0.0, 0.0, 0.0, 0.0, 0.0, 0.0, 0.0], [0.19326065480709076, 0.806739330291748, 0.0, 0.0, 0.0, 0.0, 0.0, 0.0, 0.0, 0.0, 0.0, 0.0, 0.0, 0.0, 0.0, 0.0, 0.0, 0.0, 0.0, 0.0, 0.0, 0.0, 0.0, 0.0, 0.0, 0.0, 0.0, 0.0, 0.0, 0.0, 0.0, 0.0, 0.0, 0.0, 0.0], [0.09132398664951324, 0.002221891889348626, 0.9064540863037109, 0.0, 0.0, 0.0, 0.0, 0.0, 0.0, 0.0, 0.0, 0.0, 0.0, 0.0, 0.0, 0.0, 0.0, 0.0, 0.0, 0.0, 0.0, 0.0, 0.0, 0.0, 0.0, 0.0, 0.0, 0.0, 0.0, 0.0, 0.0, 0.0, 0.0, 0.0, 0.0], [0.07127535343170166, 0.010394593700766563, 0.014608743600547314, 0.9037213325500488, 0.0, 0.0, 0.0, 0.0, 0.0, 0.0, 0.0, 0.0, 0.0, 0.0, 0.0, 0.0, 0.0, 0.0, 0.0, 0.0, 0.0, 0.0, 0.0, 0.0, 0.0, 0.0, 0.0, 0.0, 0.0, 0.0, 0.0, 0.0, 0.0, 0.0, 0.0], [0.007525176741182804, 8.942753629526123e-05, 7.544117397628725e-05, 3.4135705391236115e-06, 0.9923065304756165, 0.0, 0.0, 0.0, 0.0, 0.0, 0.0, 0.0, 0.0, 0.0, 0.0, 0.0, 0.0, 0.0, 0.0, 0.0, 0.0, 0.0, 0.0, 0.0, 0.0, 0.0, 0.0, 0.0, 0.0, 0.0, 0.0, 0.0, 0.0, 0.0, 0.0], [0.004521052353084087, 4.280496796127409e-06, 9.23039042390883e-05, 2.3636208425159566e-05, 1.1194401849934366e-05, 0.9953475594520569, 0.0, 0.0, 0.0, 0.0, 0.0, 0.0, 0.0, 0.0, 0.0, 0.0, 0.0, 0.0, 0.0, 0.0, 0.0, 0.0, 0.0, 0.0, 0.0, 0.0, 0.0, 0.0, 0.0, 0.0, 0.0, 0.0, 0.0, 0.0, 0.0], [0.007938150316476822, 0.00010465265222592279, 4.188252569292672e-05, 8.376280675292946e-06, 0.00021111425303388387, 3.1297965961130103e-06, 0.9916927814483643, 0.0, 0.0, 0.0, 0.0, 0.0, 0.0, 0.0, 0.0, 0.0, 0.0, 0.0, 0.0, 0.0, 0.0, 0.0, 0.0, 0.0, 0.0, 0.0, 0.0, 0.0, 0.0, 0.0, 0.0, 0.0, 0.0, 0.0, 0.0], [0.0024528438225388527, 1.0800486961670686e-05, 1.541069650556892e-05, 2.252152597748136e-07, 3.925116834579967e-05, 5.133605554874521e-06, 2.3800452254363336e-05, 0.9974525570869446, 0.0, 0.0, 0.0, 0.0, 0.0, 0.0, 0.0, 0.0, 0.0, 0.0, 0.0, 0.0, 0.0, 0.0, 0.0, 0.0, 0.0, 0.0, 0.0, 0.0, 0.0, 0.0, 0.0, 0.0, 0.0, 0.0, 0.0], [0.1994485855102539, 0.17831815779209137, 0.06548022478818893, 0.13276450335979462, 0.038584500551223755, 0.010353410616517067, 0.02143358811736107, 0.006723293103277683, 0.3468937575817108, 0.0, 0.0, 0.0, 0.0, 0.0, 0.0, 0.0, 0.0, 0.0, 0.0, 0.0, 0.0, 0.0, 0.0, 0.0, 0.0, 0.0, 0.0, 0.0, 0.0, 0.0, 0.0, 0.0, 0.0, 0.0, 0.0], [0.0014458474470302463, 8.054695967985026e-07, 3.064583142986521e-05, 7.412913873849902e-07, 2.0274023881938774e-06, 1.1259035090915859e-05, 1.8223380493509467e-06, 8.012933540157974e-05, 1.0569633701607017e-07, 0.9984266757965088, 0.0, 0.0, 0.0, 0.0, 0.0, 0.0, 0.0, 0.0, 0.0, 0.0, 0.0, 0.0, 0.0, 0.0, 0.0, 0.0, 0.0, 0.0, 0.0, 0.0, 0.0, 0.0, 0.0, 0.0, 0.0], [0.0023380222264677286, 1.2498690011852887e-05, 2.2450127289630473e-05, 4.236504992150003e-06, 2.9520293765017414e-07, 1.894709271255124e-06, 7.769859803374857e-05, 8.969065675046295e-06, 4.6952003174283163e-08, 1.1347680128892534e-06, 0.997532844543457, 0.0, 0.0, 0.0, 0.0, 0.0, 0.0, 0.0, 0.0, 0.0, 0.0, 0.0, 0.0, 0.0, 0.0, 0.0, 0.0, 0.0, 0.0, 0.0, 0.0, 0.0, 0.0, 0.0, 0.0], [0.047514595091342926, 0.05268266797065735, 0.020408127456903458, 0.058530017733573914, 0.007166564464569092, 0.008201424963772297, 0.011846395209431648, 0.001747440081089735, 0.02496332861483097, 0.002697254531085491, 0.0014261911856010556, 0.7628160715103149, 0.0, 0.0, 0.0, 0.0, 0.0, 0.0, 0.0, 0.0, 0.0, 0.0, 0.0, 0.0, 0.0, 0.0, 0.0, 0.0, 0.0, 0.0, 0.0, 0.0, 0.0, 0.0, 0.0], [0.006070799194276333, 0.00012957923172507435, 5.9433408750919625e-05, 5.6593407862237655e-06, 0.000261532433796674, 0.0001224183215526864, 1.039932612911798e-05, 1.1076393093389925e-05, 4.060476612721686e-07, 0.0003600465424824506, 2.0115392544539645e-05, 1.364392119285185e-07, 0.9929484128952026, 0.0, 0.0, 0.0, 0.0, 0.0, 0.0, 0.0, 0.0, 0.0, 0.0, 0.0, 0.0, 0.0, 0.0, 0.0, 0.0, 0.0, 0.0, 0.0, 0.0, 0.0, 0.0], [0.09530564397573471, 0.14180326461791992, 0.050381820648908615, 0.10299666225910187, 0.029812084510922432, 0.006589409429579973, 0.016824396327137947, 0.004481855779886246, 0.23106452822685242, 0.01943543553352356, 0.010874394327402115, 0.055432021617889404, 0.03543871268630028, 0.19955970346927643, 0.0, 0.0, 0.0, 0.0, 0.0, 0.0, 0.0, 0.0, 0.0, 0.0, 0.0, 0.0, 0.0, 0.0, 0.0, 0.0, 0.0, 0.0, 0.0, 0.0, 0.0], [0.027447892352938652, 0.00014065386494621634, 0.00019846689247060567, 3.4967801184393466e-05, 5.2821637837041635e-06, 0.00015024232561700046, 8.128373883664608e-05, 1.2125184184696991e-05, 6.303911504801363e-05, 6.543227209476754e-05, 2.832501195371151e-06, 3.8907375710550696e-05, 5.673653049598215e-07, 4.210495171719231e-05, 0.9717161655426025, 0.0, 0.0, 0.0, 0.0, 0.0, 0.0, 0.0, 0.0, 0.0, 0.0, 0.0, 0.0, 0.0, 0.0, 0.0, 0.0, 0.0, 0.0, 0.0, 0.0], [0.0042121135629713535, 3.069683589274064e-05, 6.369430775521323e-05, 8.254541512542346e-07, 8.262126129920944e-07, 3.86833562515676e-05, 4.268803422746714e-06, 3.819402991211973e-06, 1.2628002821202244e-07, 0.0001378273736918345, 1.780609818524681e-05, 1.7100202143183196e-08, 5.979872639727546e-06, 6.190298762476232e-08, 2.2941553652344737e-06, 0.995481014251709, 0.0, 0.0, 0.0, 0.0, 0.0, 0.0, 0.0, 0.0, 0.0, 0.0, 0.0, 0.0, 0.0, 0.0, 0.0, 0.0, 0.0, 0.0, 0.0], [0.01984681747853756, 0.03168346732854843, 0.01255327183753252, 0.03571882098913193, 0.004399015102535486, 0.004350572824478149, 0.0074273706413805485, 0.0009372887434437871, 0.012662890367209911, 0.0016050542471930385, 0.0007319961441680789, 0.4563407003879547, 0.0020108711905777454, 0.009759287349879742, 0.008237501606345177, 0.00025941283092834055, 0.3914757966995239, 0.0, 0.0, 0.0, 0.0, 0.0, 0.0, 0.0, 0.0, 0.0, 0.0, 0.0, 0.0, 0.0, 0.0, 0.0, 0.0, 0.0, 0.0], [0.02729719690978527, 0.0024357049260288477, 0.00027068177587352693, 7.525562250521034e-05, 1.3686833881365601e-05, 5.773222255811561e-06, 0.00043018319411203265, 1.4438142898143269e-05, 4.835136860492639e-05, 5.326102109393105e-05, 9.613300790078938e-06, 6.846687756478786e-05, 0.00030376765062101185, 2.8783890229533426e-05, 3.866390761686489e-05, 2.592679265944753e-05, 4.680046549765393e-05, 0.9688335061073303, 0.0, 0.0, 0.0, 0.0, 0.0, 0.0, 0.0, 0.0, 0.0, 0.0, 0.0, 0.0, 0.0, 0.0, 0.0, 0.0, 0.0], [0.006310692988336086, 3.294691487099044e-05, 9.895685252558906e-06, 7.334591032304161e-07, 9.119849710259587e-05, 4.094936593901366e-05, 8.511712621839251e-06, 9.950720414053649e-05, 1.9264832928911346e-07, 8.829235298435378e-07, 1.8906122249973123e-06, 1.1808716635641758e-06, 3.1165220661932835e-06, 9.474767637129844e-08, 3.3017577152349986e-06, 2.5855299099930562e-05, 7.711314538028091e-07, 2.670870799192926e-06, 0.993365466594696, 0.0, 0.0, 0.0, 0.0, 0.0, 0.0, 0.0, 0.0, 0.0, 0.0, 0.0, 0.0, 0.0, 0.0, 0.0, 0.0], [0.0011340547353029251, 6.961935469007585e-06, 1.2364386748231482e-05, 4.0065501138997206e-07, 5.351819345378317e-05, 5.240101017989218e-06, 4.4595133658731356e-05, 0.0001645079319132492, 1.43445042510848e-08, 1.0388027931185206e-06, 4.778887523571029e-05, 5.058683782976914e-08, 9.468226949138625e-07, 7.475676078172455e-09, 6.603933684345975e-07, 3.843118065560702e-06, 3.346431398654204e-08, 2.4119779595821456e-07, 1.664778210397344e-05, 0.9985070824623108, 0.0, 0.0, 0.0, 0.0, 0.0, 0.0, 0.0, 0.0, 0.0, 0.0, 0.0, 0.0, 0.0, 0.0, 0.0], [0.08800849318504333, 0.18921290338039398, 0.04556255787611008, 0.08163286000490189, 0.017358070239424706, 0.004830402787774801, 0.01895877905189991, 0.004620134364813566, 0.06910264492034912, 0.012970475479960442, 0.010343022644519806, 0.053664129227399826, 0.009830274619162083, 0.05797472223639488, 0.011936411261558533, 0.009446634911000729, 0.04662337526679039, 0.07882609963417053, 0.010427413508296013, 0.00209467438980937, 0.1765758991241455, 0.0, 0.0, 0.0, 0.0, 0.0, 0.0, 0.0, 0.0, 0.0, 0.0, 0.0, 0.0, 0.0, 0.0], [0.015971189364790916, 0.0030620202887803316, 0.0001418951724190265, 0.0007885742816142738, 4.2993720853701234e-05, 4.131205059820786e-05, 6.306861905613914e-05, 3.5465150176605675e-06, 2.173127722926438e-05, 1.7860953448689543e-05, 1.021398747980129e-05, 2.659637902979739e-05, 3.785558510571718e-05, 1.3186871001380496e-05, 0.00018817662203218788, 4.96388247483992e-06, 1.808511296985671e-05, 4.8640275053912774e-05, 4.463595359993633e-06, 2.4802482130326098e-06, 1.2178916222183034e-05, 0.9794788956642151, 0.0, 0.0, 0.0, 0.0, 0.0, 0.0, 0.0, 0.0, 0.0, 0.0, 0.0, 0.0, 0.0], [0.0074722496792674065, 0.00037190772127360106, 7.639093382749707e-05, 1.1135922250105068e-05, 3.0148710720823146e-05, 1.1014449228241574e-05, 5.452883488032967e-05, 2.2444417481892742e-05, 1.1283867934253067e-05, 2.8587923225131817e-05, 5.627749942505034e-06, 7.51361294533126e-05, 7.734301470918581e-05, 6.529724032589002e-06, 8.796932888799347e-06, 8.651518328406382e-06, 5.0727965572150424e-05, 7.040869149932405e-06, 3.187647234881297e-05, 1.4034919786354294e-06, 7.003594419074943e-06, 7.040080527076498e-05, 0.9915596842765808, 0.0, 0.0, 0.0, 0.0, 0.0, 0.0, 0.0, 0.0, 0.0, 0.0, 0.0, 0.0], [0.022045431658625603, 0.2804945707321167, 0.01667475514113903, 0.00015087143401615322, 0.0006804479635320604, 2.739412411756348e-05, 0.000893833814188838, 1.2499208423832897e-05, 0.00026655328110791743, 5.584168320638128e-06, 5.109103221911937e-05, 9.500434680376202e-05, 1.8194792573922314e-05, 0.00018282832752447575, 0.0016493599396198988, 2.793522253341507e-05, 6.991919508436695e-05, 7.67756937420927e-05, 2.088613109663129e-05, 4.512568466452649e-06, 0.00014541397104039788, 0.00044705031905323267, 5.5147884268080816e-05, 0.6759039163589478, 0.0, 0.0, 0.0, 0.0, 0.0, 0.0, 0.0, 0.0, 0.0, 0.0, 0.0], [0.018799468874931335, 0.0019184602424502373, 0.0010523870587348938, 7.228146569104865e-05, 0.00013796600978821516, 5.208816583035514e-05, 6.334375939331949e-05, 9.731958016345743e-06, 8.120811980916187e-05, 5.9983882238157094e-05, 9.635975402488839e-06, 4.8187182983383536e-05, 4.688357512350194e-05, 5.250571120996028e-05, 0.00044942027307115495, 0.00028932973509654403, 3.5372031561564654e-05, 0.00022377954155672342, 0.0002020898973569274, 3.1120071071200073e-06, 3.5228553315391764e-05, 9.855003736447543e-05, 0.00018101475143339485, 0.00012300793605390936, 0.9759549498558044, 0.0, 0.0, 0.0, 0.0, 0.0, 0.0, 0.0, 0.0, 0.0, 0.0], [0.0016589773586019874, 6.632470558542991e-06, 3.9323436794802547e-05, 5.512135885510361e-06, 7.328279025387019e-05, 5.176194690648117e-07, 8.362664084415883e-05, 1.611540574231185e-05, 1.840793260043938e-07, 0.00020032616157550365, 1.8497462406230625e-06, 7.683021863158501e-08, 1.8051048755296506e-05, 9.2597367995495e-08, 6.612178822251735e-06, 1.9627846086223144e-06, 5.0048470257024746e-08, 6.371125493842555e-08, 4.881635504716542e-07, 3.839143118966604e-06, 1.8601461704292888e-08, 1.6708657994968235e-06, 8.81660753293545e-07, 6.673329977502362e-08, 1.8785125632803101e-07, 0.9978796243667603, 0.0, 0.0, 0.0, 0.0, 0.0, 0.0, 0.0, 0.0, 0.0], [0.005040663294494152, 0.0003915553097613156, 0.0005618694121949375, 0.0001452302240068093, 3.9371810999000445e-05, 5.409949881141074e-05, 0.0002847950381692499, 4.8287358367815614e-05, 3.1043107355799293e-06, 6.896255217725411e-05, 0.0002681412152014673, 4.210924998915289e-06, 1.211988455906976e-05, 2.0253935417713365e-06, 3.188776099705137e-05, 1.1356515642546583e-05, 3.0187973152351333e-06, 1.2622882422874682e-05, 7.4655627031461336e-06, 3.027799039045931e-06, 4.951110668116598e-07, 3.0154526029946283e-05, 1.8863744116970338e-05, 4.151238499616738e-06, 5.031317414250225e-06, 6.069065875635715e-06, 0.9929414987564087, 0.0, 0.0, 0.0, 0.0, 0.0, 0.0, 0.0, 0.0], [0.0012448657071217895, 0.00017617022967897356, 2.4151702746166848e-05, 1.245666771865217e-05, 5.211303141550161e-05, 2.3546017473563552e-05, 5.67343995498959e-05, 0.00045827662688679993, 2.498383082638611e-06, 0.00011349407577654347, 4.920241917716339e-05, 1.3444524483929854e-05, 7.735933468211442e-05, 1.3437082770906272e-06, 6.060892701498233e-06, 0.00010331763041904196, 8.745473678573035e-06, 1.0811553693201859e-05, 0.0001585635618539527, 1.9056046767218504e-06, 5.41878421245201e-07, 1.2321355598032824e-06, 6.472225504694507e-05, 3.589052994357189e-06, 8.65089168655686e-06, 2.9628008633153513e-06, 1.3278946425998583e-05, 0.9973098039627075, 0.0, 0.0, 0.0, 0.0, 0.0, 0.0, 0.0], [0.001973336096853018, 0.000975057715550065, 7.218521204777062e-05, 9.848424087977037e-05, 4.960866863257252e-05, 5.434062040876597e-05, 0.00037972061545588076, 6.1846380958741065e-06, 1.0831167855940294e-06, 4.491214440349722e-06, 0.0004798358422704041, 9.928667168424e-07, 1.3564583241532091e-05, 6.477196734522295e-07, 1.0186131476075388e-05, 5.581331606663298e-06, 7.113490596566407e-07, 5.998076062496693e-07, 3.2010875656851567e-06, 2.2882857138029067e-06, 1.513085550186588e-07, 7.13077315595001e-06, 1.7937989014171762e-06, 2.4025746824918315e-05, 2.833120333889383e-07, 1.2269149920030031e-05, 0.00023325506481342018, 0.00031319662230089307, 0.9952757358551025, 0.0, 0.0, 0.0, 0.0, 0.0, 0.0], [0.03009931929409504, 0.09027381241321564, 0.028149735182523727, 0.15763863921165466, 0.02647356316447258, 0.003006009152159095, 0.01721954345703125, 0.002244672505185008, 0.0312004704028368, 0.011351735331118107, 0.0013561322120949626, 0.029119184240698814, 0.016773544251918793, 0.023998118937015533, 0.009450536221265793, 0.006288206670433283, 0.023923054337501526, 0.05829622969031334, 0.009904226288199425, 0.00037797351251356304, 0.02459513582289219, 0.04042007029056549, 0.02788674458861351, 0.009823571890592575, 0.04994712397456169, 0.0010651156771928072, 0.014632536098361015, 0.011246390640735626, 0.0020601563155651093, 0.2411784827709198, 0.0, 0.0, 0.0, 0.0, 0.0], [0.004169422667473555, 0.0006143286591395736, 0.0005938470712862909, 0.00011036224168492481, 9.00551094673574e-05, 1.3705159290111624e-05, 0.0005903489072807133, 2.6892359983321512e-06, 8.671502655488439e-06, 4.611634722095914e-05, 1.0056787687062752e-05, 5.362908723327564e-06, 5.199846054892987e-05, 4.802414423465962e-06, 2.1195248336880468e-05, 2.4785049390629865e-05, 3.440041155045037e-06, 1.841085213527549e-05, 7.055151945678517e-05, 5.603975523627014e-07, 5.060179773863638e-06, 2.2592130335397087e-05, 6.252538878470659e-05, 1.8619348338688724e-05, 0.0001411856064805761, 2.6331088520237245e-05, 1.2610435078386217e-06, 1.0759852102637524e-06, 3.0931948913348606e-07, 5.793055152025772e-06, 0.9932645559310913, 0.0, 0.0, 0.0, 0.0], [0.010566665790975094, 0.0013905882369726896, 0.0004313627432566136, 0.00102959293872118, 0.003916396759450436, 0.00015029506175778806, 0.0019935970194637775, 0.00030443735886365175, 2.984509410453029e-05, 0.0006592923309653997, 1.2659825188165996e-05, 7.52750929677859e-05, 0.0003976769803557545, 1.7276539438171312e-05, 0.00038583489367738366, 2.1061901861685328e-05, 5.340313873603009e-05, 6.33502786513418e-05, 0.00012688428978435695, 6.783195203752257e-06, 2.7170561224920675e-05, 0.0001300896255997941, 3.859863136312924e-05, 4.366646317066625e-05, 8.064098437898792e-06, 0.0007468670373782516, 8.195245754905045e-06, 9.368611063109711e-05, 6.252459570532665e-06, 4.44724500994198e-05, 0.00020698650041595101, 0.9770136475563049, 0.0, 0.0, 0.0], [0.017131494358181953, 0.10981207340955734, 0.04528498649597168, 0.16663989424705505, 0.046834930777549744, 0.012714344076812267, 0.0249418206512928, 0.0024605076760053635, 0.016514169052243233, 0.014018183574080467, 0.002804650692269206, 0.017261289060115814, 0.05619140341877937, 0.011843182146549225, 0.024518407881259918, 0.008004877716302872, 0.013582986779510975, 0.027696531265974045, 0.007881486788392067, 0.00137596414424479, 0.009033635258674622, 0.037480004131793976, 0.01436882559210062, 0.016579674556851387, 0.031486254185438156, 0.0022351096849888563, 0.00703256344422698, 0.020338818430900574, 0.0021573668345808983, 0.015735741704702377, 0.03529254347085953, 0.017795007675886154, 0.16295132040977478, 0.0, 0.0], [0.002736238529905677, 0.003270441899076104, 0.00024938516435213387, 2.9521106625907123e-05, 0.00271907658316195, 1.5680814613006078e-05, 0.0011440073139965534, 3.528553861542605e-05, 1.9352071831235662e-05, 3.620963980210945e-05, 1.2202231118862983e-05, 0.00012145649816375226, 4.9556045269127935e-05, 1.1851500858028885e-05, 8.826622070046142e-05, 3.184522211086005e-05, 8.618923311587423e-05, 0.00013057797332294285, 9.267545829061419e-05, 1.8444527086103335e-05, 4.454882855497999e-06, 1.4211034795152955e-05, 0.0002081980783259496, 6.224932440090925e-05, 2.7289963327348232e-05, 8.527088539267424e-06, 0.0010931706055998802, 0.001025898614898324, 1.8266431652591564e-05, 9.8163227448822e-06, 7.599958848913957e-07, 4.151809662289452e-06, 8.365892426809296e-06, 0.9866164922714233, 0.0], [0.01330177579075098, 0.0020241800229996443, 0.0009810654446482658, 0.00027103975298814476, 0.026242606341838837, 6.968415254959837e-05, 0.0001882462966023013, 0.00033232770510949194, 0.00020717503502964973, 0.0003558363241609186, 1.868877916422207e-05, 0.00031016356660984457, 0.00028844247572124004, 0.00014157580153550953, 0.0002101896534441039, 0.0001373013947159052, 0.0002454255591146648, 0.0005858636577613652, 0.0008409089641645551, 0.00037898452137596905, 0.00011255513527430594, 0.0009485286427661777, 0.0002581722801551223, 0.0005371636361815035, 0.0002370645379414782, 9.896155825117603e-05, 1.4541836208081804e-05, 7.514374010497704e-05, 1.014245117403334e-05, 7.690775237279013e-05, 6.643286906182766e-05, 5.4460040701087564e-05, 0.00010782018944155425, 0.002189124934375286, 0.9480814933776855]], [[1.0, 0.0, 0.0, 0.0, 0.0, 0.0, 0.0, 0.0, 0.0, 0.0, 0.0, 0.0, 0.0, 0.0, 0.0, 0.0, 0.0, 0.0, 0.0, 0.0, 0.0, 0.0, 0.0, 0.0, 0.0, 0.0, 0.0, 0.0, 0.0, 0.0, 0.0, 0.0, 0.0, 0.0, 0.0], [0.9360752105712891, 0.06392484903335571, 0.0, 0.0, 0.0, 0.0, 0.0, 0.0, 0.0, 0.0, 0.0, 0.0, 0.0, 0.0, 0.0, 0.0, 0.0, 0.0, 0.0, 0.0, 0.0, 0.0, 0.0, 0.0, 0.0, 0.0, 0.0, 0.0, 0.0, 0.0, 0.0, 0.0, 0.0, 0.0, 0.0], [0.8446659445762634, 0.06946852803230286, 0.0858655497431755, 0.0, 0.0, 0.0, 0.0, 0.0, 0.0, 0.0, 0.0, 0.0, 0.0, 0.0, 0.0, 0.0, 0.0, 0.0, 0.0, 0.0, 0.0, 0.0, 0.0, 0.0, 0.0, 0.0, 0.0, 0.0, 0.0, 0.0, 0.0, 0.0, 0.0, 0.0, 0.0], [0.6426600813865662, 0.1298869252204895, 0.1711716651916504, 0.056281283497810364, 0.0, 0.0, 0.0, 0.0, 0.0, 0.0, 0.0, 0.0, 0.0, 0.0, 0.0, 0.0, 0.0, 0.0, 0.0, 0.0, 0.0, 0.0, 0.0, 0.0, 0.0, 0.0, 0.0, 0.0, 0.0, 0.0, 0.0, 0.0, 0.0, 0.0, 0.0], [0.5074959993362427, 0.0778627097606659, 0.0726853534579277, 0.10711849480867386, 0.23483744263648987, 0.0, 0.0, 0.0, 0.0, 0.0, 0.0, 0.0, 0.0, 0.0, 0.0, 0.0, 0.0, 0.0, 0.0, 0.0, 0.0, 0.0, 0.0, 0.0, 0.0, 0.0, 0.0, 0.0, 0.0, 0.0, 0.0, 0.0, 0.0, 0.0, 0.0], [0.4970756471157074, 0.06315259635448456, 0.11559104174375534, 0.08851397037506104, 0.1019636020064354, 0.13370312750339508, 0.0, 0.0, 0.0, 0.0, 0.0, 0.0, 0.0, 0.0, 0.0, 0.0, 0.0, 0.0, 0.0, 0.0, 0.0, 0.0, 0.0, 0.0, 0.0, 0.0, 0.0, 0.0, 0.0, 0.0, 0.0, 0.0, 0.0, 0.0, 0.0], [0.3081282079219818, 0.06775975227355957, 0.13057535886764526, 0.05440936237573624, 0.04050318896770477, 0.36059144139289856, 0.038032736629247665, 0.0, 0.0, 0.0, 0.0, 0.0, 0.0, 0.0, 0.0, 0.0, 0.0, 0.0, 0.0, 0.0, 0.0, 0.0, 0.0, 0.0, 0.0, 0.0, 0.0, 0.0, 0.0, 0.0, 0.0, 0.0, 0.0, 0.0, 0.0], [0.32434967160224915, 0.06349693983793259, 0.07783650606870651, 0.07798175513744354, 0.07410477101802826, 0.13590553402900696, 0.07038860023021698, 0.17593620717525482, 0.0, 0.0, 0.0, 0.0, 0.0, 0.0, 0.0, 0.0, 0.0, 0.0, 0.0, 0.0, 0.0, 0.0, 0.0, 0.0, 0.0, 0.0, 0.0, 0.0, 0.0, 0.0, 0.0, 0.0, 0.0, 0.0, 0.0], [0.16412915289402008, 0.03469284996390343, 0.05131255462765694, 0.013317004777491093, 0.17712706327438354, 0.15951897203922272, 0.09812309592962265, 0.2969047427177429, 0.0048745498061180115, 0.0, 0.0, 0.0, 0.0, 0.0, 0.0, 0.0, 0.0, 0.0, 0.0, 0.0, 0.0, 0.0, 0.0, 0.0, 0.0, 0.0, 0.0, 0.0, 0.0, 0.0, 0.0, 0.0, 0.0, 0.0, 0.0], [0.18775461614131927, 0.05488045886158943, 0.10758274793624878, 0.043910037726163864, 0.1406543254852295, 0.1169673353433609, 0.052460040897130966, 0.1536639779806137, 0.04935268685221672, 0.09277379512786865, 0.0, 0.0, 0.0, 0.0, 0.0, 0.0, 0.0, 0.0, 0.0, 0.0, 0.0, 0.0, 0.0, 0.0, 0.0, 0.0, 0.0, 0.0, 0.0, 0.0, 0.0, 0.0, 0.0, 0.0, 0.0], [0.205171138048172, 0.04006877914071083, 0.0833921730518341, 0.04565277323126793, 0.056970130652189255, 0.13319887220859528, 0.026416385546326637, 0.09950856119394302, 0.05013458803296089, 0.21417361497879028, 0.04531293734908104, 0.0, 0.0, 0.0, 0.0, 0.0, 0.0, 0.0, 0.0, 0.0, 0.0, 0.0, 0.0, 0.0, 0.0, 0.0, 0.0, 0.0, 0.0, 0.0, 0.0, 0.0, 0.0, 0.0, 0.0], [0.10754457116127014, 0.020955435931682587, 0.052468441426754, 0.00833085086196661, 0.1799752116203308, 0.10652031004428864, 0.07210805267095566, 0.20191138982772827, 0.0033460413105785847, 0.14021334052085876, 0.10356737673282623, 0.0030589611269533634, 0.0, 0.0, 0.0, 0.0, 0.0, 0.0, 0.0, 0.0, 0.0, 0.0, 0.0, 0.0, 0.0, 0.0, 0.0, 0.0, 0.0, 0.0, 0.0, 0.0, 0.0, 0.0, 0.0], [0.09423349797725677, 0.022835399955511093, 0.055588554590940475, 0.026967836543917656, 0.12799426913261414, 0.07631109654903412, 0.07361152023077011, 0.16634684801101685, 0.030196361243724823, 0.11622445285320282, 0.13079150021076202, 0.022433562204241753, 0.056465137749910355, 0.0, 0.0, 0.0, 0.0, 0.0, 0.0, 0.0, 0.0, 0.0, 0.0, 0.0, 0.0, 0.0, 0.0, 0.0, 0.0, 0.0, 0.0, 0.0, 0.0, 0.0, 0.0], [0.11027710139751434, 0.019917329773306847, 0.03387210890650749, 0.008012221194803715, 0.12686960399150848, 0.12052717059850693, 0.06604591012001038, 0.2115958034992218, 0.0029103788547217846, 0.13361383974552155, 0.07830416411161423, 0.005965670570731163, 0.07863972336053848, 0.0034490155521780252, 0.0, 0.0, 0.0, 0.0, 0.0, 0.0, 0.0, 0.0, 0.0, 0.0, 0.0, 0.0, 0.0, 0.0, 0.0, 0.0, 0.0, 0.0, 0.0, 0.0, 0.0], [0.1600770652294159, 0.05452116206288338, 0.05973624810576439, 0.02020750381052494, 0.05266042426228523, 0.10011066496372223, 0.11729258298873901, 0.14998741447925568, 0.017248352989554405, 0.05625279247760773, 0.09442035853862762, 0.012046908028423786, 0.020297689363360405, 0.01824456825852394, 0.06689618527889252, 0.0, 0.0, 0.0, 0.0, 0.0, 0.0, 0.0, 0.0, 0.0, 0.0, 0.0, 0.0, 0.0, 0.0, 0.0, 0.0, 0.0, 0.0, 0.0, 0.0], [0.17850056290626526, 0.04271138459444046, 0.05876289680600166, 0.025501543655991554, 0.02821972221136093, 0.0939594954252243, 0.035697728395462036, 0.03853301703929901, 0.027574097737669945, 0.124172143638134, 0.0990019217133522, 0.02991955727338791, 0.04168912395834923, 0.030038557946681976, 0.08029220253229141, 0.06542609632015228, 0.0, 0.0, 0.0, 0.0, 0.0, 0.0, 0.0, 0.0, 0.0, 0.0, 0.0, 0.0, 0.0, 0.0, 0.0, 0.0, 0.0, 0.0, 0.0], [0.08262613415718079, 0.01422164961695671, 0.03910333290696144, 0.005809779744595289, 0.14161063730716705, 0.08671101182699203, 0.05503493919968605, 0.1562698781490326, 0.002328178845345974, 0.116793192923069, 0.08067946881055832, 0.0021917957346886396, 0.09792859852313995, 0.002736868103966117, 0.03297452628612518, 0.08037843555212021, 0.002601497806608677, 0.0, 0.0, 0.0, 0.0, 0.0, 0.0, 0.0, 0.0, 0.0, 0.0, 0.0, 0.0, 0.0, 0.0, 0.0, 0.0, 0.0, 0.0], [0.09858329594135284, 0.028320662677288055, 0.05263178050518036, 0.017858650535345078, 0.06163658946752548, 0.08070764690637589, 0.07397957891225815, 0.09560469537973404, 0.009335814975202084, 0.08467230945825577, 0.11269160360097885, 0.018467867746949196, 0.03856263309717178, 0.01105150580406189, 0.06964194774627686, 0.09237801283597946, 0.022560443729162216, 0.03131493553519249, 0.0, 0.0, 0.0, 0.0, 0.0, 0.0, 0.0, 0.0, 0.0, 0.0, 0.0, 0.0, 0.0, 0.0, 0.0, 0.0, 0.0], [0.1495792269706726, 0.013048069551587105, 0.03394852206110954, 0.01506176870316267, 0.04509885609149933, 0.08479966223239899, 0.027256976813077927, 0.17206284403800964, 0.01685032807290554, 0.10883238166570663, 0.11793845891952515, 0.008323260582983494, 0.01613432727754116, 0.0177264716476202, 0.026173429563641548, 0.05189085751771927, 0.008976081386208534, 0.010605714283883572, 0.0756928026676178, 0.0, 0.0, 0.0, 0.0, 0.0, 0.0, 0.0, 0.0, 0.0, 0.0, 0.0, 0.0, 0.0, 0.0, 0.0, 0.0], [0.2303972989320755, 0.024296825751662254, 0.02655998431146145, 0.03924618661403656, 0.042302269488573074, 0.049243394285440445, 0.007979442365467548, 0.0732208862900734, 0.03455186262726784, 0.0660192146897316, 0.03830171003937721, 0.03672323375940323, 0.024140121415257454, 0.0371052622795105, 0.028557151556015015, 0.054463941603899, 0.03901507705450058, 0.015944404527544975, 0.04610009863972664, 0.0858316570520401, 0.0, 0.0, 0.0, 0.0, 0.0, 0.0, 0.0, 0.0, 0.0, 0.0, 0.0, 0.0, 0.0, 0.0, 0.0], [0.05691659078001976, 0.006225025746971369, 0.011754424311220646, 0.003549681045114994, 0.07110726088285446, 0.08006573468446732, 0.02216234989464283, 0.11016800999641418, 0.001048491452820599, 0.08122199028730392, 0.026672057807445526, 0.002196080284193158, 0.030598552897572517, 0.0012014044914394617, 0.014937776140868664, 0.14736883342266083, 0.0026267541106790304, 0.03338916227221489, 0.11049015820026398, 0.18504451215267181, 0.001255226437933743, 0.0, 0.0, 0.0, 0.0, 0.0, 0.0, 0.0, 0.0, 0.0, 0.0, 0.0, 0.0, 0.0, 0.0], [0.09241707623004913, 0.02605961449444294, 0.024830596521496773, 0.014753988943994045, 0.07309961318969727, 0.04160081595182419, 0.02818295918405056, 0.10522368550300598, 0.010200560092926025, 0.02671685814857483, 0.03863626718521118, 0.008342117071151733, 0.03416536748409271, 0.011011883616447449, 0.027021965011954308, 0.10600947588682175, 0.00949846301227808, 0.01612308993935585, 0.06257017701864243, 0.19003155827522278, 0.010448907501995564, 0.04305500537157059, 0.0, 0.0, 0.0, 0.0, 0.0, 0.0, 0.0, 0.0, 0.0, 0.0, 0.0, 0.0, 0.0], [0.061736512929201126, 0.00702962139621377, 0.01948660984635353, 0.01036682166159153, 0.04601285979151726, 0.07236861437559128, 0.02275238186120987, 0.08978495001792908, 0.005041900556534529, 0.07019016146659851, 0.07947877794504166, 0.006475385744124651, 0.03835068643093109, 0.005680921953171492, 0.015840988606214523, 0.05344105884432793, 0.007524979766458273, 0.018862145021557808, 0.09784610569477081, 0.19087880849838257, 0.006985301151871681, 0.027727799490094185, 0.046136584132909775, 0.0, 0.0, 0.0, 0.0, 0.0, 0.0, 0.0, 0.0, 0.0, 0.0, 0.0, 0.0], [0.043498445302248, 0.006029140669852495, 0.016271812841296196, 0.0049628885462880135, 0.0923277959227562, 0.05643606558442116, 0.024273188784718513, 0.10004424303770065, 0.0013475836021825671, 0.04695264995098114, 0.04337000846862793, 0.002612092299386859, 0.025980042293667793, 0.0015367756132036448, 0.013811733573675156, 0.12162507325410843, 0.0030840584076941013, 0.014781144447624683, 0.08252862840890884, 0.20843428373336792, 0.00210581230930984, 0.033566392958164215, 0.04992128536105156, 0.00449881749227643, 0.0, 0.0, 0.0, 0.0, 0.0, 0.0, 0.0, 0.0, 0.0, 0.0, 0.0], [0.05493931472301483, 0.005164694506675005, 0.013282539322972298, 0.00681681465357542, 0.08581957221031189, 0.04258367419242859, 0.010111797600984573, 0.10901318490505219, 0.003067040117457509, 0.04195145145058632, 0.036687545478343964, 0.0038776069413870573, 0.03639628738164902, 0.0036428291350603104, 0.015713095664978027, 0.04514278843998909, 0.004770636558532715, 0.010733410716056824, 0.12949080765247345, 0.18343369662761688, 0.00576391676440835, 0.06008811295032501, 0.064203642308712, 0.008479914627969265, 0.01882551982998848, 0.0, 0.0, 0.0, 0.0, 0.0, 0.0, 0.0, 0.0, 0.0, 0.0], [0.1161927729845047, 0.02400818094611168, 0.01750086434185505, 0.022795304656028748, 0.05027654767036438, 0.03202546387910843, 0.020647747442126274, 0.03974743187427521, 0.023735973984003067, 0.026677900925278664, 0.018856430426239967, 0.028171351179480553, 0.034608807414770126, 0.02664370834827423, 0.022768091410398483, 0.02357734926044941, 0.03119918890297413, 0.022620433941483498, 0.09706810861825943, 0.06436187773942947, 0.03251432254910469, 0.045572008937597275, 0.04268259555101395, 0.028252840042114258, 0.025809550657868385, 0.08168510347604752, 0.0, 0.0, 0.0, 0.0, 0.0, 0.0, 0.0, 0.0, 0.0], [0.11220824718475342, 0.005275930743664503, 0.013701372779905796, 0.006475640460848808, 0.05825747177004814, 0.055918365716934204, 0.013027249835431576, 0.10451259464025497, 0.004013673402369022, 0.040113665163517, 0.03787229210138321, 0.0031745259184390306, 0.012129995040595531, 0.004096257500350475, 0.007334528490900993, 0.017732808366417885, 0.0034752346109598875, 0.003059551352635026, 0.09483389556407928, 0.2000264823436737, 0.005673969630151987, 0.01637454144656658, 0.017230205237865448, 0.0043684327974915504, 0.00930806528776884, 0.09713461995124817, 0.052670348435640335, 0.0, 0.0, 0.0, 0.0, 0.0, 0.0, 0.0, 0.0], [0.06115267053246498, 0.004939327482134104, 0.009762823581695557, 0.005227167624980211, 0.036462754011154175, 0.03137053921818733, 0.008218889124691486, 0.11535759270191193, 0.0032728654332458973, 0.0382491871714592, 0.033371757715940475, 0.002179377246648073, 0.007692963350564241, 0.003454807912930846, 0.00908544659614563, 0.027900516986846924, 0.002366592874750495, 0.0039482396095991135, 0.0407714881002903, 0.2757468521595001, 0.003546664956957102, 0.012455109506845474, 0.03261313587427139, 0.003209816524758935, 0.0036030937917530537, 0.1000962108373642, 0.08892866224050522, 0.03501545637845993, 0.0, 0.0, 0.0, 0.0, 0.0, 0.0, 0.0], [0.11957038193941116, 0.008050519973039627, 0.013377298600971699, 0.00708926934748888, 0.025275398045778275, 0.05149081349372864, 0.006585441529750824, 0.06165981665253639, 0.005620481912046671, 0.05561486631631851, 0.027291812002658844, 0.004286487121134996, 0.007698430214077234, 0.005996249616146088, 0.007942020893096924, 0.028790507465600967, 0.004870968405157328, 0.004313753917813301, 0.02622807025909424, 0.15385551750659943, 0.010709966532886028, 0.009564647451043129, 0.029178382828831673, 0.005329277832061052, 0.008051513694226742, 0.07812705636024475, 0.10984013974666595, 0.02952103316783905, 0.0940699428319931, 0.0, 0.0, 0.0, 0.0, 0.0, 0.0], [0.02588074654340744, 0.003286874620243907, 0.009190612472593784, 0.002271318808197975, 0.04206257686018944, 0.0403556153178215, 0.01510707288980484, 0.04801337048411369, 0.0008096095989458263, 0.0390641987323761, 0.026566801592707634, 0.0015204494120553136, 0.02122018113732338, 0.0009539546445012093, 0.007810375653207302, 0.03313515707850456, 0.00187924993224442, 0.010119674727320671, 0.06751003116369247, 0.12262912094593048, 0.0015832221833989024, 0.022168036550283432, 0.0307852104306221, 0.004318807739764452, 0.01872900314629078, 0.1447751820087433, 0.06957430392503738, 0.1138874888420105, 0.07182329893112183, 0.002968475455418229, 0.0, 0.0, 0.0, 0.0, 0.0], [0.04612509533762932, 0.004929370246827602, 0.011905019171535969, 0.0059399111196398735, 0.050862327218055725, 0.03915584832429886, 0.011702246963977814, 0.07777240127325058, 0.0027224929071962833, 0.029330715537071228, 0.035436611622571945, 0.0025086570531129837, 0.011883251368999481, 0.002963855629786849, 0.008878662250936031, 0.018936671316623688, 0.002804588759317994, 0.004066924564540386, 0.06637166440486908, 0.16173599660396576, 0.004074744414538145, 0.017417894676327705, 0.048458121716976166, 0.005489852279424667, 0.014467369765043259, 0.0888427346944809, 0.05744141340255737, 0.048157572746276855, 0.09182099252939224, 0.0047510224394500256, 0.023045990616083145, 0.0, 0.0, 0.0, 0.0], [0.0286165252327919, 0.003539714263752103, 0.012825751677155495, 0.003731105476617813, 0.022132832556962967, 0.026339074596762657, 0.015483633615076542, 0.046924490481615067, 0.001677015912719071, 0.05343088135123253, 0.038187284022569656, 0.00252948934212327, 0.02768225222826004, 0.0019447177182883024, 0.010427966713905334, 0.02030639350414276, 0.003083116840571165, 0.008337556384503841, 0.06147442385554314, 0.056954674422740936, 0.0030909229535609484, 0.01978730410337448, 0.037704236805438995, 0.004031910095363855, 0.02077089436352253, 0.12126167118549347, 0.08733708411455154, 0.07036233693361282, 0.09933116286993027, 0.005798673722893, 0.06381495296955109, 0.021079953759908676, 0.0, 0.0, 0.0], [0.022769231349229813, 0.002363812644034624, 0.0069536142982542515, 0.0009745153947733343, 0.03343131020665169, 0.030963115394115448, 0.012881079688668251, 0.0763968899846077, 0.0002621037419885397, 0.030449924990534782, 0.03674255684018135, 0.0005670607788488269, 0.014569049701094627, 0.000305533321807161, 0.0059483652003109455, 0.022492555901408195, 0.0007025580853223801, 0.004866447299718857, 0.060261815786361694, 0.1558590680360794, 0.0005001774406991899, 0.019988086074590683, 0.03086848184466362, 0.003128149313852191, 0.012151172384619713, 0.11994659900665283, 0.07597392797470093, 0.09628818184137344, 0.07584258913993835, 0.0010643767891451716, 0.03271332383155823, 0.01111111231148243, 0.0006632998702116311, 0.0, 0.0], [0.06755812466144562, 0.003352795261889696, 0.008972211740911007, 0.0034025409258902073, 0.05607307702302933, 0.030404699966311455, 0.013628305867314339, 0.07952424138784409, 0.0025889382231980562, 0.03472939133644104, 0.015315973199903965, 0.002527100732550025, 0.007685470394790173, 0.0026928246952593327, 0.0071130008436739445, 0.026128467172384262, 0.0027733708266168833, 0.007069497834891081, 0.05076206848025322, 0.1759389489889145, 0.0039354413747787476, 0.010542857460677624, 0.01269733626395464, 0.0028314427472651005, 0.0049834903329610825, 0.056103698909282684, 0.10278657078742981, 0.07864399999380112, 0.06361375749111176, 0.004290642682462931, 0.012449040077626705, 0.00784690584987402, 0.003574161557480693, 0.037459537386894226, 0.0], [0.058894261717796326, 0.004834294319152832, 0.008816243149340153, 0.004917600657790899, 0.05724450200796127, 0.04719964414834976, 0.010384353809058666, 0.04373682290315628, 0.003253214992582798, 0.027000511065125465, 0.015386003069579601, 0.005444497801363468, 0.018304413184523582, 0.003610058454796672, 0.011856132186949253, 0.07255370169878006, 0.0060180784203112125, 0.006411904469132423, 0.05586158484220505, 0.08374674618244171, 0.003973668906837702, 0.01859060488641262, 0.019445111975073814, 0.0038806768134236336, 0.008932654745876789, 0.12242709845304489, 0.040986306965351105, 0.07429765164852142, 0.05774557590484619, 0.0063186343759298325, 0.013084126636385918, 0.023065797984600067, 0.005796521902084351, 0.04094136878848076, 0.015039587393403053]], [[1.0, 0.0, 0.0, 0.0, 0.0, 0.0, 0.0, 0.0, 0.0, 0.0, 0.0, 0.0, 0.0, 0.0, 0.0, 0.0, 0.0, 0.0, 0.0, 0.0, 0.0, 0.0, 0.0, 0.0, 0.0, 0.0, 0.0, 0.0, 0.0, 0.0, 0.0, 0.0, 0.0, 0.0, 0.0], [0.9780336022377014, 0.02196633629500866, 0.0, 0.0, 0.0, 0.0, 0.0, 0.0, 0.0, 0.0, 0.0, 0.0, 0.0, 0.0, 0.0, 0.0, 0.0, 0.0, 0.0, 0.0, 0.0, 0.0, 0.0, 0.0, 0.0, 0.0, 0.0, 0.0, 0.0, 0.0, 0.0, 0.0, 0.0, 0.0, 0.0], [0.5068987607955933, 0.42791464924812317, 0.06518664956092834, 0.0, 0.0, 0.0, 0.0, 0.0, 0.0, 0.0, 0.0, 0.0, 0.0, 0.0, 0.0, 0.0, 0.0, 0.0, 0.0, 0.0, 0.0, 0.0, 0.0, 0.0, 0.0, 0.0, 0.0, 0.0, 0.0, 0.0, 0.0, 0.0, 0.0, 0.0, 0.0], [0.34595051407814026, 0.23385089635849, 0.1913881152868271, 0.22881050407886505, 0.0, 0.0, 0.0, 0.0, 0.0, 0.0, 0.0, 0.0, 0.0, 0.0, 0.0, 0.0, 0.0, 0.0, 0.0, 0.0, 0.0, 0.0, 0.0, 0.0, 0.0, 0.0, 0.0, 0.0, 0.0, 0.0, 0.0, 0.0, 0.0, 0.0, 0.0], [0.2785970866680145, 0.17525732517242432, 0.11037101596593857, 0.2518095076084137, 0.18396516144275665, 0.0, 0.0, 0.0, 0.0, 0.0, 0.0, 0.0, 0.0, 0.0, 0.0, 0.0, 0.0, 0.0, 0.0, 0.0, 0.0, 0.0, 0.0, 0.0, 0.0, 0.0, 0.0, 0.0, 0.0, 0.0, 0.0, 0.0, 0.0, 0.0, 0.0], [0.20804190635681152, 0.0882713571190834, 0.061608146876096725, 0.25848427414894104, 0.27056995034217834, 0.11302442848682404, 0.0, 0.0, 0.0, 0.0, 0.0, 0.0, 0.0, 0.0, 0.0, 0.0, 0.0, 0.0, 0.0, 0.0, 0.0, 0.0, 0.0, 0.0, 0.0, 0.0, 0.0, 0.0, 0.0, 0.0, 0.0, 0.0, 0.0, 0.0, 0.0], [0.1632562130689621, 0.12141187489032745, 0.11990706622600555, 0.16166450083255768, 0.10774080455303192, 0.29750359058380127, 0.02851596660912037, 0.0, 0.0, 0.0, 0.0, 0.0, 0.0, 0.0, 0.0, 0.0, 0.0, 0.0, 0.0, 0.0, 0.0, 0.0, 0.0, 0.0, 0.0, 0.0, 0.0, 0.0, 0.0, 0.0, 0.0, 0.0, 0.0, 0.0, 0.0], [0.1228092834353447, 0.0397898368537426, 0.045145437121391296, 0.13578511774539948, 0.09269556403160095, 0.11808718740940094, 0.3369846045970917, 0.10870295763015747, 0.0, 0.0, 0.0, 0.0, 0.0, 0.0, 0.0, 0.0, 0.0, 0.0, 0.0, 0.0, 0.0, 0.0, 0.0, 0.0, 0.0, 0.0, 0.0, 0.0, 0.0, 0.0, 0.0, 0.0, 0.0, 0.0, 0.0], [0.0785447210073471, 0.0357038639485836, 0.029105370864272118, 0.05200909450650215, 0.10322194546461105, 0.06222518905997276, 0.06801243126392365, 0.1702917069196701, 0.40088579058647156, 0.0, 0.0, 0.0, 0.0, 0.0, 0.0, 0.0, 0.0, 0.0, 0.0, 0.0, 0.0, 0.0, 0.0, 0.0, 0.0, 0.0, 0.0, 0.0, 0.0, 0.0, 0.0, 0.0, 0.0, 0.0, 0.0], [0.08555344492197037, 0.045082125812768936, 0.020755305886268616, 0.057487912476062775, 0.058533720672130585, 0.03812538832426071, 0.03164028003811836, 0.14470812678337097, 0.3939673900604248, 0.12414636462926865, 0.0, 0.0, 0.0, 0.0, 0.0, 0.0, 0.0, 0.0, 0.0, 0.0, 0.0, 0.0, 0.0, 0.0, 0.0, 0.0, 0.0, 0.0, 0.0, 0.0, 0.0, 0.0, 0.0, 0.0, 0.0], [0.03400759771466255, 0.005801306571811438, 0.004264358896762133, 0.014554589055478573, 0.002058125799521804, 0.010052242316305637, 0.015462438575923443, 0.014919949695467949, 0.07456015050411224, 0.8029414415359497, 0.02137780375778675, 0.0, 0.0, 0.0, 0.0, 0.0, 0.0, 0.0, 0.0, 0.0, 0.0, 0.0, 0.0, 0.0, 0.0, 0.0, 0.0, 0.0, 0.0, 0.0, 0.0, 0.0, 0.0, 0.0, 0.0], [0.036581333726644516, 0.008552639745175838, 0.009085922501981258, 0.01071860920637846, 0.031510576605796814, 0.07786071300506592, 0.02809949964284897, 0.05203400179743767, 0.09175647795200348, 0.24980762600898743, 0.22384561598300934, 0.18014705181121826, 0.0, 0.0, 0.0, 0.0, 0.0, 0.0, 0.0, 0.0, 0.0, 0.0, 0.0, 0.0, 0.0, 0.0, 0.0, 0.0, 0.0, 0.0, 0.0, 0.0, 0.0, 0.0, 0.0], [0.03899509087204933, 0.013953062705695629, 0.027150364592671394, 0.015978632494807243, 0.006068874150514603, 0.015332898125052452, 0.0073584397323429585, 0.008143594488501549, 0.09236103296279907, 0.09582390636205673, 0.3970893919467926, 0.22508259117603302, 0.05666206404566765, 0.0, 0.0, 0.0, 0.0, 0.0, 0.0, 0.0, 0.0, 0.0, 0.0, 0.0, 0.0, 0.0, 0.0, 0.0, 0.0, 0.0, 0.0, 0.0, 0.0, 0.0, 0.0], [0.02941764146089554, 0.006853987462818623, 0.005433529615402222, 0.008306891657412052, 0.015738293528556824, 0.008708913810551167, 0.008349095471203327, 0.023920103907585144, 0.046946827322244644, 0.04814496263861656, 0.0930999144911766, 0.15290866792201996, 0.1485418677330017, 0.4036293625831604, 0.0, 0.0, 0.0, 0.0, 0.0, 0.0, 0.0, 0.0, 0.0, 0.0, 0.0, 0.0, 0.0, 0.0, 0.0, 0.0, 0.0, 0.0, 0.0, 0.0, 0.0], [0.0371282622218132, 0.007584461476653814, 0.003545146668329835, 0.008117969147861004, 0.018834205344319344, 0.005904969293624163, 0.009632602334022522, 0.011076662689447403, 0.04249943420290947, 0.015083963051438332, 0.01984347030520439, 0.11177284270524979, 0.12816856801509857, 0.33317866921424866, 0.24762877821922302, 0.0, 0.0, 0.0, 0.0, 0.0, 0.0, 0.0, 0.0, 0.0, 0.0, 0.0, 0.0, 0.0, 0.0, 0.0, 0.0, 0.0, 0.0, 0.0, 0.0], [0.024791480973362923, 0.002257237210869789, 0.0019112305017188191, 0.0031496414449065924, 0.0017746682278811932, 0.0030808569863438606, 0.019880715757608414, 0.006427106913179159, 0.015317468903958797, 0.0032266031485050917, 0.02029605023562908, 0.05772729590535164, 0.022555232048034668, 0.08885950595140457, 0.7141124606132507, 0.014632428996264935, 0.0, 0.0, 0.0, 0.0, 0.0, 0.0, 0.0, 0.0, 0.0, 0.0, 0.0, 0.0, 0.0, 0.0, 0.0, 0.0, 0.0, 0.0, 0.0], [0.019352812319993973, 0.0027357181534171104, 0.0027006452437490225, 0.002816398860886693, 0.00730062136426568, 0.016268718987703323, 0.005134706385433674, 0.010258649475872517, 0.013791474513709545, 0.033804427832365036, 0.03394479304552078, 0.024110404774546623, 0.053474947810173035, 0.09690997004508972, 0.27618828415870667, 0.22190378606319427, 0.17930375039577484, 0.0, 0.0, 0.0, 0.0, 0.0, 0.0, 0.0, 0.0, 0.0, 0.0, 0.0, 0.0, 0.0, 0.0, 0.0, 0.0, 0.0, 0.0], [0.016778266057372093, 0.0013836651341989636, 0.0012504421174526215, 0.0019532653968781233, 0.001228307606652379, 0.003427051240578294, 0.001771017094142735, 0.002587685827165842, 0.009956514462828636, 0.007537410128861666, 0.004963121376931667, 0.023668866604566574, 0.017456673085689545, 0.06967746466398239, 0.2612769901752472, 0.24082402884960175, 0.17677928507328033, 0.15747997164726257, 0.0, 0.0, 0.0, 0.0, 0.0, 0.0, 0.0, 0.0, 0.0, 0.0, 0.0, 0.0, 0.0, 0.0, 0.0, 0.0, 0.0], [0.05475038290023804, 0.009201948530972004, 0.003783299820497632, 0.006891878787428141, 0.007006865926086903, 0.005267786327749491, 0.0019135883776471019, 0.006649003829807043, 0.0224907249212265, 0.007203699089586735, 0.039859868586063385, 0.026306964457035065, 0.03598390519618988, 0.10654615610837936, 0.14742803573608398, 0.029531899839639664, 0.14834171533584595, 0.23425260186195374, 0.1065896525979042, 0.0, 0.0, 0.0, 0.0, 0.0, 0.0, 0.0, 0.0, 0.0, 0.0, 0.0, 0.0, 0.0, 0.0, 0.0, 0.0], [0.08004871010780334, 0.003562742844223976, 0.003394150407984853, 0.011285579763352871, 0.012208585627377033, 0.0019434966379776597, 0.003920826129615307, 0.024116620421409607, 0.02334998920559883, 0.008975883945822716, 0.005343945696949959, 0.025336071848869324, 0.013870185241103172, 0.10103639215230942, 0.03973819687962532, 0.08061373978853226, 0.12086466699838638, 0.1229468360543251, 0.1413252353668213, 0.17611812055110931, 0.0, 0.0, 0.0, 0.0, 0.0, 0.0, 0.0, 0.0, 0.0, 0.0, 0.0, 0.0, 0.0, 0.0, 0.0], [0.013053345493972301, 0.0019795631524175406, 0.0016182123217731714, 0.0014078525127843022, 0.0014868241269141436, 0.0013099159114062786, 0.0016642939299345016, 0.0025665161665529013, 0.003062670351937413, 0.010340572334825993, 0.007755252066999674, 0.00892942026257515, 0.00886954739689827, 0.01716512441635132, 0.07265801727771759, 0.08664456754922867, 0.06223953887820244, 0.16528475284576416, 0.07255075871944427, 0.09155549108982086, 0.36785778403282166, 0.0, 0.0, 0.0, 0.0, 0.0, 0.0, 0.0, 0.0, 0.0, 0.0, 0.0, 0.0, 0.0, 0.0], [0.012316005304455757, 0.0011592352529987693, 0.0007622393313795328, 0.0019507510587573051, 0.0012718499638140202, 0.0006892282981425524, 0.0005458982777781785, 0.00260300375521183, 0.003917665220797062, 0.0005409365985542536, 0.0012741906102746725, 0.006503158248960972, 0.005551592446863651, 0.017973441630601883, 0.013353326357901096, 0.038051243871450424, 0.043033964931964874, 0.03958652913570404, 0.02230064943432808, 0.03898366913199425, 0.5949543118476868, 0.1526770442724228, 0.0, 0.0, 0.0, 0.0, 0.0, 0.0, 0.0, 0.0, 0.0, 0.0, 0.0, 0.0, 0.0], [0.013724959455430508, 0.001612572930753231, 0.0003289871383458376, 0.0010084330569952726, 0.0011758027831092477, 0.0007259281119331717, 0.0005918759270571172, 0.000961559999268502, 0.0031186218839138746, 0.005970012862235308, 0.0030334636103361845, 0.003344496013596654, 0.008407552726566792, 0.013658510521054268, 0.005607037339359522, 0.005321719218045473, 0.019289923831820488, 0.02910967357456684, 0.013599644415080547, 0.03133779391646385, 0.25137242674827576, 0.5305220484733582, 0.056176941841840744, 0.0, 0.0, 0.0, 0.0, 0.0, 0.0, 0.0, 0.0, 0.0, 0.0, 0.0, 0.0], [0.016002364456653595, 0.00095604476518929, 0.0005680455360561609, 0.0015549736563116312, 0.0015755705535411835, 0.0006219720235094428, 0.0011257636360824108, 0.001436873571947217, 0.002310045761987567, 0.0009028321364894509, 0.0013921463396400213, 0.003672591410577297, 0.0036322821397334337, 0.009217401035130024, 0.008623877540230751, 0.027025723829865456, 0.021376434713602066, 0.033301085233688354, 0.03885401412844658, 0.039058420807123184, 0.2659664452075958, 0.19372610747814178, 0.09792874753475189, 0.22917023301124573, 0.0, 0.0, 0.0, 0.0, 0.0, 0.0, 0.0, 0.0, 0.0, 0.0, 0.0], [0.00998727884143591, 0.000965174229349941, 0.0006041582091711462, 0.0009222140070050955, 0.0008805796387605369, 0.0005974340019747615, 0.0002114919334417209, 0.0006455681286752224, 0.0012417666148394346, 0.000685969484038651, 0.0007031501736491919, 0.0014577420661225915, 0.0018487717024981976, 0.0050771962851285934, 0.0019275660160928965, 0.01241340208798647, 0.008568298071622849, 0.012073670513927937, 0.02193666249513626, 0.02919417805969715, 0.14272767305374146, 0.09834032505750656, 0.11847667396068573, 0.31631970405578613, 0.2121933549642563, 0.0, 0.0, 0.0, 0.0, 0.0, 0.0, 0.0, 0.0, 0.0, 0.0], [0.01686086691915989, 0.0019703253637999296, 0.0008858375367708504, 0.001765639171935618, 0.002392833586782217, 0.0005271151894703507, 0.0003617889597080648, 0.0006361057749018073, 0.00224113161675632, 0.0008515844820067286, 0.00038157758535817266, 0.002274829428642988, 0.0018798474920913577, 0.0072922417894005775, 0.002146675018593669, 0.0025263046845793724, 0.010355675593018532, 0.011969316750764847, 0.006590907461941242, 0.012827474623918533, 0.12130498141050339, 0.06624650955200195, 0.14612388610839844, 0.28280729055404663, 0.24703305959701538, 0.049746185541152954, 0.0, 0.0, 0.0, 0.0, 0.0, 0.0, 0.0, 0.0, 0.0], [0.026405006647109985, 0.001423100708052516, 0.0016234474023804069, 0.00257640378549695, 0.002689703367650509, 0.0012257533380761743, 0.0010898750042542815, 0.0009538459707982838, 0.0019223560811951756, 0.002411529188975692, 0.0024579432792961597, 0.0014354211743921041, 0.005378494970500469, 0.004732344765216112, 0.001939117326401174, 0.00795750506222248, 0.006086887791752815, 0.012657437473535538, 0.011602524667978287, 0.029096631333231926, 0.08598873764276505, 0.07665891945362091, 0.036240123212337494, 0.13133357465267181, 0.19490276277065277, 0.21766330301761627, 0.13154719769954681, 0.0, 0.0, 0.0, 0.0, 0.0, 0.0, 0.0, 0.0], [0.023896079510450363, 0.0020674974657595158, 0.0025093802250921726, 0.0018511995440348983, 0.0031609684228897095, 0.0009005632600747049, 0.0002685427025426179, 0.0005213551921769977, 0.001787214889191091, 0.0019308981718495488, 0.001015822752378881, 0.001044267206452787, 0.0015677055343985558, 0.0040601021610200405, 0.0008207396604120731, 0.0033583000767976046, 0.004117123316973448, 0.007223031483590603, 0.014547303318977356, 0.04635155573487282, 0.05601867660880089, 0.03840017318725586, 0.041609957814216614, 0.10494540631771088, 0.1578821986913681, 0.12118802964687347, 0.1909026950597763, 0.16605332493782043, 0.0, 0.0, 0.0, 0.0, 0.0, 0.0, 0.0], [0.04075776785612106, 0.0039583598263561726, 0.005698095075786114, 0.003957982175052166, 0.0014047796139493585, 0.0003276943461969495, 0.0006401922437362373, 0.0012045823968946934, 0.0022385590709745884, 0.0007448496762663126, 0.0038365793880075216, 0.0016206831205636263, 0.0010148307774215937, 0.00426118727773428, 0.0009652962326072156, 0.00039543205639347434, 0.00540107162669301, 0.007263401057571173, 0.00576681038364768, 0.029991835355758667, 0.04173656553030014, 0.017527665942907333, 0.025155046954751015, 0.0756526067852974, 0.24542629718780518, 0.06668493896722794, 0.26483193039894104, 0.055024128407239914, 0.08651075512170792, 0.0, 0.0, 0.0, 0.0, 0.0, 0.0], [0.011784794740378857, 0.0013947563711553812, 0.0009515657438896596, 0.000895321078132838, 0.0010372711112722754, 0.0004972644383087754, 0.00025283885770477355, 0.00043175695464015007, 0.0005345691461116076, 0.00028229248709976673, 0.00042747301631607115, 0.0005479558021761477, 0.0008038750966079533, 0.0011037482181563973, 0.0010882882634177804, 0.0026353762950748205, 0.0020033165346831083, 0.002939451951533556, 0.005114209372550249, 0.009162317961454391, 0.020236428827047348, 0.014397266320884228, 0.014386608265340328, 0.05287303775548935, 0.044258106499910355, 0.0717473104596138, 0.08077163249254227, 0.11779720336198807, 0.1448613852262497, 0.3947826325893402, 0.0, 0.0, 0.0, 0.0, 0.0], [0.012992850504815578, 0.0016676135128363967, 0.0010021079797297716, 0.0011761257192119956, 0.0007638346287421882, 0.0004005827067885548, 0.00012849250924773514, 0.00010518684575799853, 0.0005606432096101344, 0.00014079366519581527, 0.00012207566760480404, 0.00039859922253526747, 0.00022988310956861824, 0.0011077818926423788, 0.0003631032013799995, 0.0008891792385838926, 0.0014402443775907159, 0.0014520194381475449, 0.002630571834743023, 0.0031673822086304426, 0.01722465269267559, 0.010722342878580093, 0.0050229961052536964, 0.045778512954711914, 0.04751962050795555, 0.027067044749855995, 0.05216856673359871, 0.055007923394441605, 0.11481013894081116, 0.44568830728530884, 0.14825090765953064, 0.0, 0.0, 0.0, 0.0], [0.011720003560185432, 0.0009638665360398591, 0.0016792761161923409, 0.0009598789620213211, 0.001183533575385809, 0.00035873393062502146, 0.0001312520180363208, 0.0002098587719956413, 0.00035185745218768716, 0.00011673840344883502, 0.00033267223625443876, 0.00020899836090393364, 0.0001630404294701293, 0.0005591597873717546, 0.00017877924256026745, 0.0005847528809681535, 0.0006520423339679837, 0.000810088706202805, 0.0008232013205997646, 0.006545142736285925, 0.007790668401867151, 0.006622510030865669, 0.005052968394011259, 0.014489847235381603, 0.02494208700954914, 0.01901032216846943, 0.02852548100054264, 0.036787740886211395, 0.14266954362392426, 0.23489893972873688, 0.3008542060852051, 0.14982274174690247, 0.0, 0.0, 0.0], [0.011463269591331482, 0.0009014818351715803, 0.0005477445083670318, 0.0005869870656169951, 0.0005616629496216774, 0.00023434772447217256, 0.00013944678357802331, 0.00019926785898860544, 0.0003140303597319871, 0.0001251463545486331, 0.00021479520364664495, 0.0002481348055880517, 0.0002290619013365358, 0.0005020766402594745, 0.00045190236414782703, 0.0006676735356450081, 0.0007638593669980764, 0.0009467154741287231, 0.001009436440654099, 0.0037195703480392694, 0.007444886025041342, 0.00450055580586195, 0.001834433525800705, 0.012973621487617493, 0.015522468835115433, 0.021838270127773285, 0.01622895523905754, 0.024697456508874893, 0.0380532369017601, 0.16302332282066345, 0.11826053261756897, 0.22884775698184967, 0.3229479193687439, 0.0, 0.0], [0.009539727121591568, 0.0014243278419598937, 0.000994458212517202, 0.0009655583999119699, 0.0007854431169107556, 0.0003016061382368207, 0.00011159566201968119, 0.0008093690266832709, 0.0004005463852081448, 8.517074456904083e-05, 0.000630756956525147, 0.00020861542725469917, 0.00025255614309571683, 0.0005451845354400575, 0.00024275558826047927, 0.0005828304565511644, 0.0005503924330696464, 0.0010548564605414867, 0.0010979126673191786, 0.004033542703837156, 0.00515154842287302, 0.0072512500919401646, 0.003988179843872786, 0.012260396033525467, 0.013561544008553028, 0.03828657418489456, 0.06675273180007935, 0.013111522421240807, 0.10093283653259277, 0.13179118931293488, 0.05432303994894028, 0.15251491963863373, 0.30832451581954956, 0.06713257730007172, 0.0], [0.009234576486051083, 0.0018696906045079231, 0.0015434968518093228, 0.0012878915295004845, 0.0009349415195174515, 0.00028256099903956056, 0.00044942696695216, 0.0005595001857727766, 0.0003277683863416314, 7.203824497992173e-05, 0.00010657920938683674, 0.00026362462085671723, 0.0003654732136055827, 0.0003748312301468104, 0.0003117537416983396, 0.0008969141053967178, 0.0006347454618662596, 0.0008650016388855875, 0.0008020036621019244, 0.0006307897856459022, 0.003218781901523471, 0.0038458341732621193, 0.0030004349537193775, 0.007814166136085987, 0.01010721456259489, 0.016721554100513458, 0.007672085892409086, 0.010031219571828842, 0.005356388166546822, 0.07757057994604111, 0.03774448111653328, 0.13809102773666382, 0.19567598402500153, 0.030743561685085297, 0.4305931031703949]], [[1.0, 0.0, 0.0, 0.0, 0.0, 0.0, 0.0, 0.0, 0.0, 0.0, 0.0, 0.0, 0.0, 0.0, 0.0, 0.0, 0.0, 0.0, 0.0, 0.0, 0.0, 0.0, 0.0, 0.0, 0.0, 0.0, 0.0, 0.0, 0.0, 0.0, 0.0, 0.0, 0.0, 0.0, 0.0], [0.8970723748207092, 0.10292764008045197, 0.0, 0.0, 0.0, 0.0, 0.0, 0.0, 0.0, 0.0, 0.0, 0.0, 0.0, 0.0, 0.0, 0.0, 0.0, 0.0, 0.0, 0.0, 0.0, 0.0, 0.0, 0.0, 0.0, 0.0, 0.0, 0.0, 0.0, 0.0, 0.0, 0.0, 0.0, 0.0, 0.0], [0.7731762528419495, 0.17108596861362457, 0.05573779717087746, 0.0, 0.0, 0.0, 0.0, 0.0, 0.0, 0.0, 0.0, 0.0, 0.0, 0.0, 0.0, 0.0, 0.0, 0.0, 0.0, 0.0, 0.0, 0.0, 0.0, 0.0, 0.0, 0.0, 0.0, 0.0, 0.0, 0.0, 0.0, 0.0, 0.0, 0.0, 0.0], [0.21909849345684052, 0.0959283784031868, 0.15399755537509918, 0.5309755802154541, 0.0, 0.0, 0.0, 0.0, 0.0, 0.0, 0.0, 0.0, 0.0, 0.0, 0.0, 0.0, 0.0, 0.0, 0.0, 0.0, 0.0, 0.0, 0.0, 0.0, 0.0, 0.0, 0.0, 0.0, 0.0, 0.0, 0.0, 0.0, 0.0, 0.0, 0.0], [0.49329182505607605, 0.12421070784330368, 0.08378960937261581, 0.2104450762271881, 0.08826279640197754, 0.0, 0.0, 0.0, 0.0, 0.0, 0.0, 0.0, 0.0, 0.0, 0.0, 0.0, 0.0, 0.0, 0.0, 0.0, 0.0, 0.0, 0.0, 0.0, 0.0, 0.0, 0.0, 0.0, 0.0, 0.0, 0.0, 0.0, 0.0, 0.0, 0.0], [0.479253351688385, 0.11483931541442871, 0.05825284495949745, 0.12140916287899017, 0.19296902418136597, 0.0332762785255909, 0.0, 0.0, 0.0, 0.0, 0.0, 0.0, 0.0, 0.0, 0.0, 0.0, 0.0, 0.0, 0.0, 0.0, 0.0, 0.0, 0.0, 0.0, 0.0, 0.0, 0.0, 0.0, 0.0, 0.0, 0.0, 0.0, 0.0, 0.0, 0.0], [0.33760708570480347, 0.13038292527198792, 0.12365780770778656, 0.168483167886734, 0.0394856259226799, 0.15522713959217072, 0.045156143605709076, 0.0, 0.0, 0.0, 0.0, 0.0, 0.0, 0.0, 0.0, 0.0, 0.0, 0.0, 0.0, 0.0, 0.0, 0.0, 0.0, 0.0, 0.0, 0.0, 0.0, 0.0, 0.0, 0.0, 0.0, 0.0, 0.0, 0.0, 0.0], [0.3124313950538635, 0.10335515439510345, 0.07322125881910324, 0.13077446818351746, 0.08650775253772736, 0.20371736586093903, 0.04714135080575943, 0.042851295322179794, 0.0, 0.0, 0.0, 0.0, 0.0, 0.0, 0.0, 0.0, 0.0, 0.0, 0.0, 0.0, 0.0, 0.0, 0.0, 0.0, 0.0, 0.0, 0.0, 0.0, 0.0, 0.0, 0.0, 0.0, 0.0, 0.0, 0.0], [0.1071995422244072, 0.032564762979745865, 0.04615401849150658, 0.12522782385349274, 0.011105234734714031, 0.03433002531528473, 0.007858379743993282, 0.011366566643118858, 0.6241937279701233, 0.0, 0.0, 0.0, 0.0, 0.0, 0.0, 0.0, 0.0, 0.0, 0.0, 0.0, 0.0, 0.0, 0.0, 0.0, 0.0, 0.0, 0.0, 0.0, 0.0, 0.0, 0.0, 0.0, 0.0, 0.0, 0.0], [0.3028891086578369, 0.07804971933364868, 0.05937647446990013, 0.09426911175251007, 0.17377148568630219, 0.03861626237630844, 0.04802529886364937, 0.039512552320957184, 0.13237623870372772, 0.03311377763748169, 0.0, 0.0, 0.0, 0.0, 0.0, 0.0, 0.0, 0.0, 0.0, 0.0, 0.0, 0.0, 0.0, 0.0, 0.0, 0.0, 0.0, 0.0, 0.0, 0.0, 0.0, 0.0, 0.0, 0.0, 0.0], [0.13027667999267578, 0.042134929448366165, 0.07258214056491852, 0.10922871530056, 0.03630439564585686, 0.19112561643123627, 0.03369800001382828, 0.05715862661600113, 0.11187218874692917, 0.16414126753807068, 0.05147746205329895, 0.0, 0.0, 0.0, 0.0, 0.0, 0.0, 0.0, 0.0, 0.0, 0.0, 0.0, 0.0, 0.0, 0.0, 0.0, 0.0, 0.0, 0.0, 0.0, 0.0, 0.0, 0.0, 0.0, 0.0], [0.09464415162801743, 0.02925342135131359, 0.038119420409202576, 0.14989575743675232, 0.020670872181653976, 0.07631715387105942, 0.008947466500103474, 0.02004508301615715, 0.30578550696372986, 0.047520942986011505, 0.010440834797918797, 0.19835925102233887, 0.0, 0.0, 0.0, 0.0, 0.0, 0.0, 0.0, 0.0, 0.0, 0.0, 0.0, 0.0, 0.0, 0.0, 0.0, 0.0, 0.0, 0.0, 0.0, 0.0, 0.0, 0.0, 0.0], [0.1444079428911209, 0.06329524517059326, 0.07617761939764023, 0.07194559276103973, 0.03394108638167381, 0.08442066609859467, 0.03594023734331131, 0.07685539126396179, 0.1158827543258667, 0.05951954051852226, 0.06183501332998276, 0.14841708540916443, 0.027361810207366943, 0.0, 0.0, 0.0, 0.0, 0.0, 0.0, 0.0, 0.0, 0.0, 0.0, 0.0, 0.0, 0.0, 0.0, 0.0, 0.0, 0.0, 0.0, 0.0, 0.0, 0.0, 0.0], [0.0414787232875824, 0.011494407430291176, 0.017643535509705544, 0.045997269451618195, 0.0040850103832781315, 0.013701111078262329, 0.0028709012549370527, 0.00451077613979578, 0.24164839088916779, 0.009729515761137009, 0.002616736339405179, 0.2641771137714386, 0.008053780533373356, 0.3319928050041199, 0.0, 0.0, 0.0, 0.0, 0.0, 0.0, 0.0, 0.0, 0.0, 0.0, 0.0, 0.0, 0.0, 0.0, 0.0, 0.0, 0.0, 0.0, 0.0, 0.0, 0.0], [0.15155856311321259, 0.037725016474723816, 0.02733066864311695, 0.06052478030323982, 0.030143296346068382, 0.028034880757331848, 0.013341412879526615, 0.02250303141772747, 0.11653435230255127, 0.05189972370862961, 0.01055865827947855, 0.10229875147342682, 0.015167291276156902, 0.14137379825115204, 0.19100579619407654, 0.0, 0.0, 0.0, 0.0, 0.0, 0.0, 0.0, 0.0, 0.0, 0.0, 0.0, 0.0, 0.0, 0.0, 0.0, 0.0, 0.0, 0.0, 0.0, 0.0], [0.2839045822620392, 0.06502402573823929, 0.03238338232040405, 0.029591111466288567, 0.0424320362508297, 0.02846977673470974, 0.04153313487768173, 0.08465302735567093, 0.0438549779355526, 0.027530400082468987, 0.09218154102563858, 0.03751114383339882, 0.048919081687927246, 0.049849674105644226, 0.07913842797279358, 0.013023803010582924, 0.0, 0.0, 0.0, 0.0, 0.0, 0.0, 0.0, 0.0, 0.0, 0.0, 0.0, 0.0, 0.0, 0.0, 0.0, 0.0, 0.0, 0.0, 0.0], [0.04885758459568024, 0.014007368125021458, 0.019542623311281204, 0.07337553054094315, 0.010089147835969925, 0.039725709706544876, 0.00431005097925663, 0.010590329766273499, 0.1530359983444214, 0.026499038562178612, 0.0054172552190721035, 0.09647627919912338, 0.0128067247569561, 0.20478658378124237, 0.14743395149707794, 0.009689189493656158, 0.12335669249296188, 0.0, 0.0, 0.0, 0.0, 0.0, 0.0, 0.0, 0.0, 0.0, 0.0, 0.0, 0.0, 0.0, 0.0, 0.0, 0.0, 0.0, 0.0], [0.05943119525909424, 0.025951169431209564, 0.035473912954330444, 0.039079755544662476, 0.018049322068691254, 0.023087238892912865, 0.010503753088414669, 0.030069539323449135, 0.09918276965618134, 0.03614409640431404, 0.01841004006564617, 0.11741487681865692, 0.017167577520012856, 0.12769994139671326, 0.08459021896123886, 0.03790270909667015, 0.14577233791351318, 0.07406949996948242, 0.0, 0.0, 0.0, 0.0, 0.0, 0.0, 0.0, 0.0, 0.0, 0.0, 0.0, 0.0, 0.0, 0.0, 0.0, 0.0, 0.0], [0.2724890112876892, 0.045022718608379364, 0.04612240567803383, 0.042051974684000015, 0.03813564032316208, 0.05454425886273384, 0.025706542655825615, 0.01925414800643921, 0.04536456987261772, 0.05106879770755768, 0.021479347720742226, 0.05142940580844879, 0.03568309172987938, 0.05110248178243637, 0.04221019893884659, 0.038132812827825546, 0.057898253202438354, 0.023540087044239044, 0.03876426815986633, 0.0, 0.0, 0.0, 0.0, 0.0, 0.0, 0.0, 0.0, 0.0, 0.0, 0.0, 0.0, 0.0, 0.0, 0.0, 0.0], [0.2398124486207962, 0.03723882511258125, 0.046413224190473557, 0.018074775114655495, 0.028609462082386017, 0.03156360983848572, 0.023263659328222275, 0.05314117670059204, 0.036729831248521805, 0.044361572712659836, 0.014090003445744514, 0.04079654440283775, 0.013384049758315086, 0.040182746946811676, 0.02512497454881668, 0.022283190861344337, 0.044574372470378876, 0.026357252150774002, 0.018502112478017807, 0.1954960823059082, 0.0, 0.0, 0.0, 0.0, 0.0, 0.0, 0.0, 0.0, 0.0, 0.0, 0.0, 0.0, 0.0, 0.0, 0.0], [0.03447255492210388, 0.007049779407680035, 0.008516236208379269, 0.019823294132947922, 0.00200619432143867, 0.008738483302295208, 0.0013805311173200607, 0.002584984293207526, 0.129638671875, 0.004980519413948059, 0.0014542978024110198, 0.09793513268232346, 0.004242658149451017, 0.17474927008152008, 0.02057536132633686, 0.0029217288829386234, 0.12519218027591705, 0.017666742205619812, 0.008172448724508286, 0.006463974714279175, 0.32143497467041016, 0.0, 0.0, 0.0, 0.0, 0.0, 0.0, 0.0, 0.0, 0.0, 0.0, 0.0, 0.0, 0.0, 0.0], [0.07532122731208801, 0.017385121434926987, 0.026499604806303978, 0.03820114955306053, 0.013464296236634254, 0.017004912719130516, 0.005682715214788914, 0.008161389268934727, 0.08791027963161469, 0.015652012079954147, 0.004622379317879677, 0.06870012730360031, 0.017068399116396904, 0.11098409444093704, 0.08843359351158142, 0.015540480613708496, 0.08290655165910721, 0.03445708006620407, 0.034902896732091904, 0.022669032216072083, 0.16727584600448608, 0.04715690016746521, 0.0, 0.0, 0.0, 0.0, 0.0, 0.0, 0.0, 0.0, 0.0, 0.0, 0.0, 0.0, 0.0], [0.11039690673351288, 0.017618604004383087, 0.012073234654963017, 0.07903026789426804, 0.047071825712919235, 0.028393452987074852, 0.010853301733732224, 0.038982924073934555, 0.04254177212715149, 0.05313577502965927, 0.010616586543619633, 0.04066744074225426, 0.01657869480550289, 0.05044252797961235, 0.04148310795426369, 0.011694188229739666, 0.04894394427537918, 0.04587525501847267, 0.06803464144468307, 0.03145821765065193, 0.0737365111708641, 0.09332358092069626, 0.02704726904630661, 0.0, 0.0, 0.0, 0.0, 0.0, 0.0, 0.0, 0.0, 0.0, 0.0, 0.0, 0.0], [0.050105903297662735, 0.01140363235026598, 0.018980009481310844, 0.048291102051734924, 0.00547816650941968, 0.027938107028603554, 0.0034753400832414627, 0.009667657315731049, 0.08883959800004959, 0.0214597899466753, 0.009184255264699459, 0.06738955527544022, 0.006293781101703644, 0.11730514466762543, 0.05559388920664787, 0.023259563371539116, 0.08538828790187836, 0.030172357335686684, 0.018553776666522026, 0.04972720146179199, 0.1386994570493698, 0.03593090549111366, 0.029570570215582848, 0.04729195311665535, 0.0, 0.0, 0.0, 0.0, 0.0, 0.0, 0.0, 0.0, 0.0, 0.0, 0.0], [0.03365061804652214, 0.03973431885242462, 0.013943268917500973, 0.02215501107275486, 0.007374102249741554, 0.012534331530332565, 0.003937930800020695, 0.0055880313739180565, 0.052764154970645905, 0.01135347317904234, 0.0029761556070297956, 0.06122001260519028, 0.007114534731954336, 0.06609286367893219, 0.01845719665288925, 0.004707180894911289, 0.07780604809522629, 0.015934068709611893, 0.016269709914922714, 0.027332952246069908, 0.08945078402757645, 0.028283191844820976, 0.01342833787202835, 0.24125008285045624, 0.12664161622524261, 0.0, 0.0, 0.0, 0.0, 0.0, 0.0, 0.0, 0.0, 0.0, 0.0], [0.10162995755672455, 0.0481734499335289, 0.0227415282279253, 0.017647160217165947, 0.0163576602935791, 0.014718170277774334, 0.02023891545832157, 0.03009829670190811, 0.03836438059806824, 0.025297468528151512, 0.039593469351530075, 0.04179808497428894, 0.01849495805799961, 0.04345662519335747, 0.023876944556832314, 0.013411914929747581, 0.048047542572021484, 0.021995285525918007, 0.03074478730559349, 0.05168473720550537, 0.05786484107375145, 0.04216013476252556, 0.050390031188726425, 0.08024893701076508, 0.07608184963464737, 0.02488282509148121, 0.0, 0.0, 0.0, 0.0, 0.0, 0.0, 0.0, 0.0, 0.0], [0.06603521853685379, 0.020660124719142914, 0.02168169990181923, 0.03408763185143471, 0.015279398299753666, 0.01844198815524578, 0.010789580643177032, 0.05595836043357849, 0.03565485402941704, 0.02173885516822338, 0.025664953514933586, 0.03946555405855179, 0.01909186877310276, 0.04260497912764549, 0.04514036700129509, 0.012913588434457779, 0.047355785965919495, 0.025561857968568802, 0.03524414449930191, 0.0974637046456337, 0.05611313134431839, 0.035938456654548645, 0.032566994428634644, 0.04301987215876579, 0.046976763755083084, 0.0324612595140934, 0.062089040875434875, 0.0, 0.0, 0.0, 0.0, 0.0, 0.0, 0.0, 0.0], [0.10541094094514847, 0.0169731043279171, 0.020341020077466965, 0.03266653046011925, 0.021851159632205963, 0.03178992494940758, 0.005571207497268915, 0.02419450879096985, 0.01674046739935875, 0.016082551330327988, 0.013484912924468517, 0.02279036119580269, 0.02084490656852722, 0.019816404208540916, 0.00741200428456068, 0.013035072945058346, 0.026982465758919716, 0.01013225968927145, 0.01766769401729107, 0.297262579202652, 0.02345716394484043, 0.03235583379864693, 0.03224532678723335, 0.01998010277748108, 0.05017198622226715, 0.04827893525362015, 0.033088184893131256, 0.01937238872051239, 0.0, 0.0, 0.0, 0.0, 0.0, 0.0, 0.0], [0.11478213965892792, 0.028451882302761078, 0.030158108100295067, 0.029890721663832664, 0.015577700920403004, 0.04523628577589989, 0.008156671188771725, 0.04677766188979149, 0.02057458646595478, 0.018089188262820244, 0.016638457775115967, 0.024351507425308228, 0.014281023293733597, 0.02287057228386402, 0.02455846220254898, 0.021522248163819313, 0.027740146964788437, 0.012263164855539799, 0.01678968407213688, 0.030601777136325836, 0.033104460686445236, 0.04230615869164467, 0.050134170800447464, 0.039895690977573395, 0.02547146938741207, 0.03835655003786087, 0.14836570620536804, 0.040621936321258545, 0.012431958690285683, 0.0, 0.0, 0.0, 0.0, 0.0, 0.0], [0.010402965359389782, 0.003988310694694519, 0.00753655843436718, 0.023714076727628708, 0.0015746989520266652, 0.0045564970932900906, 0.0011461435351520777, 0.0020206542685627937, 0.08388333022594452, 0.0060935490764677525, 0.0012243662495166063, 0.08011975884437561, 0.003282929537817836, 0.1148514598608017, 0.02013854682445526, 0.00387402530759573, 0.1035565659403801, 0.01623990572988987, 0.006219523027539253, 0.011158788576722145, 0.12897227704524994, 0.016916092485189438, 0.008813062682747841, 0.028795938938856125, 0.060593489557504654, 0.0056185950525105, 0.016893547028303146, 0.008791644126176834, 0.017022375017404556, 0.20200031995773315, 0.0, 0.0, 0.0, 0.0, 0.0], [0.05472033470869064, 0.015954433009028435, 0.012098275125026703, 0.022833751514554024, 0.018985217437148094, 0.028783902525901794, 0.008076783269643784, 0.008372064679861069, 0.039564043283462524, 0.012315313331782818, 0.009588331915438175, 0.023571277037262917, 0.010643109679222107, 0.046638429164886475, 0.0145158926025033, 0.012394603341817856, 0.027597365900874138, 0.02169143222272396, 0.020180562511086464, 0.018239211291074753, 0.05496654659509659, 0.03711783513426781, 0.02424500696361065, 0.03499608114361763, 0.1494767814874649, 0.02901950664818287, 0.043276481330394745, 0.015866439789533615, 0.0451154001057148, 0.11428382992744446, 0.02487177588045597, 0.0, 0.0, 0.0, 0.0], [0.028266333043575287, 0.008342588320374489, 0.009693163447082043, 0.02400331199169159, 0.012406980618834496, 0.009731602855026722, 0.007254773285239935, 0.011378856375813484, 0.04525342956185341, 0.014661082997918129, 0.0047597987577319145, 0.032793059945106506, 0.009599772281944752, 0.05662674084305763, 0.02379572205245495, 0.00461410079151392, 0.03982147201895714, 0.021238988265395164, 0.02528655156493187, 0.10159800201654434, 0.09278309345245361, 0.026123858988285065, 0.015091418288648129, 0.03458564728498459, 0.061821918934583664, 0.013406997546553612, 0.016889767721295357, 0.03089352697134018, 0.028194859623908997, 0.1103137731552124, 0.040569551289081573, 0.03819921612739563, 0.0, 0.0, 0.0], [0.005920095834881067, 0.002644824329763651, 0.005754891317337751, 0.021997179836034775, 0.0013081278884783387, 0.005726536735892296, 0.0008704044157639146, 0.0018940422451123595, 0.052954982966184616, 0.00472501153126359, 0.0009999445173889399, 0.04342709854245186, 0.002174984198063612, 0.0736372247338295, 0.01701577752828598, 0.003086993470788002, 0.057790882885456085, 0.010734478943049908, 0.0034258230589330196, 0.01033270638436079, 0.08509064465761185, 0.012429158203303814, 0.0062302350997924805, 0.022221006453037262, 0.06411111354827881, 0.0050534834153950214, 0.018152374774217606, 0.007594150025397539, 0.0067864395678043365, 0.16716453433036804, 0.013871795497834682, 0.014755620621144772, 0.2501174509525299, 0.0, 0.0], [0.059587135910987854, 0.014287109486758709, 0.00968867726624012, 0.028474608436226845, 0.028604796156287193, 0.026259329169988632, 0.0088196424767375, 0.022136058658361435, 0.01791020855307579, 0.026397546753287315, 0.01724359393119812, 0.02598380856215954, 0.006316181272268295, 0.020043157041072845, 0.015440626069903374, 0.02594027668237686, 0.0301030445843935, 0.01836533658206463, 0.023130422458052635, 0.02621460147202015, 0.031157266348600388, 0.028986169025301933, 0.028961259871721268, 0.016435226425528526, 0.03480091691017151, 0.03794368356466293, 0.0738067477941513, 0.03077242523431778, 0.028517240658402443, 0.07387102395296097, 0.02458771876990795, 0.035234082490205765, 0.08090808987617493, 0.023072006180882454, 0.0], [0.052589885890483856, 0.0082823745906353, 0.0046865916810929775, 0.011556110344827175, 0.00212435913272202, 0.007376655004918575, 0.0025699108373373747, 0.005167303141206503, 0.06430476158857346, 0.008688678964972496, 0.004349819850176573, 0.054052047431468964, 0.003567329840734601, 0.08101722598075867, 0.021457038819789886, 0.004144071601331234, 0.0662156268954277, 0.01871691830456257, 0.009488231502473354, 0.0060385484248399734, 0.10274301469326019, 0.014565224759280682, 0.009106291458010674, 0.021657677367329597, 0.03524801880121231, 0.004852634854614735, 0.008422155864536762, 0.019589491188526154, 0.011885890737175941, 0.14464665949344635, 0.016607560217380524, 0.02283478155732155, 0.08476626873016357, 0.015126866288483143, 0.05155404657125473]], [[1.0, 0.0, 0.0, 0.0, 0.0, 0.0, 0.0, 0.0, 0.0, 0.0, 0.0, 0.0, 0.0, 0.0, 0.0, 0.0, 0.0, 0.0, 0.0, 0.0, 0.0, 0.0, 0.0, 0.0, 0.0, 0.0, 0.0, 0.0, 0.0, 0.0, 0.0, 0.0, 0.0, 0.0, 0.0], [0.8803902864456177, 0.11960969120264053, 0.0, 0.0, 0.0, 0.0, 0.0, 0.0, 0.0, 0.0, 0.0, 0.0, 0.0, 0.0, 0.0, 0.0, 0.0, 0.0, 0.0, 0.0, 0.0, 0.0, 0.0, 0.0, 0.0, 0.0, 0.0, 0.0, 0.0, 0.0, 0.0, 0.0, 0.0, 0.0, 0.0], [0.8001627922058105, 0.1442255973815918, 0.05561167001724243, 0.0, 0.0, 0.0, 0.0, 0.0, 0.0, 0.0, 0.0, 0.0, 0.0, 0.0, 0.0, 0.0, 0.0, 0.0, 0.0, 0.0, 0.0, 0.0, 0.0, 0.0, 0.0, 0.0, 0.0, 0.0, 0.0, 0.0, 0.0, 0.0, 0.0, 0.0, 0.0], [0.6471942067146301, 0.1470176875591278, 0.07931006699800491, 0.1264779418706894, 0.0, 0.0, 0.0, 0.0, 0.0, 0.0, 0.0, 0.0, 0.0, 0.0, 0.0, 0.0, 0.0, 0.0, 0.0, 0.0, 0.0, 0.0, 0.0, 0.0, 0.0, 0.0, 0.0, 0.0, 0.0, 0.0, 0.0, 0.0, 0.0, 0.0, 0.0], [0.6291002631187439, 0.13269932568073273, 0.0830739289522171, 0.10306607186794281, 0.05206046253442764, 0.0, 0.0, 0.0, 0.0, 0.0, 0.0, 0.0, 0.0, 0.0, 0.0, 0.0, 0.0, 0.0, 0.0, 0.0, 0.0, 0.0, 0.0, 0.0, 0.0, 0.0, 0.0, 0.0, 0.0, 0.0, 0.0, 0.0, 0.0, 0.0, 0.0], [0.5631013512611389, 0.12375931441783905, 0.11159725487232208, 0.10842739045619965, 0.08343345671892166, 0.00968118105083704, 0.0, 0.0, 0.0, 0.0, 0.0, 0.0, 0.0, 0.0, 0.0, 0.0, 0.0, 0.0, 0.0, 0.0, 0.0, 0.0, 0.0, 0.0, 0.0, 0.0, 0.0, 0.0, 0.0, 0.0, 0.0, 0.0, 0.0, 0.0, 0.0], [0.49733906984329224, 0.11400073021650314, 0.07851863652467728, 0.10408833622932434, 0.08229987323284149, 0.08720175176858902, 0.03655163571238518, 0.0, 0.0, 0.0, 0.0, 0.0, 0.0, 0.0, 0.0, 0.0, 0.0, 0.0, 0.0, 0.0, 0.0, 0.0, 0.0, 0.0, 0.0, 0.0, 0.0, 0.0, 0.0, 0.0, 0.0, 0.0, 0.0, 0.0, 0.0], [0.46186625957489014, 0.10720602422952652, 0.07680267095565796, 0.09525887668132782, 0.11179573088884354, 0.04683656245470047, 0.0632898285984993, 0.03694411739706993, 0.0, 0.0, 0.0, 0.0, 0.0, 0.0, 0.0, 0.0, 0.0, 0.0, 0.0, 0.0, 0.0, 0.0, 0.0, 0.0, 0.0, 0.0, 0.0, 0.0, 0.0, 0.0, 0.0, 0.0, 0.0, 0.0, 0.0], [0.408801794052124, 0.11223537474870682, 0.06194954738020897, 0.08138207346200943, 0.06888709217309952, 0.04759938269853592, 0.05779566988348961, 0.06300586462020874, 0.09834322333335876, 0.0, 0.0, 0.0, 0.0, 0.0, 0.0, 0.0, 0.0, 0.0, 0.0, 0.0, 0.0, 0.0, 0.0, 0.0, 0.0, 0.0, 0.0, 0.0, 0.0, 0.0, 0.0, 0.0, 0.0, 0.0, 0.0], [0.3377855718135834, 0.07768948376178741, 0.06164025142788887, 0.08030419796705246, 0.09243478626012802, 0.12569789588451385, 0.04310276731848717, 0.08006507903337479, 0.08753129839897156, 0.013748621568083763, 0.0, 0.0, 0.0, 0.0, 0.0, 0.0, 0.0, 0.0, 0.0, 0.0, 0.0, 0.0, 0.0, 0.0, 0.0, 0.0, 0.0, 0.0, 0.0, 0.0, 0.0, 0.0, 0.0, 0.0, 0.0], [0.4084458351135254, 0.07972611486911774, 0.05943279713392258, 0.07098966836929321, 0.06258385628461838, 0.0729871317744255, 0.05290912836790085, 0.06663116067647934, 0.08486582338809967, 0.030785243958234787, 0.01064338069409132, 0.0, 0.0, 0.0, 0.0, 0.0, 0.0, 0.0, 0.0, 0.0, 0.0, 0.0, 0.0, 0.0, 0.0, 0.0, 0.0, 0.0, 0.0, 0.0, 0.0, 0.0, 0.0, 0.0, 0.0], [0.3284088671207428, 0.08126053214073181, 0.05222120136022568, 0.0667019784450531, 0.06221221014857292, 0.04688326269388199, 0.047482267022132874, 0.04943711683154106, 0.0864436998963356, 0.05108509585261345, 0.04660412669181824, 0.08125964552164078, 0.0, 0.0, 0.0, 0.0, 0.0, 0.0, 0.0, 0.0, 0.0, 0.0, 0.0, 0.0, 0.0, 0.0, 0.0, 0.0, 0.0, 0.0, 0.0, 0.0, 0.0, 0.0, 0.0], [0.28456372022628784, 0.0733422115445137, 0.059566278010606766, 0.05995685234665871, 0.0626126304268837, 0.04492250457406044, 0.053548913449048996, 0.055395208299160004, 0.0760505199432373, 0.0543915219604969, 0.05521012842655182, 0.08481413871049881, 0.03562536835670471, 0.0, 0.0, 0.0, 0.0, 0.0, 0.0, 0.0, 0.0, 0.0, 0.0, 0.0, 0.0, 0.0, 0.0, 0.0, 0.0, 0.0, 0.0, 0.0, 0.0, 0.0, 0.0], [0.2986924946308136, 0.08053487539291382, 0.04630003124475479, 0.058416109532117844, 0.052452512085437775, 0.03589673712849617, 0.0431300513446331, 0.048164114356040955, 0.07179584354162216, 0.03588227555155754, 0.034986358135938644, 0.06638611853122711, 0.04749886691570282, 0.0798635333776474, 0.0, 0.0, 0.0, 0.0, 0.0, 0.0, 0.0, 0.0, 0.0, 0.0, 0.0, 0.0, 0.0, 0.0, 0.0, 0.0, 0.0, 0.0, 0.0, 0.0, 0.0], [0.26184865832328796, 0.06895221769809723, 0.04662094637751579, 0.05860459432005882, 0.04692878574132919, 0.05568011850118637, 0.04915207624435425, 0.04117779806256294, 0.074907585978508, 0.03198425844311714, 0.03257225826382637, 0.07257071882486343, 0.03739878535270691, 0.08542973548173904, 0.036171406507492065, 0.0, 0.0, 0.0, 0.0, 0.0, 0.0, 0.0, 0.0, 0.0, 0.0, 0.0, 0.0, 0.0, 0.0, 0.0, 0.0, 0.0, 0.0, 0.0, 0.0], [0.2941746413707733, 0.05360913649201393, 0.038608793169260025, 0.04952675849199295, 0.04060918465256691, 0.0414932444691658, 0.029716243967413902, 0.04536984860897064, 0.06024932861328125, 0.04159966856241226, 0.06637393683195114, 0.05982467904686928, 0.04050290957093239, 0.06734268367290497, 0.060957394540309906, 0.010041479952633381, 0.0, 0.0, 0.0, 0.0, 0.0, 0.0, 0.0, 0.0, 0.0, 0.0, 0.0, 0.0, 0.0, 0.0, 0.0, 0.0, 0.0, 0.0, 0.0], [0.24078045785427094, 0.057315003126859665, 0.03812981769442558, 0.047623757272958755, 0.04672614857554436, 0.03515474870800972, 0.034621816128492355, 0.0374724380671978, 0.062347810715436935, 0.0395454578101635, 0.035744328051805496, 0.05874497443437576, 0.03407842293381691, 0.07071566581726074, 0.054391175508499146, 0.039451491087675095, 0.06715650856494904, 0.0, 0.0, 0.0, 0.0, 0.0, 0.0, 0.0, 0.0, 0.0, 0.0, 0.0, 0.0, 0.0, 0.0, 0.0, 0.0, 0.0, 0.0], [0.19008119404315948, 0.05546911805868149, 0.03824988380074501, 0.044684723019599915, 0.043491896241903305, 0.037291355431079865, 0.035000305622816086, 0.03413337469100952, 0.05614840239286423, 0.029018180444836617, 0.0264786034822464, 0.06265046447515488, 0.035022005438804626, 0.06568853557109833, 0.057141974568367004, 0.047816332429647446, 0.07356445491313934, 0.06806915253400803, 0.0, 0.0, 0.0, 0.0, 0.0, 0.0, 0.0, 0.0, 0.0, 0.0, 0.0, 0.0, 0.0, 0.0, 0.0, 0.0, 0.0], [0.23406481742858887, 0.047656767070293427, 0.03626639395952225, 0.04350154101848602, 0.04482331499457359, 0.030926160514354706, 0.024145539849996567, 0.03047104924917221, 0.051002662628889084, 0.03852144256234169, 0.04128360003232956, 0.05289098247885704, 0.027892807498574257, 0.0573887899518013, 0.06067003309726715, 0.04387103393673897, 0.05933021008968353, 0.05117018520832062, 0.024122724309563637, 0.0, 0.0, 0.0, 0.0, 0.0, 0.0, 0.0, 0.0, 0.0, 0.0, 0.0, 0.0, 0.0, 0.0, 0.0, 0.0], [0.3121168911457062, 0.04305696487426758, 0.030739204958081245, 0.0399012416601181, 0.04073915258049965, 0.033973559737205505, 0.013991210609674454, 0.0325016975402832, 0.04214293509721756, 0.03136739134788513, 0.05722324550151825, 0.0420997329056263, 0.032853297889232635, 0.04662720113992691, 0.048747774213552475, 0.02173059806227684, 0.047223784029483795, 0.029857579618692398, 0.04530390352010727, 0.007802661508321762, 0.0, 0.0, 0.0, 0.0, 0.0, 0.0, 0.0, 0.0, 0.0, 0.0, 0.0, 0.0, 0.0, 0.0, 0.0], [0.1958305388689041, 0.05227471888065338, 0.03251207619905472, 0.03705889731645584, 0.04335429146885872, 0.02764130011200905, 0.02745206654071808, 0.033081553876399994, 0.04532438889145851, 0.02540675923228264, 0.02478163130581379, 0.03888050094246864, 0.03024730272591114, 0.050895120948553085, 0.04128778353333473, 0.03749212250113487, 0.04425322636961937, 0.04428720474243164, 0.04519396275281906, 0.05072396248579025, 0.07202054560184479, 0.0, 0.0, 0.0, 0.0, 0.0, 0.0, 0.0, 0.0, 0.0, 0.0, 0.0, 0.0, 0.0, 0.0], [0.1607999950647354, 0.04841070994734764, 0.0330209955573082, 0.0344170518219471, 0.03531978279352188, 0.02389702759683132, 0.026063479483127594, 0.028639735653996468, 0.04453876242041588, 0.024949481710791588, 0.02971617691218853, 0.04013001173734665, 0.02485906332731247, 0.05134394392371178, 0.0537354052066803, 0.04527629539370537, 0.046805959194898605, 0.034605972468853, 0.04245501756668091, 0.05485451966524124, 0.06976334750652313, 0.04639732092618942, 0.0, 0.0, 0.0, 0.0, 0.0, 0.0, 0.0, 0.0, 0.0, 0.0, 0.0, 0.0, 0.0], [0.18932506442070007, 0.03910360857844353, 0.024852031841874123, 0.03345051035284996, 0.0386015884578228, 0.02410929463803768, 0.020502105355262756, 0.024301746860146523, 0.03976472094655037, 0.03418167307972908, 0.03484787419438362, 0.03619781509041786, 0.023668944835662842, 0.0450248159468174, 0.03498944267630577, 0.026825519278645515, 0.04153793677687645, 0.03736661374568939, 0.04202279448509216, 0.05591041222214699, 0.06404420733451843, 0.05618634074926376, 0.03318499028682709, 0.0, 0.0, 0.0, 0.0, 0.0, 0.0, 0.0, 0.0, 0.0, 0.0, 0.0, 0.0], [0.16596607863903046, 0.03388110175728798, 0.02065752074122429, 0.03212727978825569, 0.03747253492474556, 0.026519475504755974, 0.01988290250301361, 0.025609642267227173, 0.04091744124889374, 0.02261033095419407, 0.019720884039998055, 0.03376534581184387, 0.023503810167312622, 0.046445246785879135, 0.035414308309555054, 0.02736842632293701, 0.03876943141222, 0.031460732221603394, 0.04639927297830582, 0.04867471009492874, 0.06382153183221817, 0.06529751420021057, 0.046299051493406296, 0.047415394335985184, 0.0, 0.0, 0.0, 0.0, 0.0, 0.0, 0.0, 0.0, 0.0, 0.0, 0.0], [0.15514099597930908, 0.036314792931079865, 0.022236905992031097, 0.028097422793507576, 0.04015664383769035, 0.024055976420640945, 0.01740090921521187, 0.021498557180166245, 0.03675065562129021, 0.017986752092838287, 0.019703922793269157, 0.02832779660820961, 0.02260461077094078, 0.04168051481246948, 0.030497953295707703, 0.025585582479834557, 0.03248761221766472, 0.027014948427677155, 0.04112284258008003, 0.04738448187708855, 0.0638233870267868, 0.056550100445747375, 0.041199978440999985, 0.06263260543346405, 0.059744078665971756, 0.0, 0.0, 0.0, 0.0, 0.0, 0.0, 0.0, 0.0, 0.0, 0.0], [0.12975941598415375, 0.027339689433574677, 0.02995753474533558, 0.02270285040140152, 0.037815339863300323, 0.03144634887576103, 0.017136771231889725, 0.04656493663787842, 0.03061831369996071, 0.018781675025820732, 0.025273211300373077, 0.028721975162625313, 0.019090933725237846, 0.034810006618499756, 0.02617023140192032, 0.02681773342192173, 0.032960399985313416, 0.024960242211818695, 0.054747600108385086, 0.0578010194003582, 0.05617624521255493, 0.03305983915925026, 0.057674240320920944, 0.0466742105782032, 0.06228698790073395, 0.020652364939451218, 0.0, 0.0, 0.0, 0.0, 0.0, 0.0, 0.0, 0.0, 0.0], [0.18126995861530304, 0.027924932539463043, 0.028055919334292412, 0.029457418248057365, 0.028532754629850388, 0.020307764410972595, 0.019550152122974396, 0.03153108060359955, 0.029232840985059738, 0.021110545843839645, 0.014580844901502132, 0.022505322471261024, 0.016256749629974365, 0.031508851796388626, 0.024519700556993484, 0.03659053519368172, 0.025034507736563683, 0.020030660554766655, 0.04726614058017731, 0.12142346054315567, 0.0418962687253952, 0.03646092116832733, 0.03734692931175232, 0.03705747798085213, 0.035210929811000824, 0.024784492328763008, 0.010552847757935524, 0.0, 0.0, 0.0, 0.0, 0.0, 0.0, 0.0, 0.0], [0.1419323980808258, 0.026873400434851646, 0.023394420742988586, 0.024198895320296288, 0.03441091999411583, 0.031768206506967545, 0.014282823540270329, 0.027884989976882935, 0.027823274955153465, 0.02026795595884323, 0.020075349137187004, 0.026035411283373833, 0.015271048992872238, 0.031183555722236633, 0.02134445309638977, 0.030780872330069542, 0.029686488211154938, 0.024966169148683548, 0.03290623426437378, 0.0812656506896019, 0.04738020896911621, 0.0395050123333931, 0.03810605779290199, 0.03920024633407593, 0.047230418771505356, 0.032237764447927475, 0.04768495261669159, 0.02230280078947544, 0.0, 0.0, 0.0, 0.0, 0.0, 0.0, 0.0], [0.1936107575893402, 0.028910450637340546, 0.01741074025630951, 0.024991964921355247, 0.02041228674352169, 0.03692350909113884, 0.018564045429229736, 0.02249111235141754, 0.026469895616173744, 0.01985173113644123, 0.016706908121705055, 0.020129596814513206, 0.01730293221771717, 0.02887752093374729, 0.019370291382074356, 0.02151290513575077, 0.02260466106235981, 0.019465504214167595, 0.03218546137213707, 0.09415600448846817, 0.03964083641767502, 0.046928729861974716, 0.03296547010540962, 0.034327466040849686, 0.035498879849910736, 0.04152422770857811, 0.03800845891237259, 0.024193769320845604, 0.00496391486376524, 0.0, 0.0, 0.0, 0.0, 0.0, 0.0], [0.13062261044979095, 0.029238125309348106, 0.020562490448355675, 0.024924928322434425, 0.026433376595377922, 0.020880043506622314, 0.01689508929848671, 0.020366210490465164, 0.030794672667980194, 0.016811517998576164, 0.014352652244269848, 0.026399681344628334, 0.01796814426779747, 0.03419142961502075, 0.025793632492423058, 0.02088005840778351, 0.029983339831233025, 0.0225768331438303, 0.031984005123376846, 0.0387752465903759, 0.04729927331209183, 0.039518099278211594, 0.035695526748895645, 0.04647781699895859, 0.045603714883327484, 0.027694009244441986, 0.0283762626349926, 0.029506973922252655, 0.033888138830661774, 0.06550601869821548, 0.0, 0.0, 0.0, 0.0, 0.0], [0.10399015247821808, 0.02196613699197769, 0.016451170668005943, 0.022787991911172867, 0.02435714565217495, 0.01997542381286621, 0.013678604736924171, 0.020524611696600914, 0.02641664445400238, 0.01582498662173748, 0.018124759197235107, 0.022938068956136703, 0.015249828808009624, 0.02995176613330841, 0.019568651914596558, 0.017790067940950394, 0.026331381872296333, 0.020062360912561417, 0.03040565736591816, 0.05837803706526756, 0.04746948182582855, 0.03560006991028786, 0.033618565648794174, 0.039051614701747894, 0.046234603971242905, 0.03415835276246071, 0.05063628777861595, 0.03304954245686531, 0.04132761061191559, 0.06007474660873413, 0.034005604684352875, 0.0, 0.0, 0.0, 0.0], [0.10689455270767212, 0.023425208404660225, 0.018311122432351112, 0.02227620966732502, 0.019986258819699287, 0.018345670774579048, 0.01589350774884224, 0.0198027566075325, 0.025829361751675606, 0.0160794910043478, 0.016656849533319473, 0.02581821195781231, 0.012892836704850197, 0.029111456125974655, 0.020739194005727768, 0.017621511593461037, 0.029654452577233315, 0.024281146004796028, 0.028045885264873505, 0.052053943276405334, 0.04263104870915413, 0.03251812234520912, 0.037380319088697433, 0.038434356451034546, 0.03982121869921684, 0.02629011496901512, 0.0352063812315464, 0.03138629347085953, 0.032823435962200165, 0.06194703280925751, 0.03762543573975563, 0.04021657630801201, 0.0, 0.0, 0.0], [0.1222902461886406, 0.02516898512840271, 0.01671406999230385, 0.022033262997865677, 0.023000743240118027, 0.015408718958497047, 0.014958010986447334, 0.018676770851016045, 0.026191165670752525, 0.012370303273200989, 0.01071577612310648, 0.021631909534335136, 0.013984632678329945, 0.02889922820031643, 0.023200996220111847, 0.01821659691631794, 0.02428124099969864, 0.018235312774777412, 0.021653978154063225, 0.03633743152022362, 0.03855650871992111, 0.03691945970058441, 0.033792268484830856, 0.042588260024785995, 0.03839157149195671, 0.02329576015472412, 0.030805250629782677, 0.024493306875228882, 0.03010578453540802, 0.05652609467506409, 0.03756684437394142, 0.04159916564822197, 0.051390375941991806, 0.0, 0.0], [0.13871711492538452, 0.02196723036468029, 0.01668298803269863, 0.021551381796598434, 0.026049228385090828, 0.015379131771624088, 0.012522310018539429, 0.02002521976828575, 0.021879851818084717, 0.014553075656294823, 0.015628254041075706, 0.018288591876626015, 0.0124217439442873, 0.023633427917957306, 0.017220688983798027, 0.020091669633984566, 0.02015187218785286, 0.018530184403061867, 0.02421250194311142, 0.07234078645706177, 0.03423938527703285, 0.030147042125463486, 0.031458817422389984, 0.030202969908714294, 0.030948735773563385, 0.024833209812641144, 0.030743272975087166, 0.022636571899056435, 0.04456690326333046, 0.04173138737678528, 0.028924651443958282, 0.029865309596061707, 0.04288145527243614, 0.024973047897219658, 0.0], [0.12327976524829865, 0.026707442477345467, 0.01483471505343914, 0.018021516501903534, 0.017764994874596596, 0.013351651839911938, 0.014073795638978481, 0.01872303895652294, 0.023980092257261276, 0.021256309002637863, 0.017004823312163353, 0.020616674795746803, 0.012905529700219631, 0.02609744854271412, 0.02155427262187004, 0.015845773741602898, 0.02278093993663788, 0.023595383390784264, 0.019861752167344093, 0.021922387182712555, 0.03597114235162735, 0.03369682654738426, 0.02117166854441166, 0.035360533744096756, 0.03450926020741463, 0.021897651255130768, 0.03512424975633621, 0.02411290444433689, 0.03299051895737648, 0.046776361763477325, 0.030424457043409348, 0.03270316496491432, 0.03790726885199547, 0.042624954134225845, 0.040550798177719116]], [[1.0, 0.0, 0.0, 0.0, 0.0, 0.0, 0.0, 0.0, 0.0, 0.0, 0.0, 0.0, 0.0, 0.0, 0.0, 0.0, 0.0, 0.0, 0.0, 0.0, 0.0, 0.0, 0.0, 0.0, 0.0, 0.0, 0.0, 0.0, 0.0, 0.0, 0.0, 0.0, 0.0, 0.0, 0.0], [0.6533872485160828, 0.3466127812862396, 0.0, 0.0, 0.0, 0.0, 0.0, 0.0, 0.0, 0.0, 0.0, 0.0, 0.0, 0.0, 0.0, 0.0, 0.0, 0.0, 0.0, 0.0, 0.0, 0.0, 0.0, 0.0, 0.0, 0.0, 0.0, 0.0, 0.0, 0.0, 0.0, 0.0, 0.0, 0.0, 0.0], [0.4451116919517517, 0.3337683379650116, 0.2211199402809143, 0.0, 0.0, 0.0, 0.0, 0.0, 0.0, 0.0, 0.0, 0.0, 0.0, 0.0, 0.0, 0.0, 0.0, 0.0, 0.0, 0.0, 0.0, 0.0, 0.0, 0.0, 0.0, 0.0, 0.0, 0.0, 0.0, 0.0, 0.0, 0.0, 0.0, 0.0, 0.0], [0.5459807515144348, 0.15291084349155426, 0.07645456492900848, 0.22465379536151886, 0.0, 0.0, 0.0, 0.0, 0.0, 0.0, 0.0, 0.0, 0.0, 0.0, 0.0, 0.0, 0.0, 0.0, 0.0, 0.0, 0.0, 0.0, 0.0, 0.0, 0.0, 0.0, 0.0, 0.0, 0.0, 0.0, 0.0, 0.0, 0.0, 0.0, 0.0], [0.42720288038253784, 0.1412525624036789, 0.06143972650170326, 0.11979992687702179, 0.2503049373626709, 0.0, 0.0, 0.0, 0.0, 0.0, 0.0, 0.0, 0.0, 0.0, 0.0, 0.0, 0.0, 0.0, 0.0, 0.0, 0.0, 0.0, 0.0, 0.0, 0.0, 0.0, 0.0, 0.0, 0.0, 0.0, 0.0, 0.0, 0.0, 0.0, 0.0], [0.4097929298877716, 0.11732906848192215, 0.06548823416233063, 0.12367463111877441, 0.04222371056675911, 0.24149145185947418, 0.0, 0.0, 0.0, 0.0, 0.0, 0.0, 0.0, 0.0, 0.0, 0.0, 0.0, 0.0, 0.0, 0.0, 0.0, 0.0, 0.0, 0.0, 0.0, 0.0, 0.0, 0.0, 0.0, 0.0, 0.0, 0.0, 0.0, 0.0, 0.0], [0.36435145139694214, 0.15547122061252594, 0.08527877181768417, 0.08832608163356781, 0.04993733763694763, 0.03409624099731445, 0.22253885865211487, 0.0, 0.0, 0.0, 0.0, 0.0, 0.0, 0.0, 0.0, 0.0, 0.0, 0.0, 0.0, 0.0, 0.0, 0.0, 0.0, 0.0, 0.0, 0.0, 0.0, 0.0, 0.0, 0.0, 0.0, 0.0, 0.0, 0.0, 0.0], [0.35626861453056335, 0.09063341468572617, 0.05006815120577812, 0.10755757242441177, 0.06895481050014496, 0.04669608548283577, 0.04097529500722885, 0.2388460487127304, 0.0, 0.0, 0.0, 0.0, 0.0, 0.0, 0.0, 0.0, 0.0, 0.0, 0.0, 0.0, 0.0, 0.0, 0.0, 0.0, 0.0, 0.0, 0.0, 0.0, 0.0, 0.0, 0.0, 0.0, 0.0, 0.0, 0.0], [0.34613892436027527, 0.1456225961446762, 0.09470637142658234, 0.104996457695961, 0.06400176137685776, 0.040472399443387985, 0.037579212337732315, 0.044482167810201645, 0.12200024724006653, 0.0, 0.0, 0.0, 0.0, 0.0, 0.0, 0.0, 0.0, 0.0, 0.0, 0.0, 0.0, 0.0, 0.0, 0.0, 0.0, 0.0, 0.0, 0.0, 0.0, 0.0, 0.0, 0.0, 0.0, 0.0, 0.0], [0.20510223507881165, 0.04824315384030342, 0.05157081037759781, 0.09953965991735458, 0.06673120707273483, 0.04558688402175903, 0.03648390993475914, 0.08169858902692795, 0.08583585917949677, 0.27920758724212646, 0.0, 0.0, 0.0, 0.0, 0.0, 0.0, 0.0, 0.0, 0.0, 0.0, 0.0, 0.0, 0.0, 0.0, 0.0, 0.0, 0.0, 0.0, 0.0, 0.0, 0.0, 0.0, 0.0, 0.0, 0.0], [0.23016957938671112, 0.07576318085193634, 0.062430281192064285, 0.061968352645635605, 0.05024825036525726, 0.037962619215250015, 0.057705141603946686, 0.05617324262857437, 0.06585753709077835, 0.041665591299533844, 0.26005616784095764, 0.0, 0.0, 0.0, 0.0, 0.0, 0.0, 0.0, 0.0, 0.0, 0.0, 0.0, 0.0, 0.0, 0.0, 0.0, 0.0, 0.0, 0.0, 0.0, 0.0, 0.0, 0.0, 0.0, 0.0], [0.2668822705745697, 0.09969270974397659, 0.06880498677492142, 0.10110108554363251, 0.036257702857255936, 0.04876029118895531, 0.0317954383790493, 0.03426745906472206, 0.09192278981208801, 0.044060155749320984, 0.024279996752738953, 0.152175173163414, 0.0, 0.0, 0.0, 0.0, 0.0, 0.0, 0.0, 0.0, 0.0, 0.0, 0.0, 0.0, 0.0, 0.0, 0.0, 0.0, 0.0, 0.0, 0.0, 0.0, 0.0, 0.0, 0.0], [0.24808605015277863, 0.05943756550550461, 0.03645308315753937, 0.09643884748220444, 0.04665256664156914, 0.043580617755651474, 0.02640966698527336, 0.038718488067388535, 0.06937101483345032, 0.035532161593437195, 0.02358422614634037, 0.058249205350875854, 0.21748660504817963, 0.0, 0.0, 0.0, 0.0, 0.0, 0.0, 0.0, 0.0, 0.0, 0.0, 0.0, 0.0, 0.0, 0.0, 0.0, 0.0, 0.0, 0.0, 0.0, 0.0, 0.0, 0.0], [0.22227585315704346, 0.08784298598766327, 0.06428327411413193, 0.07245950400829315, 0.05153008550405502, 0.03354166820645332, 0.03151150420308113, 0.04395980015397072, 0.10531803220510483, 0.03629285469651222, 0.03349635750055313, 0.07923726737499237, 0.03496608883142471, 0.10328466445207596, 0.0, 0.0, 0.0, 0.0, 0.0, 0.0, 0.0, 0.0, 0.0, 0.0, 0.0, 0.0, 0.0, 0.0, 0.0, 0.0, 0.0, 0.0, 0.0, 0.0, 0.0], [0.2625541687011719, 0.0745101347565651, 0.049621887505054474, 0.06513950973749161, 0.02218240313231945, 0.03923412039875984, 0.02143390104174614, 0.02829248085618019, 0.06496229767799377, 0.022169625386595726, 0.018070971593260765, 0.05796552449464798, 0.018188009038567543, 0.06176503002643585, 0.19390980899333954, 0.0, 0.0, 0.0, 0.0, 0.0, 0.0, 0.0, 0.0, 0.0, 0.0, 0.0, 0.0, 0.0, 0.0, 0.0, 0.0, 0.0, 0.0, 0.0, 0.0], [0.21454617381095886, 0.05207953229546547, 0.04338602349162102, 0.05108674243092537, 0.023057056590914726, 0.03987297788262367, 0.021457543596625328, 0.043103158473968506, 0.057124003767967224, 0.047324102371931076, 0.02007635310292244, 0.04863850027322769, 0.03173767402768135, 0.05389070510864258, 0.03922811895608902, 0.21339136362075806, 0.0, 0.0, 0.0, 0.0, 0.0, 0.0, 0.0, 0.0, 0.0, 0.0, 0.0, 0.0, 0.0, 0.0, 0.0, 0.0, 0.0, 0.0, 0.0], [0.1693464070558548, 0.0575847327709198, 0.043182313442230225, 0.06501620262861252, 0.025769710540771484, 0.03584060072898865, 0.023403935134410858, 0.028633086010813713, 0.06884392350912094, 0.03735612705349922, 0.021079329773783684, 0.1226552426815033, 0.02518489956855774, 0.07096558809280396, 0.04923553764820099, 0.028457915410399437, 0.12744441628456116, 0.0, 0.0, 0.0, 0.0, 0.0, 0.0, 0.0, 0.0, 0.0, 0.0, 0.0, 0.0, 0.0, 0.0, 0.0, 0.0, 0.0, 0.0], [0.1294490247964859, 0.043515175580978394, 0.02870734967291355, 0.045572541654109955, 0.021282192319631577, 0.019885342568159103, 0.028857694938778877, 0.034781113266944885, 0.055325932800769806, 0.030885059386491776, 0.02108755148947239, 0.06504065543413162, 0.04043160006403923, 0.057976022362709045, 0.041369806975126266, 0.02854405716061592, 0.06784921884536743, 0.23943962156772614, 0.0, 0.0, 0.0, 0.0, 0.0, 0.0, 0.0, 0.0, 0.0, 0.0, 0.0, 0.0, 0.0, 0.0, 0.0, 0.0, 0.0], [0.14163607358932495, 0.035789649933576584, 0.028365224599838257, 0.04538755863904953, 0.04637838527560234, 0.03978871554136276, 0.014343785122036934, 0.04959797114133835, 0.04732619225978851, 0.030782436951994896, 0.018412157893180847, 0.04871036112308502, 0.02340162917971611, 0.047455620020627975, 0.03751208260655403, 0.023782696574926376, 0.04894062876701355, 0.03379066661000252, 0.2385980635881424, 0.0, 0.0, 0.0, 0.0, 0.0, 0.0, 0.0, 0.0, 0.0, 0.0, 0.0, 0.0, 0.0, 0.0, 0.0, 0.0], [0.1335032433271408, 0.03222054988145828, 0.02058890275657177, 0.03780217468738556, 0.04108010604977608, 0.03671093285083771, 0.02595440484583378, 0.04136637970805168, 0.043265700340270996, 0.030096469447016716, 0.026812905445694923, 0.04010694473981857, 0.024385906755924225, 0.04430920630693436, 0.0337374247610569, 0.02071092277765274, 0.04079744592308998, 0.032650161534547806, 0.03506242111325264, 0.2588377892971039, 0.0, 0.0, 0.0, 0.0, 0.0, 0.0, 0.0, 0.0, 0.0, 0.0, 0.0, 0.0, 0.0, 0.0, 0.0], [0.11974351108074188, 0.03914881497621536, 0.02895655855536461, 0.03342708200216293, 0.037695929408073425, 0.02054390124976635, 0.01755896583199501, 0.032658420503139496, 0.06372418254613876, 0.033101923763751984, 0.02986793778836727, 0.05386917665600777, 0.022512976080179214, 0.07236674427986145, 0.041434258222579956, 0.03790142387151718, 0.06002623587846756, 0.045860204845666885, 0.050910960882902145, 0.03195588290691376, 0.1267348825931549, 0.0, 0.0, 0.0, 0.0, 0.0, 0.0, 0.0, 0.0, 0.0, 0.0, 0.0, 0.0, 0.0, 0.0], [0.11878621578216553, 0.039572034031152725, 0.02322298474609852, 0.05364081263542175, 0.03261678293347359, 0.01737094484269619, 0.011663910001516342, 0.016273826360702515, 0.050143029540777206, 0.013260262086987495, 0.010486905463039875, 0.03813209757208824, 0.04193669930100441, 0.05336223915219307, 0.030979985371232033, 0.019617728888988495, 0.040241558104753494, 0.03244159743189812, 0.020540129393339157, 0.026845509186387062, 0.05771109089255333, 0.2511536777019501, 0.0, 0.0, 0.0, 0.0, 0.0, 0.0, 0.0, 0.0, 0.0, 0.0, 0.0, 0.0, 0.0], [0.10596504807472229, 0.03639821708202362, 0.02373066358268261, 0.02770346589386463, 0.029520327225327492, 0.016958514228463173, 0.009277226403355598, 0.019281184300780296, 0.043534498661756516, 0.02543571963906288, 0.01544105727225542, 0.0416172631084919, 0.018472323194146156, 0.04617342725396156, 0.026975227519869804, 0.016877293586730957, 0.0436592735350132, 0.020190222188830376, 0.01864578202366829, 0.01635969616472721, 0.05703481659293175, 0.06433956325054169, 0.27640920877456665, 0.0, 0.0, 0.0, 0.0, 0.0, 0.0, 0.0, 0.0, 0.0, 0.0, 0.0, 0.0], [0.08669394999742508, 0.14005149900913239, 0.05404341220855713, 0.026910442858934402, 0.026933511719107628, 0.01693662442266941, 0.017527248710393906, 0.011132636107504368, 0.03316717594861984, 0.009116586297750473, 0.014021702110767365, 0.028125273063778877, 0.012107606045901775, 0.036274366080760956, 0.030991649255156517, 0.015099079348146915, 0.030221467837691307, 0.020815476775169373, 0.018955035135149956, 0.021182600408792496, 0.043649882078170776, 0.043773479759693146, 0.025040633976459503, 0.23722878098487854, 0.0, 0.0, 0.0, 0.0, 0.0, 0.0, 0.0, 0.0, 0.0, 0.0, 0.0], [0.10505463182926178, 0.024722838774323463, 0.02343858778476715, 0.02425646223127842, 0.021477699279785156, 0.014111106283962727, 0.012018012814223766, 0.015707308426499367, 0.042195845395326614, 0.016803370788693428, 0.011159364134073257, 0.03127181529998779, 0.020320698618888855, 0.04702334851026535, 0.039886802434921265, 0.02585337497293949, 0.034509602934122086, 0.02452259697020054, 0.017594218254089355, 0.021597163751721382, 0.06303168833255768, 0.05036986619234085, 0.02654913067817688, 0.040915295481681824, 0.24560922384262085, 0.0, 0.0, 0.0, 0.0, 0.0, 0.0, 0.0, 0.0, 0.0, 0.0], [0.07146887481212616, 0.015683094039559364, 0.019199568778276443, 0.02765510603785515, 0.02588873729109764, 0.011495734564960003, 0.013834547251462936, 0.0250062495470047, 0.03285751864314079, 0.040690429508686066, 0.01940706931054592, 0.03628277778625488, 0.02667134627699852, 0.03698844462633133, 0.02539134956896305, 0.012203284539282322, 0.040816258639097214, 0.022441422566771507, 0.018680064007639885, 0.037140700966119766, 0.052913516759872437, 0.03374898061156273, 0.03600706532597542, 0.02739606238901615, 0.04157792031764984, 0.24855397641658783, 0.0, 0.0, 0.0, 0.0, 0.0, 0.0, 0.0, 0.0, 0.0], [0.09520065039396286, 0.02339908666908741, 0.01624995470046997, 0.03728703036904335, 0.027069471776485443, 0.02442619577050209, 0.016916709020733833, 0.02051924355328083, 0.03561446815729141, 0.017246786504983902, 0.016965176910161972, 0.03067062795162201, 0.014761792495846748, 0.03783895820379257, 0.025590211153030396, 0.01328154094517231, 0.03275727853178978, 0.016981476917862892, 0.012912828475236893, 0.04096675291657448, 0.04452373459935188, 0.03288853541016579, 0.021861998364329338, 0.028905067592859268, 0.025222202762961388, 0.015681946650147438, 0.2742602527141571, 0.0, 0.0, 0.0, 0.0, 0.0, 0.0, 0.0, 0.0], [0.07106206566095352, 0.022234488278627396, 0.015442520380020142, 0.02880682982504368, 0.02491171285510063, 0.01409667544066906, 0.010925302281975746, 0.022356446832418442, 0.02825102210044861, 0.025925250723958015, 0.012314545921981335, 0.03621361032128334, 0.017662763595581055, 0.03140704706311226, 0.018595034256577492, 0.0181714054197073, 0.040066659450531006, 0.02272828295826912, 0.025000527501106262, 0.04014963284134865, 0.04249803349375725, 0.02628159709274769, 0.02363489754498005, 0.03034823015332222, 0.028446590527892113, 0.04931708052754402, 0.045332688838243484, 0.22781896591186523, 0.0, 0.0, 0.0, 0.0, 0.0, 0.0, 0.0], [0.1199868768453598, 0.03201312944293022, 0.020363762974739075, 0.03192231431603432, 0.020111484453082085, 0.017741892486810684, 0.014963152818381786, 0.014099689200520515, 0.0323602668941021, 0.012826556339859962, 0.01920422539114952, 0.024741895496845245, 0.014775943011045456, 0.03365084156394005, 0.03285076841711998, 0.01563302055001259, 0.02633098140358925, 0.009946919046342373, 0.010015268810093403, 0.023254677653312683, 0.03898428753018379, 0.034919414669275284, 0.011989147402346134, 0.03053087368607521, 0.02381373755633831, 0.018979014828801155, 0.06846079975366592, 0.019141538068652153, 0.22638750076293945, 0.0, 0.0, 0.0, 0.0, 0.0, 0.0], [0.0711139664053917, 0.023045003414154053, 0.01740783452987671, 0.025577735155820847, 0.018817277625203133, 0.014406668022274971, 0.01136450283229351, 0.019742920994758606, 0.037803780287504196, 0.017498360946774483, 0.012214536778628826, 0.034711796790361404, 0.01624510996043682, 0.04494825005531311, 0.031461041420698166, 0.017976267263293266, 0.04077499732375145, 0.026232009753584862, 0.02910453826189041, 0.03286315128207207, 0.06312327086925507, 0.0399673767387867, 0.03193743899464607, 0.05005759745836258, 0.050039853900671005, 0.026298468932509422, 0.04067574813961983, 0.03425348922610283, 0.03361441567540169, 0.0867224857211113, 0.0, 0.0, 0.0, 0.0, 0.0], [0.06342679262161255, 0.018928566947579384, 0.015915194526314735, 0.02297447994351387, 0.01581357792019844, 0.011996154673397541, 0.006959729827940464, 0.010440587997436523, 0.027604447677731514, 0.014203780330717564, 0.011755011044442654, 0.02697419933974743, 0.015696225687861443, 0.03244095295667648, 0.021464010700583458, 0.016300220042467117, 0.0315910242497921, 0.018295636400580406, 0.02407490275800228, 0.018299637362360954, 0.04905860871076584, 0.03294462338089943, 0.031695034354925156, 0.04070066288113594, 0.05526788532733917, 0.03228399530053139, 0.01833721622824669, 0.020621933043003082, 0.020615674555301666, 0.061421554535627365, 0.21189774572849274, 0.0, 0.0, 0.0, 0.0], [0.05903123319149017, 0.01165033970028162, 0.01190632302314043, 0.02030511572957039, 0.01582455448806286, 0.011342634446918964, 0.012165093794465065, 0.02051454968750477, 0.02463514916598797, 0.01787753961980343, 0.008976958692073822, 0.027097539976239204, 0.010151369497179985, 0.029500102624297142, 0.022961728274822235, 0.01152712944895029, 0.032491885125637054, 0.020219076424837112, 0.02027125470340252, 0.0276049617677927, 0.042306944727897644, 0.022920362651348114, 0.02739839442074299, 0.024839358404278755, 0.028419984504580498, 0.04172161594033241, 0.0314212292432785, 0.035203300416469574, 0.03063124045729637, 0.06006475165486336, 0.04537738487124443, 0.19364091753959656, 0.0, 0.0, 0.0], [0.08590575307607651, 0.014704098924994469, 0.01051056943833828, 0.028699854388833046, 0.016654491424560547, 0.012795393355190754, 0.009235279634594917, 0.014819215051829815, 0.028232725337147713, 0.011867673136293888, 0.009268179535865784, 0.02304435521364212, 0.017553264275193214, 0.03295403718948364, 0.025013741105794907, 0.012247494421899319, 0.02679956704378128, 0.013326534070074558, 0.016479840502142906, 0.03472822159528732, 0.0398079976439476, 0.05067337676882744, 0.03086116537451744, 0.027551837265491486, 0.036164239048957825, 0.01740610972046852, 0.04716058447957039, 0.025891847908496857, 0.028397276997566223, 0.06047138199210167, 0.03584858402609825, 0.03886667266488075, 0.11605862528085709, 0.0, 0.0], [0.056707728654146194, 0.015243271365761757, 0.009892581030726433, 0.017495427280664444, 0.035292427986860275, 0.015370236709713936, 0.010747743770480156, 0.017091592773795128, 0.021245012059807777, 0.013064504601061344, 0.006394114810973406, 0.02176818437874317, 0.011015367694199085, 0.023290835320949554, 0.0209710244089365, 0.012346651405096054, 0.02411966770887375, 0.013815036043524742, 0.016820499673485756, 0.034515149891376495, 0.030974799767136574, 0.03217756003141403, 0.03227026015520096, 0.02327035926282406, 0.027259428054094315, 0.01785033568739891, 0.05776430293917656, 0.024271581321954727, 0.02524302341043949, 0.03774581849575043, 0.015895815566182137, 0.02659659832715988, 0.04215160012245178, 0.20932142436504364, 0.0], [0.047369714826345444, 0.013491546735167503, 0.008601201698184013, 0.011534380726516247, 0.03260952979326248, 0.008750013075768948, 0.010495420545339584, 0.015973463654518127, 0.02422492206096649, 0.013959750533103943, 0.011584172956645489, 0.020906992256641388, 0.012310199439525604, 0.02849937044084072, 0.014403227716684341, 0.011428195051848888, 0.024424538016319275, 0.02128405123949051, 0.027576269581913948, 0.025762222707271576, 0.0491495355963707, 0.02154945209622383, 0.020725881680846214, 0.030232440680265427, 0.046837326139211655, 0.02172248624265194, 0.02025720104575157, 0.0191495418548584, 0.010533900931477547, 0.05002591013908386, 0.030405579134821892, 0.022812237963080406, 0.029462475329637527, 0.03996319696307182, 0.20198364555835724]], [[1.0, 0.0, 0.0, 0.0, 0.0, 0.0, 0.0, 0.0, 0.0, 0.0, 0.0, 0.0, 0.0, 0.0, 0.0, 0.0, 0.0, 0.0, 0.0, 0.0, 0.0, 0.0, 0.0, 0.0, 0.0, 0.0, 0.0, 0.0, 0.0, 0.0, 0.0, 0.0, 0.0, 0.0, 0.0], [0.8253123164176941, 0.1746876984834671, 0.0, 0.0, 0.0, 0.0, 0.0, 0.0, 0.0, 0.0, 0.0, 0.0, 0.0, 0.0, 0.0, 0.0, 0.0, 0.0, 0.0, 0.0, 0.0, 0.0, 0.0, 0.0, 0.0, 0.0, 0.0, 0.0, 0.0, 0.0, 0.0, 0.0, 0.0, 0.0, 0.0], [0.758050262928009, 0.1302967071533203, 0.11165297031402588, 0.0, 0.0, 0.0, 0.0, 0.0, 0.0, 0.0, 0.0, 0.0, 0.0, 0.0, 0.0, 0.0, 0.0, 0.0, 0.0, 0.0, 0.0, 0.0, 0.0, 0.0, 0.0, 0.0, 0.0, 0.0, 0.0, 0.0, 0.0, 0.0, 0.0, 0.0, 0.0], [0.7232239246368408, 0.08274426311254501, 0.07870831340551376, 0.11532340943813324, 0.0, 0.0, 0.0, 0.0, 0.0, 0.0, 0.0, 0.0, 0.0, 0.0, 0.0, 0.0, 0.0, 0.0, 0.0, 0.0, 0.0, 0.0, 0.0, 0.0, 0.0, 0.0, 0.0, 0.0, 0.0, 0.0, 0.0, 0.0, 0.0, 0.0, 0.0], [0.559454083442688, 0.08694437891244888, 0.0911555141210556, 0.09393446892499924, 0.1685115247964859, 0.0, 0.0, 0.0, 0.0, 0.0, 0.0, 0.0, 0.0, 0.0, 0.0, 0.0, 0.0, 0.0, 0.0, 0.0, 0.0, 0.0, 0.0, 0.0, 0.0, 0.0, 0.0, 0.0, 0.0, 0.0, 0.0, 0.0, 0.0, 0.0, 0.0], [0.5031395554542542, 0.08192653208971024, 0.05872315913438797, 0.10480905324220657, 0.15214207768440247, 0.09925956279039383, 0.0, 0.0, 0.0, 0.0, 0.0, 0.0, 0.0, 0.0, 0.0, 0.0, 0.0, 0.0, 0.0, 0.0, 0.0, 0.0, 0.0, 0.0, 0.0, 0.0, 0.0, 0.0, 0.0, 0.0, 0.0, 0.0, 0.0, 0.0, 0.0], [0.527961015701294, 0.058259785175323486, 0.06836593896150589, 0.11652137339115143, 0.11039452999830246, 0.06918036937713623, 0.04931706190109253, 0.0, 0.0, 0.0, 0.0, 0.0, 0.0, 0.0, 0.0, 0.0, 0.0, 0.0, 0.0, 0.0, 0.0, 0.0, 0.0, 0.0, 0.0, 0.0, 0.0, 0.0, 0.0, 0.0, 0.0, 0.0, 0.0, 0.0, 0.0], [0.30010074377059937, 0.08825996518135071, 0.05834933742880821, 0.109842449426651, 0.1686263084411621, 0.1289689838886261, 0.02322760969400406, 0.12262459099292755, 0.0, 0.0, 0.0, 0.0, 0.0, 0.0, 0.0, 0.0, 0.0, 0.0, 0.0, 0.0, 0.0, 0.0, 0.0, 0.0, 0.0, 0.0, 0.0, 0.0, 0.0, 0.0, 0.0, 0.0, 0.0, 0.0, 0.0], [0.3934403657913208, 0.04758617654442787, 0.05194965749979019, 0.07471580803394318, 0.11950992047786713, 0.05938038229942322, 0.02336859703063965, 0.1026640385389328, 0.1273849755525589, 0.0, 0.0, 0.0, 0.0, 0.0, 0.0, 0.0, 0.0, 0.0, 0.0, 0.0, 0.0, 0.0, 0.0, 0.0, 0.0, 0.0, 0.0, 0.0, 0.0, 0.0, 0.0, 0.0, 0.0, 0.0, 0.0], [0.3446025252342224, 0.05032898858189583, 0.05991332232952118, 0.044831324368715286, 0.1573815643787384, 0.06782463192939758, 0.032290101051330566, 0.07052529603242874, 0.0895390585064888, 0.08276327699422836, 0.0, 0.0, 0.0, 0.0, 0.0, 0.0, 0.0, 0.0, 0.0, 0.0, 0.0, 0.0, 0.0, 0.0, 0.0, 0.0, 0.0, 0.0, 0.0, 0.0, 0.0, 0.0, 0.0, 0.0, 0.0], [0.3350846767425537, 0.0462699718773365, 0.047857675701379776, 0.10917433351278305, 0.04435236006975174, 0.04490724951028824, 0.02844385989010334, 0.07920622080564499, 0.10731325298547745, 0.06832481175661087, 0.08906549960374832, 0.0, 0.0, 0.0, 0.0, 0.0, 0.0, 0.0, 0.0, 0.0, 0.0, 0.0, 0.0, 0.0, 0.0, 0.0, 0.0, 0.0, 0.0, 0.0, 0.0, 0.0, 0.0, 0.0, 0.0], [0.31157219409942627, 0.03927760571241379, 0.03521275147795677, 0.07551001012325287, 0.08078573644161224, 0.04503689706325531, 0.028806490823626518, 0.10218672454357147, 0.08797681331634521, 0.05585261434316635, 0.0857192724943161, 0.052063003182411194, 0.0, 0.0, 0.0, 0.0, 0.0, 0.0, 0.0, 0.0, 0.0, 0.0, 0.0, 0.0, 0.0, 0.0, 0.0, 0.0, 0.0, 0.0, 0.0, 0.0, 0.0, 0.0, 0.0], [0.361469566822052, 0.06311222910881042, 0.02698993869125843, 0.07095801830291748, 0.03985174000263214, 0.029446525499224663, 0.022796377539634705, 0.07072701305150986, 0.11304392665624619, 0.033355168998241425, 0.03714420273900032, 0.04763944819569588, 0.08346599340438843, 0.0, 0.0, 0.0, 0.0, 0.0, 0.0, 0.0, 0.0, 0.0, 0.0, 0.0, 0.0, 0.0, 0.0, 0.0, 0.0, 0.0, 0.0, 0.0, 0.0, 0.0, 0.0], [0.26885920763015747, 0.03265075013041496, 0.039381880313158035, 0.05081149563193321, 0.08684229850769043, 0.04310198128223419, 0.017922354862093925, 0.06655362248420715, 0.07785408198833466, 0.04528899863362312, 0.06586873531341553, 0.04606606438755989, 0.07721769064664841, 0.08158090710639954, 0.0, 0.0, 0.0, 0.0, 0.0, 0.0, 0.0, 0.0, 0.0, 0.0, 0.0, 0.0, 0.0, 0.0, 0.0, 0.0, 0.0, 0.0, 0.0, 0.0, 0.0], [0.20790526270866394, 0.03081469051539898, 0.029462985694408417, 0.05067427083849907, 0.08743473142385483, 0.04770582541823387, 0.02733319252729416, 0.09152114391326904, 0.05214141681790352, 0.047082457691431046, 0.08082001656293869, 0.05453277379274368, 0.12074843794107437, 0.05516168475151062, 0.01666121929883957, 0.0, 0.0, 0.0, 0.0, 0.0, 0.0, 0.0, 0.0, 0.0, 0.0, 0.0, 0.0, 0.0, 0.0, 0.0, 0.0, 0.0, 0.0, 0.0, 0.0], [0.19932866096496582, 0.04206705093383789, 0.05715769901871681, 0.071933314204216, 0.05065879225730896, 0.031524572521448135, 0.027136797085404396, 0.04140904173254967, 0.0932227075099945, 0.052022065967321396, 0.025422828271985054, 0.05927914381027222, 0.06613776087760925, 0.0958227664232254, 0.031632158905267715, 0.05524462088942528, 0.0, 0.0, 0.0, 0.0, 0.0, 0.0, 0.0, 0.0, 0.0, 0.0, 0.0, 0.0, 0.0, 0.0, 0.0, 0.0, 0.0, 0.0, 0.0], [0.2371978461742401, 0.03067580983042717, 0.029208501800894737, 0.05821242555975914, 0.06082989647984505, 0.03495607152581215, 0.02444053255021572, 0.07084919512271881, 0.05983855947852135, 0.03970347344875336, 0.05932589992880821, 0.0367523618042469, 0.07694029808044434, 0.06171641871333122, 0.014049740508198738, 0.06745626777410507, 0.0378466434776783, 0.0, 0.0, 0.0, 0.0, 0.0, 0.0, 0.0, 0.0, 0.0, 0.0, 0.0, 0.0, 0.0, 0.0, 0.0, 0.0, 0.0, 0.0], [0.2499532550573349, 0.02662949450314045, 0.03931761533021927, 0.04463214427232742, 0.07087579369544983, 0.034094229340553284, 0.02126503363251686, 0.057264186441898346, 0.05179664120078087, 0.03503984957933426, 0.0439227819442749, 0.03922876715660095, 0.06155913695693016, 0.051224250346422195, 0.015611976385116577, 0.08278115838766098, 0.03891745209693909, 0.035886336117982864, 0.0, 0.0, 0.0, 0.0, 0.0, 0.0, 0.0, 0.0, 0.0, 0.0, 0.0, 0.0, 0.0, 0.0, 0.0, 0.0, 0.0], [0.222697913646698, 0.02651810832321644, 0.039789535105228424, 0.027604004368185997, 0.08196067810058594, 0.03582964092493057, 0.015378952957689762, 0.06874662637710571, 0.05343088135123253, 0.05469820648431778, 0.05721571668982506, 0.03161528334021568, 0.03717072680592537, 0.05228295549750328, 0.011851192452013493, 0.0720609650015831, 0.03087829053401947, 0.024411147460341454, 0.055859170854091644, 0.0, 0.0, 0.0, 0.0, 0.0, 0.0, 0.0, 0.0, 0.0, 0.0, 0.0, 0.0, 0.0, 0.0, 0.0, 0.0], [0.07419286668300629, 0.05092697590589523, 0.028230981901288033, 0.034200072288513184, 0.033614274114370346, 0.05182218179106712, 0.009658370167016983, 0.04940614104270935, 0.09883325546979904, 0.05356481671333313, 0.02458188310265541, 0.05879184603691101, 0.013026793487370014, 0.10889022797346115, 0.015677127987146378, 0.04766634851694107, 0.06507281213998795, 0.03886166214942932, 0.039842620491981506, 0.10313885658979416, 0.0, 0.0, 0.0, 0.0, 0.0, 0.0, 0.0, 0.0, 0.0, 0.0, 0.0, 0.0, 0.0, 0.0, 0.0], [0.2261488437652588, 0.02576986700296402, 0.03336168825626373, 0.040344882756471634, 0.06116843223571777, 0.03166024759411812, 0.023036973550915718, 0.048158224672079086, 0.049641311168670654, 0.02570328488945961, 0.051324233412742615, 0.029225796461105347, 0.046272385865449905, 0.04679545760154724, 0.010471498593688011, 0.043467383831739426, 0.02797776833176613, 0.03356105834245682, 0.03209925815463066, 0.055624041706323624, 0.05818726122379303, 0.0, 0.0, 0.0, 0.0, 0.0, 0.0, 0.0, 0.0, 0.0, 0.0, 0.0, 0.0, 0.0, 0.0], [0.1944299042224884, 0.020005784928798676, 0.02566998451948166, 0.027610082179307938, 0.07351990789175034, 0.025118589401245117, 0.016428446397185326, 0.054433673620224, 0.04450268670916557, 0.022272871807217598, 0.029331285506486893, 0.030642634257674217, 0.06286600232124329, 0.043391648679971695, 0.01021601352840662, 0.09763480722904205, 0.029601436108350754, 0.028080444782972336, 0.03757164999842644, 0.05037401616573334, 0.06089739874005318, 0.015400808304548264, 0.0, 0.0, 0.0, 0.0, 0.0, 0.0, 0.0, 0.0, 0.0, 0.0, 0.0, 0.0, 0.0], [0.19766588509082794, 0.041157495230436325, 0.03360121697187424, 0.023870186880230904, 0.06633447110652924, 0.02801697887480259, 0.019582942128181458, 0.05178564041852951, 0.03159146383404732, 0.026536140590906143, 0.0416431650519371, 0.025757968425750732, 0.0432840920984745, 0.029939454048871994, 0.012750321999192238, 0.056069161742925644, 0.024677351117134094, 0.02150590345263481, 0.045592937618494034, 0.07480885088443756, 0.044334057718515396, 0.021997367963194847, 0.037497010082006454, 0.0, 0.0, 0.0, 0.0, 0.0, 0.0, 0.0, 0.0, 0.0, 0.0, 0.0, 0.0], [0.1804356724023819, 0.02334981970489025, 0.023929765447974205, 0.044541697949171066, 0.040705956518650055, 0.03654098138213158, 0.016616584733128548, 0.05323561280965805, 0.050283923745155334, 0.02584689110517502, 0.04605168476700783, 0.024920543655753136, 0.03976094350218773, 0.04893423989415169, 0.012390019372105598, 0.06191657483577728, 0.023965347558259964, 0.02875448204576969, 0.02509540505707264, 0.06865917891263962, 0.0735766589641571, 0.018046913668513298, 0.022800743579864502, 0.009640375152230263, 0.0, 0.0, 0.0, 0.0, 0.0, 0.0, 0.0, 0.0, 0.0, 0.0, 0.0], [0.2424635887145996, 0.02469644322991371, 0.03868826478719711, 0.033572323620319366, 0.05476619303226471, 0.03380467742681503, 0.02072160132229328, 0.03275461494922638, 0.04349980503320694, 0.01856265589594841, 0.03646847978234291, 0.031002484261989594, 0.03862546384334564, 0.039931803941726685, 0.010727171786129475, 0.03831766918301582, 0.029280317947268486, 0.024678120389580727, 0.027889322489500046, 0.045021556317806244, 0.043075986206531525, 0.016905829310417175, 0.023586291819810867, 0.007298625539988279, 0.04366059601306915, 0.0, 0.0, 0.0, 0.0, 0.0, 0.0, 0.0, 0.0, 0.0, 0.0], [0.11111283302307129, 0.029458744451403618, 0.024559468030929565, 0.030902530997991562, 0.033864837139844894, 0.033630646765232086, 0.012831437401473522, 0.03066926635801792, 0.06390535831451416, 0.02348153106868267, 0.025704611092805862, 0.03766981139779091, 0.016167866066098213, 0.06660737842321396, 0.017231760546565056, 0.030658654868602753, 0.039240483194589615, 0.024295225739479065, 0.026388786733150482, 0.058640263974666595, 0.10666146129369736, 0.017623895779252052, 0.02424543909728527, 0.01827959716320038, 0.036750197410583496, 0.059418004006147385, 0.0, 0.0, 0.0, 0.0, 0.0, 0.0, 0.0, 0.0, 0.0], [0.17855210602283478, 0.04373869672417641, 0.02777230180799961, 0.03288250043988228, 0.08083150535821915, 0.036148551851511, 0.01943815127015114, 0.03604714199900627, 0.0315406434237957, 0.02228383533656597, 0.026742074638605118, 0.020272962749004364, 0.04929490014910698, 0.028057057410478592, 0.010035556741058826, 0.028219016268849373, 0.018526636064052582, 0.025377927348017693, 0.03921228647232056, 0.05273989215493202, 0.024735094979405403, 0.028674766421318054, 0.029405983164906502, 0.013893154449760914, 0.0176064595580101, 0.05648734048008919, 0.021483466029167175, 0.0, 0.0, 0.0, 0.0, 0.0, 0.0, 0.0, 0.0], [0.15546514093875885, 0.04916936531662941, 0.024515938013792038, 0.025700539350509644, 0.05483130365610123, 0.0420927032828331, 0.01164503674954176, 0.06493963301181793, 0.031219761818647385, 0.02656278759241104, 0.028326869010925293, 0.018289057537913322, 0.03490860015153885, 0.029660990461707115, 0.008558588102459908, 0.0466504730284214, 0.01766982488334179, 0.02372436411678791, 0.019038720056414604, 0.07715761661529541, 0.02730739489197731, 0.019747741520404816, 0.024364115670323372, 0.014429948292672634, 0.01892835833132267, 0.05850560590624809, 0.02436404675245285, 0.022225432097911835, 0.0, 0.0, 0.0, 0.0, 0.0, 0.0, 0.0], [0.19332920014858246, 0.026298340409994125, 0.03039250150322914, 0.02961190976202488, 0.04520163685083389, 0.03307906910777092, 0.02184077352285385, 0.026594150811433792, 0.04538282752037048, 0.03843945637345314, 0.02691539190709591, 0.024535097181797028, 0.015795720741152763, 0.040367621928453445, 0.010634277015924454, 0.026345491409301758, 0.022409791126847267, 0.019946036860346794, 0.04401850700378418, 0.06709348410367966, 0.033454738557338715, 0.01608494482934475, 0.025615878403186798, 0.01140951830893755, 0.013623220846056938, 0.04055489972233772, 0.016662972047924995, 0.03589887171983719, 0.018463704735040665, 0.0, 0.0, 0.0, 0.0, 0.0, 0.0], [0.15965190529823303, 0.01864234358072281, 0.026677725836634636, 0.028047846630215645, 0.04907771572470665, 0.0260456595569849, 0.01780770905315876, 0.03679424151778221, 0.045969411730766296, 0.019110891968011856, 0.03796318545937538, 0.027620630338788033, 0.02834104560315609, 0.04296436160802841, 0.008847595192492008, 0.03253018483519554, 0.025659985840320587, 0.02448510006070137, 0.029966222122311592, 0.04054072126746178, 0.04233502596616745, 0.017694557085633278, 0.02121768519282341, 0.006380946841090918, 0.031033925712108612, 0.03557969629764557, 0.025066182017326355, 0.02660747617483139, 0.024308431893587112, 0.043031539767980576, 0.0, 0.0, 0.0, 0.0, 0.0], [0.1966170370578766, 0.01979137398302555, 0.0330333448946476, 0.025687098503112793, 0.042206067591905594, 0.03137582167983055, 0.01624363474547863, 0.030698416754603386, 0.036294274032115936, 0.026839347556233406, 0.026712190359830856, 0.023046312853693962, 0.02195010334253311, 0.03344837203621864, 0.010305739939212799, 0.022743644192814827, 0.021480808034539223, 0.021094728261232376, 0.031490400433540344, 0.03692729026079178, 0.037232108414173126, 0.015421994961798191, 0.019252348691225052, 0.0073204925283789635, 0.024766920134425163, 0.04439167678356171, 0.0198507197201252, 0.02613365836441517, 0.018124466761946678, 0.042709074914455414, 0.03681057319045067, 0.0, 0.0, 0.0, 0.0], [0.16313207149505615, 0.022932473570108414, 0.029583683237433434, 0.028615495190024376, 0.0377846397459507, 0.026518698781728745, 0.02622901275753975, 0.031034139916300774, 0.03483205288648605, 0.01897561177611351, 0.033202942460775375, 0.02643595263361931, 0.03230736777186394, 0.031329195946455, 0.011727879755198956, 0.027169128879904747, 0.024106517434120178, 0.022620301693677902, 0.02575555443763733, 0.03801414370536804, 0.03207404538989067, 0.017354246228933334, 0.017987212166190147, 0.009293688461184502, 0.042471375316381454, 0.031215844675898552, 0.019006572663784027, 0.02152344584465027, 0.01754118502140045, 0.04014520347118378, 0.018160775303840637, 0.040919508785009384, 0.0, 0.0, 0.0], [0.15803849697113037, 0.016828803345561028, 0.020642390474677086, 0.045382529497146606, 0.04664173722267151, 0.027835221961140633, 0.020206492394208908, 0.04211510345339775, 0.037034474313259125, 0.01774458959698677, 0.030353324487805367, 0.024713624268770218, 0.03428488224744797, 0.03341371938586235, 0.009082169272005558, 0.035213764756917953, 0.022280124947428703, 0.020849987864494324, 0.027390213683247566, 0.03231459856033325, 0.037649236619472504, 0.014920790679752827, 0.016553670167922974, 0.006309076678007841, 0.023218737915158272, 0.0279498603194952, 0.02383223921060562, 0.01532355509698391, 0.017670487985014915, 0.02681528404355049, 0.022188851609826088, 0.028694557026028633, 0.03650737553834915, 0.0, 0.0], [0.17019404470920563, 0.032125912606716156, 0.02987012267112732, 0.019615590572357178, 0.05489381030201912, 0.03622056543827057, 0.01715220883488655, 0.0323265939950943, 0.031500689685344696, 0.02962453104555607, 0.02909429557621479, 0.016624262556433678, 0.029989799484610558, 0.02761414833366871, 0.010949774645268917, 0.03436655178666115, 0.014830098487436771, 0.015176058746874332, 0.030502906069159508, 0.041597459465265274, 0.02064122073352337, 0.017041223123669624, 0.02617543563246727, 0.010538814589381218, 0.007441799622029066, 0.03439135476946831, 0.026077086105942726, 0.029615648090839386, 0.013693020679056644, 0.018074296414852142, 0.03374852240085602, 0.029002606868743896, 0.013117285445332527, 0.016172273084521294, 0.0], [0.11417391896247864, 0.016700677573680878, 0.023576240986585617, 0.03235284611582756, 0.05511363968253136, 0.029616648331284523, 0.017176376655697823, 0.05952787026762962, 0.038434237241744995, 0.020421095192432404, 0.03235999867320061, 0.019217435270547867, 0.019135117530822754, 0.03519751876592636, 0.010996297933161259, 0.04401442036032677, 0.016835959628224373, 0.016212480142712593, 0.023840539157390594, 0.04231660068035126, 0.037168409675359726, 0.009007316082715988, 0.015979532152414322, 0.005828788038343191, 0.02082640305161476, 0.028255829587578773, 0.03160589188337326, 0.02425200864672661, 0.0232852753251791, 0.01991749368607998, 0.02455976791679859, 0.02195737324655056, 0.01319314818829298, 0.020208798348903656, 0.03673402592539787]]]}\n",
                            "    )\n",
                            "    </script>"
                        ],
                        "text/plain": [
                            "<circuitsvis.utils.render.RenderedHTML at 0x203b428e6c0>"
                        ]
                    },
                    "metadata": {},
                    "output_type": "display_data"
                }
            ],
            "source": [
                "import circuitsvis as cv\n",
                "from IPython.display import display\n",
                "\n",
                "html = cv.attention.attention_patterns(\n",
                "    tokens=reference_gpt2.to_str_tokens(reference_text),\n",
                "    attention=cache[\"pattern\", 0][0],\n",
                ")\n",
                "display(html)\n",
                "\n",
                "# shows which row is paying attention to which token here. rows are the rows of (something?)\n",
                "# and the coluns are the words. It gets smaller because the further back you go, the less words behind you\n",
                "# you have to pay attention to\n",
                "\n",
                "# Also generally a very interesting visualization\n",
                "\n",
                "# the different heads are shown in the small graphics, an agglomeration of all that is in the one on the left,\n",
                "# the attention patterns \"total\""
            ]
        },
        {
            "cell_type": "markdown",
            "metadata": {},
            "source": [
                "You can also use the `attention_heads` function, which has similar syntax but presents the information in a different (sometimes more helpful) way.\n"
            ]
        },
        {
            "cell_type": "markdown",
            "metadata": {},
            "source": [
                "<details>\n",
                "<summary>Help - my <code>attention_heads</code> plots are behaving weirdly.</summary>\n",
                "\n",
                "This seems to be a bug in `circuitsvis` - on VSCode, the attention head plots continually shrink in size.\n",
                "\n",
                "Until this is fixed, one way to get around it is to open the plots in your browser. You can do this inline with the `webbrowser` library:\n",
                "\n",
                "```python\n",
                "attn_heads = cv.attention.attention_heads(\n",
                "    tokens=reference_gpt2.to_str_tokens(reference_text),\n",
                "    attention=cache[\"pattern\", 0][0]\n",
                ")\n",
                "\n",
                "path = \"attn_heads.html\"\n",
                "\n",
                "with open(path, \"w\") as f:\n",
                "    f.write(str(attn_heads))\n",
                "\n",
                "webbrowser.open(path)\n",
                "```\n",
                "\n",
                "To check exactly where this is getting saved, you can print your current working directory with `os.getcwd()`.\n",
                "</details>\n"
            ]
        },
        {
            "cell_type": "markdown",
            "metadata": {},
            "source": [
                "---\n",
                "\n",
                "Note - don't worry if you don't get 100% accuracy here; the tests are pretty stringent. Even things like having your `einsum` input arguments in a different order might result in the output being very slightly different. You should be getting at least 99% accuracy though, so if the value is lower then this it probably means you've made a mistake somewhere.\n",
                "\n",
                "Also, this implementation will probably be the most challenging exercise on this page, so don't worry if it takes you some time! You should look at parts of the solution or hints if you're stuck.\n"
            ]
        },
        {
            "cell_type": "markdown",
            "metadata": {},
            "source": [
                "<details>\n",
                "<summary>Hint: high level steps</summary>\n",
                "\n",
                "```python\n",
                "# Calculate query, key and value vectors\n",
                "# Calculate attention scores\n",
                "# Then scale and apply mask and apply softmax on the correct dimension to get probabilities\n",
                "# Take weighted sum of value vectors, according to attention probabilities\n",
                "# Calculate output (by applying matrix W_O and summing over heads, then adding bias b_O)\n",
                "```\n",
                "</details>\n",
                "\n",
                "<details>\n",
                "<summary>Hint: detailed steps with only a few blanks to fill.</summary>\n",
                "\n",
                "```python\n",
                "# Calculate query, key and value vectors\n",
                "q = (\n",
                "    einops.einsum(\n",
                "        normalized_resid_pre,\n",
                "        self.W_Q,\n",
                "        \"batch posn d_model, nheads d_model d_head -> ???\",\n",
                "    )\n",
                "    + self.b_Q\n",
                ")\n",
                "\n",
                "k = ...\n",
                "\n",
                "v = ...\n",
                "\n",
                "# Calculate attention scores\n",
                "attn_scores = einops.einsum(\n",
                "    q,\n",
                "    k,\n",
                "    \"???,??? -> batch nheads posn_Q posn_K\",\n",
                ")\n",
                "\n",
                "# then scale and apply mask and apply softmax on the correct dimension to get probabilities\n",
                "attn_scores_masked = self.apply_causal_mask(attn_scores / self.cfg.d_head**0.5)\n",
                "attn_pattern = attn_scores_masked.softmax(dim=...)\n",
                "\n",
                "# Take weighted sum of value vectors, according to attention probabilities\n",
                "z = einops.einsum(\n",
                "    v,\n",
                "    attn_pattern,\n",
                "    \"???,??? -> batch posn_Q nheads d_head\",\n",
                ")\n",
                "\n",
                "# Calculate output (by applying matrix W_O and summing over heads, then adding bias b_O)\n",
                "attn_out = (\n",
                "    einops.einsum(\n",
                "        z,\n",
                "        self.W_O,\n",
                "        \"batch posn_Q nheads d_head, nheads d_head d_model -> batch posn_Q d_model\",\n",
                "    )\n",
                "    + self.b_O\n",
                ")\n",
                "return attn_out\n",
                "```\n",
                "</details>\n",
                "\n",
                "\n",
                "\n"
            ]
        },
        {
            "cell_type": "code",
            "execution_count": 34,
            "metadata": {},
            "outputs": [
                {
                    "name": "stdout",
                    "output_type": "stream",
                    "text": [
                        "Input shape: torch.Size([2, 4, 768])\n",
                        "Output shape: torch.Size([2, 4, 768]) \n",
                        "\n",
                        "Input shape: torch.Size([1, 35, 768])\n",
                        "Output shape: torch.Size([1, 35, 768])\n",
                        "Reference output shape: torch.Size([1, 35, 768]) \n",
                        "\n",
                        "100.00% of the values are correct\n",
                        "\n"
                    ]
                }
            ],
            "source": [
                "\n",
                "class Attention(nn.Module):\n",
                "    IGNORE: Float[Tensor, \"\"]\n",
                "\n",
                "    def __init__(self, cfg: Config):\n",
                "        super().__init__()\n",
                "        self.cfg = cfg\n",
                "        self.W_Q = nn.Parameter(torch.empty((cfg.n_heads, cfg.d_model, cfg.d_head)))\n",
                "        self.W_K = nn.Parameter(torch.empty((cfg.n_heads, cfg.d_model, cfg.d_head)))\n",
                "        self.W_V = nn.Parameter(torch.empty((cfg.n_heads, cfg.d_model, cfg.d_head)))\n",
                "        self.W_O = nn.Parameter(torch.empty((cfg.n_heads, cfg.d_head, cfg.d_model)))\n",
                "        self.b_Q = nn.Parameter(torch.zeros((cfg.n_heads, cfg.d_head)))\n",
                "        self.b_K = nn.Parameter(torch.zeros((cfg.n_heads, cfg.d_head)))\n",
                "        self.b_V = nn.Parameter(torch.zeros((cfg.n_heads, cfg.d_head)))\n",
                "        self.b_O = nn.Parameter(torch.zeros((cfg.d_model)))\n",
                "        nn.init.normal_(self.W_Q, std=self.cfg.init_range)\n",
                "        nn.init.normal_(self.W_K, std=self.cfg.init_range)\n",
                "        nn.init.normal_(self.W_V, std=self.cfg.init_range)\n",
                "        nn.init.normal_(self.W_O, std=self.cfg.init_range)\n",
                "        self.register_buffer(\"IGNORE\", torch.tensor(-1e5, dtype=torch.float32, device=device))\n",
                "\n",
                "    # fmt: off\n",
                "    def forward(\n",
                "        self, normalized_resid_pre: Float[Tensor, \"batch token d_model\"]\n",
                "    ) -> Float[Tensor, \"batch token d_model\"]:\n",
                "        # Use einops!\n",
                "        # And to help us understand your code quickly, try to use only the following names with einops:\n",
                "        # batch head token token_k token_q d_model d_head\n",
                "\n",
                "        # Calculate query, key and value vectors\n",
                "        q = einops.einsum(normalized_resid_pre, self.W_Q,\n",
                "                \"batch token d_model, head d_model d_head -> batch token head d_head\",\n",
                "            ) + self.b_Q\n",
                "        k = einops.einsum(normalized_resid_pre, self.W_K,\n",
                "                \"batch token d_model, head d_model d_head -> batch token head d_head\",\n",
                "            ) + self.b_K\n",
                "        v = einops.einsum(normalized_resid_pre, self.W_V,\n",
                "                \"batch token d_model, head d_model d_head -> batch token head d_head\",\n",
                "            ) + self.b_V\n",
                "\n",
                "        # Calculate attention scores, then scale and mask, and apply softmax to get probabilities\n",
                "        attn_scores = einops.einsum(q, k,\n",
                "            \"batch token_q head d_head, batch token_k head d_head -> batch head token_q token_k\")\n",
                "        attn_scores_masked = self.apply_causal_mask(attn_scores / self.cfg.d_head**0.5)\n",
                "        attn_pattern = attn_scores_masked.softmax(-1)\n",
                "\n",
                "        # Take weighted sum of value vectors, according to attention probabilities\n",
                "        z = einops.einsum(v, attn_pattern,\n",
                "            \"batch token_k head d_head, batch head token_q token_k -> batch token_q head d_head\")\n",
                "\n",
                "        # Calculate output (by applying matrix W_O and summing over heads, then adding bias b_O)\n",
                "        attn_out = einops.einsum(z, self.W_O,\n",
                "                \"batch token_q head d_head, head d_head d_model -> batch token_q d_model\",\n",
                "            ) + self.b_O\n",
                "\n",
                "        return attn_out\n",
                "\n",
                "    # fmt: on\n",
                "    def apply_causal_mask(\n",
                "        self, attn_scores: Float[Tensor, \"batch head token_q token_k\"]\n",
                "    ) -> Float[Tensor, \"batch head token_q token_k\"]:\n",
                "        \"\"\"\n",
                "        Applies a causal mask to attention scores, and returns masked scores.\n",
                "        \"\"\"\n",
                "        # Define a mask that is True for all positions we want to set probabilities to zero for\n",
                "        all_ones = torch.ones(attn_scores.size(-2), attn_scores.size(-1), device=attn_scores.device)\n",
                "        mask = torch.triu(all_ones, diagonal=1).bool()\n",
                "        # Apply the mask to attention scores, then return the masked scores\n",
                "        attn_scores.masked_fill_(mask, self.IGNORE)\n",
                "        return attn_scores\n",
                "\n",
                "\n",
                "rand_float_test(Attention, [2, 4, 768])\n",
                "load_gpt2_test(Attention, reference_gpt2.blocks[0].attn, cache[\"normalized\", 0, \"ln1\"])\n",
                "\n"
            ]
        },
        {
            "cell_type": "markdown",
            "metadata": {},
            "source": [
                "<details>\n",
                "<summary>Show solution</summary>\n",
                "\n",
                "```python\n",
                "class Attention(nn.Module):\n",
                "    IGNORE: Float[Tensor, \"\"]\n",
                "\n",
                "    def __init__(self, cfg: Config):\n",
                "        super().__init__()\n",
                "        self.cfg = cfg\n",
                "        self.W_Q = nn.Parameter(torch.empty((cfg.n_heads, cfg.d_model, cfg.d_head)))\n",
                "        self.W_K = nn.Parameter(torch.empty((cfg.n_heads, cfg.d_model, cfg.d_head)))\n",
                "        self.W_V = nn.Parameter(torch.empty((cfg.n_heads, cfg.d_model, cfg.d_head)))\n",
                "        self.W_O = nn.Parameter(torch.empty((cfg.n_heads, cfg.d_head, cfg.d_model)))\n",
                "        self.b_Q = nn.Parameter(torch.zeros((cfg.n_heads, cfg.d_head)))\n",
                "        self.b_K = nn.Parameter(torch.zeros((cfg.n_heads, cfg.d_head)))\n",
                "        self.b_V = nn.Parameter(torch.zeros((cfg.n_heads, cfg.d_head)))\n",
                "        self.b_O = nn.Parameter(torch.zeros((cfg.d_model)))\n",
                "        nn.init.normal_(self.W_Q, std=self.cfg.init_range)\n",
                "        nn.init.normal_(self.W_K, std=self.cfg.init_range)\n",
                "        nn.init.normal_(self.W_V, std=self.cfg.init_range)\n",
                "        nn.init.normal_(self.W_O, std=self.cfg.init_range)\n",
                "        self.register_buffer(\"IGNORE\", torch.tensor(-1e5, dtype=torch.float32, device=device))\n",
                "\n",
                "    # fmt: off\n",
                "    def forward(\n",
                "        self, normalized_resid_pre: Float[Tensor, \"batch token d_model\"]\n",
                "    ) -> Float[Tensor, \"batch token d_model\"]:\n",
                "        # Use einops!\n",
                "        # And to help us understand your code quickly, try to use only the following names with einops:\n",
                "        # batch head token token_k token_q d_model d_head\n",
                "\n",
                "        # Calculate query, key and value vectors\n",
                "        q = einops.einsum(normalized_resid_pre, self.W_Q,\n",
                "                \"batch token d_model, head d_model d_head -> batch token head d_head\",\n",
                "            ) + self.b_Q\n",
                "        k = einops.einsum(normalized_resid_pre, self.W_K,\n",
                "                \"batch token d_model, head d_model d_head -> batch token head d_head\",\n",
                "            ) + self.b_K\n",
                "        v = einops.einsum(normalized_resid_pre, self.W_V,\n",
                "                \"batch token d_model, head d_model d_head -> batch token head d_head\",\n",
                "            ) + self.b_V\n",
                "\n",
                "        # Calculate attention scores, then scale and mask, and apply softmax to get probabilities\n",
                "        attn_scores = einops.einsum(q, k,\n",
                "            \"batch token_q head d_head, batch token_k head d_head -> batch head token_q token_k\")\n",
                "        attn_scores_masked = self.apply_causal_mask(attn_scores / self.cfg.d_head**0.5)\n",
                "        attn_pattern = attn_scores_masked.softmax(-1)\n",
                "\n",
                "        # Take weighted sum of value vectors, according to attention probabilities\n",
                "        z = einops.einsum(v, attn_pattern,\n",
                "            \"batch token_k head d_head, batch head token_q token_k -> batch token_q head d_head\")\n",
                "\n",
                "        # Calculate output (by applying matrix W_O and summing over heads, then adding bias b_O)\n",
                "        attn_out = einops.einsum(z, self.W_O,\n",
                "                \"batch token_q head d_head, head d_head d_model -> batch token_q d_model\",\n",
                "            ) + self.b_O\n",
                "\n",
                "        return attn_out\n",
                "\n",
                "    # fmt: on\n",
                "    def apply_causal_mask(\n",
                "        self, attn_scores: Float[Tensor, \"batch head token_q token_k\"]\n",
                "    ) -> Float[Tensor, \"batch head token_q token_k\"]:\n",
                "        \"\"\"\n",
                "        Applies a causal mask to attention scores, and returns masked scores.\n",
                "        \"\"\"\n",
                "        # Define a mask that is True for all positions we want to set probabilities to zero for\n",
                "        all_ones = torch.ones(attn_scores.size(-2), attn_scores.size(-1), device=attn_scores.device)\n",
                "        mask = torch.triu(all_ones, diagonal=1).bool()\n",
                "        # Apply the mask to attention scores, then return the masked scores\n",
                "        attn_scores.masked_fill_(mask, self.IGNORE)\n",
                "        return attn_scores\n",
                "\n",
                "\n",
                "rand_float_test(Attention, [2, 4, 768])\n",
                "load_gpt2_test(Attention, reference_gpt2.blocks[0].attn, cache[\"normalized\", 0, \"ln1\"])\n",
                "\n",
                "```\n",
                "\n",
                "</details>\n",
                "\n"
            ]
        },
        {
            "cell_type": "markdown",
            "metadata": {},
            "source": [
                "Note: The `\"IGNORE\"` buffer is a very large negative number. This is the value you should mask your attention scores with (i.e. set them to this number wherever you want the probabilities to be zero).\n",
                "\n",
                "<details>\n",
                "<summary>Question - why do you think we mask the attention scores by setting them to a large negative number, rather than the attention probabilities by setting them to zero?</summary>\n",
                "\n",
                "If we masked the attention probabilities, then the probabilities would no longer sum to 1.\n",
                "\n",
                "We want to mask the scores and *then* take softmax, so that the probabilities are still valid probabilities (i.e. they sum to 1), and the values in the masked positions have no influence on the model's output.\n",
                "</details>\n"
            ]
        },
        {
            "cell_type": "markdown",
            "metadata": {},
            "source": [
                "## MLP\n",
                "\n",
                "```c\n",
                "Difficulty: 🟠🟠⚪⚪⚪\n",
                "Importance: 🟠🟠🟠🟠⚪\n",
                "\n",
                "You should spend up to 10-15 minutes on this exercise.\n",
                "```\n",
                "\n",
                "Next, you should implement the MLP layer, which consists of:\n",
                "\n",
                "* A linear layer, with weight `W_in`, bias `b_in`\n",
                "* A nonlinear functino (we usually use GELU; the function `gelu_new` has been imported for this purpose)\n",
                "* A linear layer, with weight `W_out`, bias `b_out`\n"
            ]
        },
        {
            "cell_type": "code",
            "execution_count": null,
            "metadata": {},
            "outputs": [],
            "source": [
                "class MLP(nn.Module):\n",
                "    def __init__(self, cfg: Config):\n",
                "        super().__init__()\n",
                "        self.cfg = cfg\n",
                "        self.W_in = nn.Parameter(torch.empty((cfg.d_model, cfg.d_mlp)))\n",
                "        self.W_out = nn.Parameter(torch.empty((cfg.d_mlp, cfg.d_model)))\n",
                "        self.b_in = nn.Parameter(torch.zeros((cfg.d_mlp)))\n",
                "        self.b_out = nn.Parameter(torch.zeros((cfg.d_model)))\n",
                "        nn.init.normal_(self.W_in, std=self.cfg.init_range)\n",
                "        nn.init.normal_(self.W_out, std=self.cfg.init_range)\n",
                "\n",
                "    def forward(\n",
                "        self, normalized_resid_mid: Float[Tensor, \"batch token d_model\"]\n",
                "    ) -> Float[Tensor, \"batch token d_model\"]: ...  # TODO: ~37 words\n",
                "\n",
                "\n",
                "rand_float_test(MLP, [2, 4, 768])\n",
                "load_gpt2_test(MLP, reference_gpt2.blocks[0].mlp, cache[\"normalized\", 0, \"ln2\"])"
            ]
        },
        {
            "cell_type": "markdown",
            "metadata": {},
            "source": [
                "<details>\n",
                "<summary>Show solution</summary>\n",
                "\n",
                "```python\n",
                "class MLP(nn.Module):\n",
                "    def __init__(self, cfg: Config):\n",
                "        super().__init__()\n",
                "        self.cfg = cfg\n",
                "        self.W_in = nn.Parameter(torch.empty((cfg.d_model, cfg.d_mlp)))\n",
                "        self.W_out = nn.Parameter(torch.empty((cfg.d_mlp, cfg.d_model)))\n",
                "        self.b_in = nn.Parameter(torch.zeros((cfg.d_mlp)))\n",
                "        self.b_out = nn.Parameter(torch.zeros((cfg.d_model)))\n",
                "        nn.init.normal_(self.W_in, std=self.cfg.init_range)\n",
                "        nn.init.normal_(self.W_out, std=self.cfg.init_range)\n",
                "\n",
                "    def forward(\n",
                "        self, normalized_resid_mid: Float[Tensor, \"batch token d_model\"]\n",
                "    ) -> Float[Tensor, \"batch token d_model\"]:\n",
                "        pre = (\n",
                "            einops.einsum(\n",
                "                normalized_resid_mid,\n",
                "                self.W_in,\n",
                "                \"batch token d_model, d_model d_mlp -> batch token d_mlp\",\n",
                "            )\n",
                "            + self.b_in\n",
                "        )\n",
                "        post = gelu_new(pre)\n",
                "        mlp_out = (\n",
                "            einops.einsum(\n",
                "                post,\n",
                "                self.W_out,\n",
                "                \"batch token d_mlp, d_mlp d_model -> batch token d_model\",\n",
                "            )\n",
                "            + self.b_out\n",
                "        )\n",
                "        return mlp_out\n",
                "\n",
                "\n",
                "rand_float_test(MLP, [2, 4, 768])\n",
                "load_gpt2_test(MLP, reference_gpt2.blocks[0].mlp, cache[\"normalized\", 0, \"ln2\"])\n",
                "\n",
                "```\n",
                "\n",
                "</details>\n",
                "\n"
            ]
        },
        {
            "cell_type": "markdown",
            "metadata": {},
            "source": [
                "## (Bonus) LayerNorm\n",
                "\n",
                "```c\n",
                "Difficulty: 🟠🟠🟠⚪⚪\n",
                "Importance: 🟠🟠🟠⚪⚪\n",
                "\n",
                "You should spend up to 10-15 minutes on this exercise.\n",
                "```\n",
                "\n",
                "You should fill in the code below, and then run the tests to verify that your layer is working correctly.\n",
                "\n",
                "Your LayerNorm should do the following:\n",
                "\n",
                "* Make mean 0\n",
                "* Normalize to have variance 1\n",
                "* Scale with learned weights\n",
                "* Translate with learned bias\n",
                "\n",
                "You can use the PyTorch [LayerNorm documentation](https://pytorch.org/docs/stable/generated/torch.nn.LayerNorm.html) as a reference. A few more notes:\n",
                "\n",
                "* Your layernorm implementation always has `affine=True`, i.e. you do learn parameters `w` and `b` (which are represented as $\\gamma$ and $\\beta$ respectively in the PyTorch documentation).\n",
                "* Remember that, after the centering and normalization, each vector of length `d_model` in your input should have mean 0 and variance 1.\n",
                "* As the PyTorch documentation page says, your variance should be computed using `unbiased=False`.\n",
                "* The `layer_norm_eps` argument in your config object corresponds to the $\\epsilon$ term in the PyTorch documentation (it is included to avoid division-by-zero errors).\n",
                "* We've given you a `debug` argument in your config. If `debug=True`, then you can print output like the shape of objects in your `forward` function to help you debug (this is a very useful trick to improve your coding speed)."
            ]
        },
        {
            "cell_type": "code",
            "execution_count": null,
            "metadata": {},
            "outputs": [],
            "source": [
                "class LayerNorm(nn.Module):\n",
                "    def __init__(self, cfg: Config):\n",
                "        super().__init__()\n",
                "        self.cfg = cfg\n",
                "        self.w = nn.Parameter(torch.ones(cfg.d_model))\n",
                "        self.b = nn.Parameter(torch.zeros(cfg.d_model))\n",
                "\n",
                "    def forward(\n",
                "        self, residual: Float[Tensor, \"batch token d_model\"]\n",
                "    ) -> Float[Tensor, \"batch token d_model\"]:\n",
                "        residual_mean = residual.mean(dim=-1, keepdim=True)\n",
                "        residual_std = (\n",
                "            residual.var(dim=-1, keepdim=True, unbiased=False) + self.cfg.layer_norm_eps\n",
                "        ).sqrt()\n",
                "\n",
                "        residual = (residual - residual_mean) / residual_std\n",
                "        return residual * self.w + self.b\n",
                "\n",
                "\n",
                "rand_float_test(LayerNorm, [2, 4, 768])\n",
                "load_gpt2_test(LayerNorm, reference_gpt2.ln_final, cache[\"resid_post\", 11])"
            ]
        },
        {
            "cell_type": "markdown",
            "metadata": {},
            "source": [
                "<details>\n",
                "<summary>Show solution</summary>\n",
                "\n",
                "```python\n",
                "class LayerNorm(nn.Module):\n",
                "    def __init__(self, cfg: Config):\n",
                "        super().__init__()\n",
                "        self.cfg = cfg\n",
                "        self.w = nn.Parameter(torch.ones(cfg.d_model))\n",
                "        self.b = nn.Parameter(torch.zeros(cfg.d_model))\n",
                "\n",
                "    def forward(\n",
                "        self, residual: Float[Tensor, \"batch token d_model\"]\n",
                "    ) -> Float[Tensor, \"batch token d_model\"]:\n",
                "        residual_mean = residual.mean(dim=-1, keepdim=True)\n",
                "        residual_std = (\n",
                "            residual.var(dim=-1, keepdim=True, unbiased=False) + self.cfg.layer_norm_eps\n",
                "        ).sqrt()\n",
                "\n",
                "        residual = (residual - residual_mean) / residual_std\n",
                "        return residual * self.w + self.b\n",
                "\n",
                "\n",
                "rand_float_test(LayerNorm, [2, 4, 768])\n",
                "load_gpt2_test(LayerNorm, reference_gpt2.ln_final, cache[\"resid_post\", 11])\n",
                "\n",
                "```\n",
                "\n",
                "</details>\n",
                "\n"
            ]
        },
        {
            "cell_type": "markdown",
            "metadata": {},
            "source": [
                "## Transformer Block\n",
                "\n",
                "```c\n",
                "Difficulty: 🟠🟠⚪⚪⚪\n",
                "Importance: 🟠🟠🟠⚪⚪\n",
                "\n",
                "You should spend up to ~10 minutes on this exercise.\n",
                "```\n",
                "\n",
                "Now, we can put together the attention, MLP and layernorms into a single transformer block. Remember to implement the residual connections correctly!\n"
            ]
        },
        {
            "cell_type": "code",
            "execution_count": null,
            "metadata": {},
            "outputs": [],
            "source": [
                "class TransformerBlock(nn.Module):\n",
                "    def __init__(self, cfg: Config):\n",
                "        super().__init__()\n",
                "        self.cfg = cfg\n",
                "        self.ln1 = LayerNorm(cfg)\n",
                "        self.attn = Attention(cfg)\n",
                "        self.ln2 = LayerNorm(cfg)\n",
                "        self.mlp = MLP(cfg)\n",
                "\n",
                "    def forward(\n",
                "        self, resid_pre: Float[Tensor, \"batch token d_model\"]\n",
                "    ) -> Float[Tensor, \"batch token d_model\"]:\n",
                "        # First, we add in the attention, but the residual stream needs to be normalized beforehand\n",
                "        ...  # TODO: ~7 words\n",
                "\n",
                "        # Then, we add in the MLP, again, the input of the MLP needs to be normalized beforehand\n",
                "        ...  # TODO: ~7 words\n",
                "\n",
                "        return resid_post\n",
                "\n",
                "\n",
                "rand_float_test(TransformerBlock, [2, 4, 768])\n",
                "load_gpt2_test(TransformerBlock, reference_gpt2.blocks[0], cache[\"resid_pre\", 0])"
            ]
        },
        {
            "cell_type": "markdown",
            "metadata": {},
            "source": [
                "<details>\n",
                "<summary>Show solution</summary>\n",
                "\n",
                "```python\n",
                "class TransformerBlock(nn.Module):\n",
                "    def __init__(self, cfg: Config):\n",
                "        super().__init__()\n",
                "        self.cfg = cfg\n",
                "        self.ln1 = LayerNorm(cfg)\n",
                "        self.attn = Attention(cfg)\n",
                "        self.ln2 = LayerNorm(cfg)\n",
                "        self.mlp = MLP(cfg)\n",
                "\n",
                "    def forward(\n",
                "        self, resid_pre: Float[Tensor, \"batch token d_model\"]\n",
                "    ) -> Float[Tensor, \"batch token d_model\"]:\n",
                "        # First, we add in the attention, but the residual stream needs to be normalized beforehand\n",
                "        resid_mid = resid_pre + self.attn(self.ln1(resid_pre))\n",
                "\n",
                "        # Then, we add in the MLP, again, the input of the MLP needs to be normalized beforehand\n",
                "        resid_post = resid_mid + self.mlp(self.ln2(resid_mid))\n",
                "\n",
                "        return resid_post\n",
                "\n",
                "\n",
                "rand_float_test(TransformerBlock, [2, 4, 768])\n",
                "load_gpt2_test(TransformerBlock, reference_gpt2.blocks[0], cache[\"resid_pre\", 0])\n",
                "\n",
                "```\n",
                "\n",
                "</details>\n",
                "\n"
            ]
        },
        {
            "cell_type": "markdown",
            "metadata": {},
            "source": [
                "## Unembedding\n",
                "\n",
                "```c\n",
                "Difficulty: 🟠🟠⚪⚪⚪\n",
                "Importance: 🟠🟠🟠⚪⚪\n",
                "\n",
                "You should spend up to ~10 minutes on this exercise.\n",
                "```\n",
                "\n",
                "The unembedding is jus a linear layer (with weight `W_U` and bias `b_U`).\n"
            ]
        },
        {
            "cell_type": "code",
            "execution_count": null,
            "metadata": {},
            "outputs": [],
            "source": [
                "class Unembed(nn.Module):\n",
                "    def __init__(self, cfg):\n",
                "        super().__init__()\n",
                "        self.cfg = cfg\n",
                "        self.W_U = nn.Parameter(torch.empty((cfg.d_model, cfg.d_vocab)))\n",
                "        nn.init.normal_(self.W_U, std=self.cfg.init_range)\n",
                "        self.b_U = nn.Parameter(torch.zeros((cfg.d_vocab), requires_grad=False))\n",
                "\n",
                "    def forward(\n",
                "        self, normalized_resid_final: Float[Tensor, \"batch token d_model\"]\n",
                "    ) -> Float[Tensor, \"batch token d_vocab\"]: ...  # TODO: ~16 words\n",
                "\n",
                "\n",
                "rand_float_test(Unembed, [2, 4, 768])\n",
                "load_gpt2_test(Unembed, reference_gpt2.unembed, cache[\"ln_final.hook_normalized\"])"
            ]
        },
        {
            "cell_type": "markdown",
            "metadata": {},
            "source": [
                "<details>\n",
                "<summary>Show solution</summary>\n",
                "\n",
                "```python\n",
                "class Unembed(nn.Module):\n",
                "    def __init__(self, cfg):\n",
                "        super().__init__()\n",
                "        self.cfg = cfg\n",
                "        self.W_U = nn.Parameter(torch.empty((cfg.d_model, cfg.d_vocab)))\n",
                "        nn.init.normal_(self.W_U, std=self.cfg.init_range)\n",
                "        self.b_U = nn.Parameter(torch.zeros((cfg.d_vocab), requires_grad=False))\n",
                "\n",
                "    def forward(\n",
                "        self, normalized_resid_final: Float[Tensor, \"batch token d_model\"]\n",
                "    ) -> Float[Tensor, \"batch token d_vocab\"]:\n",
                "        return (\n",
                "            einops.einsum(\n",
                "                normalized_resid_final,\n",
                "                self.W_U,\n",
                "                \"batch token d_model, d_model d_vocab -> batch token d_vocab\",\n",
                "            )\n",
                "            + self.b_U\n",
                "        )\n",
                "        # Or, could just do `normalized_resid_final @ self.W_U + self.b_U`\n",
                "\n",
                "\n",
                "rand_float_test(Unembed, [2, 4, 768])\n",
                "load_gpt2_test(Unembed, reference_gpt2.unembed, cache[\"ln_final.hook_normalized\"])\n",
                "\n",
                "```\n",
                "\n",
                "</details>\n",
                "\n"
            ]
        },
        {
            "cell_type": "markdown",
            "metadata": {},
            "source": [
                "## Full Transformer\n",
                "\n",
                "```c\n",
                "Difficulty: 🟠🟠⚪⚪⚪\n",
                "Importance: 🟠🟠🟠⚪⚪\n",
                "\n",
                "You should spend up to ~10 minutes on this exercise.\n",
                "```\n"
            ]
        },
        {
            "cell_type": "code",
            "execution_count": null,
            "metadata": {},
            "outputs": [],
            "source": [
                "class DemoTransformer(nn.Module):\n",
                "    def __init__(self, cfg: Config):\n",
                "        super().__init__()\n",
                "        self.cfg = cfg\n",
                "        self.embed = Embed(cfg)\n",
                "        self.pos_embed = PosEmbed(cfg)\n",
                "        self.blocks = nn.ModuleList([TransformerBlock(cfg) for _ in range(cfg.n_layers)])\n",
                "        self.ln_final = LayerNorm(cfg)\n",
                "        self.unembed = Unembed(cfg)\n",
                "\n",
                "    def forward(self, tokens: Int[Tensor, \"batch token\"]) -> Float[Tensor, \"batch token d_vocab\"]:\n",
                "        # Hint: modules are defined in the order they should be used\n",
                "        ...  # TODO: ~23 words\n",
                "\n",
                "\n",
                "rand_int_test(DemoTransformer, [2, 4])\n",
                "load_gpt2_test(DemoTransformer, reference_gpt2, tokens)"
            ]
        },
        {
            "cell_type": "markdown",
            "metadata": {},
            "source": [
                "<details>\n",
                "<summary>Show solution</summary>\n",
                "\n",
                "```python\n",
                "class DemoTransformer(nn.Module):\n",
                "    def __init__(self, cfg: Config):\n",
                "        super().__init__()\n",
                "        self.cfg = cfg\n",
                "        self.embed = Embed(cfg)\n",
                "        self.pos_embed = PosEmbed(cfg)\n",
                "        self.blocks = nn.ModuleList([TransformerBlock(cfg) for _ in range(cfg.n_layers)])\n",
                "        self.ln_final = LayerNorm(cfg)\n",
                "        self.unembed = Unembed(cfg)\n",
                "\n",
                "    def forward(self, tokens: Int[Tensor, \"batch token\"]) -> Float[Tensor, \"batch token d_vocab\"]:\n",
                "        # Hint: modules are defined in the order they should be used\n",
                "        residual = self.embed(tokens) + self.pos_embed(tokens)\n",
                "        for block in self.blocks:\n",
                "            residual = block(residual)\n",
                "        logits = self.unembed(self.ln_final(residual))\n",
                "        return logits\n",
                "\n",
                "\n",
                "rand_int_test(DemoTransformer, [2, 4])\n",
                "load_gpt2_test(DemoTransformer, reference_gpt2, tokens)\n",
                "\n",
                "```\n",
                "\n",
                "</details>\n",
                "\n"
            ]
        },
        {
            "cell_type": "markdown",
            "metadata": {},
            "source": [
                "**Try it out!**\n"
            ]
        },
        {
            "cell_type": "code",
            "execution_count": null,
            "metadata": {},
            "outputs": [],
            "source": [
                "demo_gpt2 = DemoTransformer(Config(debug=False)).to(device)\n",
                "demo_gpt2.load_state_dict(reference_gpt2.state_dict(), strict=False)\n",
                "\n",
                "demo_logits = demo_gpt2(tokens)"
            ]
        },
        {
            "cell_type": "markdown",
            "metadata": {},
            "source": [
                "Let's take a test string, and calculate the loss!\n",
                "\n",
                "We're using the formula for **cross-entropy loss**. The cross entropy loss between a modelled distribution $Q$ and target distribution $P$ is:\n",
                "\n",
                "$$\n",
                "-\\sum_x P(x) \\log Q(x)\n",
                "$$\n",
                "\n",
                "In the case where $P$ is just the empirical distribution from target classes (i.e. $P(x^*) = 1$ for the correct class $x^*$) then this becomes:\n",
                "\n",
                "$$\n",
                "-\\log Q(x^*)\n",
                "$$\n",
                "\n",
                "in other words, the negative log prob of the true classification.\n"
            ]
        },
        {
            "cell_type": "code",
            "execution_count": null,
            "metadata": {},
            "outputs": [],
            "source": [
                "def get_log_probs(\n",
                "    logits: Float[Tensor, \"batch posn d_vocab\"], tokens: Int[Tensor, \"batch posn\"]\n",
                ") -> Float[Tensor, \"batch posn-1\"]:\n",
                "    log_probs = logits.log_softmax(dim=-1)\n",
                "    # Get logprobs the first seq_len-1 predictions (so we can compare them with the actual next tokens)\n",
                "    log_probs_for_tokens = (\n",
                "        log_probs[:, :-1].gather(dim=-1, index=tokens[:, 1:].unsqueeze(-1)).squeeze(-1)\n",
                "    )\n",
                "\n",
                "    return log_probs_for_tokens\n",
                "\n",
                "\n",
                "pred_log_probs = get_log_probs(demo_logits, tokens)\n",
                "print(f\"Avg cross entropy loss: {-pred_log_probs.mean():.4f}\")\n",
                "print(f\"Avg cross entropy loss for uniform distribution: {math.log(demo_gpt2.cfg.d_vocab):4f}\")\n",
                "print(f\"Avg probability assigned to correct token: {pred_log_probs.exp().mean():4f}\")"
            ]
        },
        {
            "cell_type": "markdown",
            "metadata": {},
            "source": [
                "<details>\n",
                "<summary>Show solution</summary>\n",
                "\n",
                "```python\n",
                "def get_log_probs(\n",
                "    logits: Float[Tensor, \"batch posn d_vocab\"], tokens: Int[Tensor, \"batch posn\"]\n",
                ") -> Float[Tensor, \"batch posn-1\"]:\n",
                "    log_probs = logits.log_softmax(dim=-1)\n",
                "    # Get logprobs the first seq_len-1 predictions (so we can compare them with the actual next tokens)\n",
                "    log_probs_for_tokens = (\n",
                "        log_probs[:, :-1].gather(dim=-1, index=tokens[:, 1:].unsqueeze(-1)).squeeze(-1)\n",
                "    )\n",
                "\n",
                "    return log_probs_for_tokens\n",
                "\n",
                "\n",
                "pred_log_probs = get_log_probs(demo_logits, tokens)\n",
                "print(f\"Avg cross entropy loss: {-pred_log_probs.mean():.4f}\")\n",
                "print(f\"Avg cross entropy loss for uniform distribution: {math.log(demo_gpt2.cfg.d_vocab):4f}\")\n",
                "print(f\"Avg probability assigned to correct token: {pred_log_probs.exp().mean():4f}\")\n",
                "\n",
                "```\n",
                "\n",
                "</details>\n",
                "\n"
            ]
        },
        {
            "cell_type": "markdown",
            "metadata": {},
            "source": [
                "We can also greedily generate text, by taking the most likely next token and continually appending it to our prompt before feeding it back into the model:\n"
            ]
        },
        {
            "cell_type": "code",
            "execution_count": null,
            "metadata": {},
            "outputs": [],
            "source": [
                "test_string = (\n",
                "    \"\"\"The Total Perspective Vortex derives its picture of the whole Universe on the principle of\"\"\"\n",
                ")\n",
                "for i in tqdm(range(100)):\n",
                "    test_tokens = reference_gpt2.to_tokens(test_string).to(device)\n",
                "    demo_logits = demo_gpt2(test_tokens)\n",
                "    test_string += reference_gpt2.tokenizer.decode(demo_logits[-1, -1].argmax())\n",
                "\n",
                "print(test_string)"
            ]
        },
        {
            "cell_type": "markdown",
            "metadata": {},
            "source": [
                "If you've finished this, congrats! \n",
                "You should ask the TA what to do next. One option is \n",
                "to look at training and sampling from tranformers in the rest of the arena notebook, which you can find it at https://colab.research.google.com/github/EffiSciencesResearch/ML4G-2.0/blob/master/workshops/transformer/transformer-arena.ipynb."
            ]
        }
    ],
    "metadata": {
        "kernelspec": {
            "display_name": ".env",
            "language": "python",
            "name": "python3"
        },
        "language_info": {
            "codemirror_mode": {
                "name": "ipython",
                "version": 3
            },
            "file_extension": ".py",
            "mimetype": "text/x-python",
            "name": "python",
            "nbconvert_exporter": "python",
            "pygments_lexer": "ipython3",
            "version": "3.12.6"
        }
    },
    "nbformat": 4,
    "nbformat_minor": 2
}
